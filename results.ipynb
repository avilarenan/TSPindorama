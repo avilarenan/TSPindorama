{
 "cells": [
  {
   "cell_type": "code",
   "execution_count": 6,
   "id": "97ddc53f",
   "metadata": {},
   "outputs": [
    {
     "data": {
      "application/vnd.microsoft.datawrangler.viewer.v0+json": {
       "columns": [
        {
         "name": "index",
         "rawType": "int64",
         "type": "integer"
        },
        {
         "name": "mse",
         "rawType": "float64",
         "type": "float"
        },
        {
         "name": "model_name",
         "rawType": "object",
         "type": "string"
        },
        {
         "name": "pred_len",
         "rawType": "int64",
         "type": "integer"
        },
        {
         "name": "pwindow",
         "rawType": "object",
         "type": "unknown"
        },
        {
         "name": "pconstructor",
         "rawType": "object",
         "type": "string"
        },
        {
         "name": "dataset",
         "rawType": "object",
         "type": "string"
        }
       ],
       "ref": "5739f4c6-17bf-4cb3-9adc-86811c00e12a",
       "rows": [
        [
         "0",
         "0.029946666",
         "iTransformer",
         "96",
         "1501",
         "ipmutual",
         "ETTm1"
        ],
        [
         "0",
         "0.029960724",
         "iTransformer",
         "96",
         "1001",
         "prollcorr.csv",
         "ETTm1"
        ],
        [
         "0",
         "0.029963851",
         "iTransformer",
         "96",
         "751",
         "iprollcov.csv",
         "ETTm1"
        ],
        [
         "0",
         "0.029965686",
         "iTransformer",
         "96",
         "751",
         "ipmutual",
         "ETTm1"
        ],
        [
         "0",
         "0.02996926",
         "iTransformer",
         "96",
         "1501",
         "ipfarm.csv",
         "ETTm1"
        ],
        [
         "0",
         "0.02998923",
         "iTransformer",
         "96",
         "1251",
         "ipfarm.csv",
         "ETTm1"
        ],
        [
         "0",
         "0.029994188",
         "iTransformer",
         "96",
         "1001",
         "ipmutual",
         "ETTm1"
        ],
        [
         "0",
         "0.029997889",
         "iTransformer",
         "96",
         "1251",
         "pentropy.csv",
         "ETTm1"
        ],
        [
         "0",
         "0.030014845",
         "iTransformer",
         "96",
         "501",
         "pfarm.csv",
         "ETTm1"
        ],
        [
         "0",
         "0.030022437",
         "iTransformer",
         "96",
         "1501",
         "prollcov.csv",
         "ETTm1"
        ],
        [
         "0",
         "0.030055441",
         "iTransformer",
         "96",
         "501",
         "iprollcorr.csv",
         "ETTm1"
        ],
        [
         "0",
         "0.030111939",
         "iTransformer",
         "96",
         "1001",
         "ipentropy.csv",
         "ETTm1"
        ],
        [
         "0",
         "0.030173259",
         "iTransformer",
         "96",
         "501",
         "ipentropy.csv",
         "ETTm1"
        ],
        [
         "0",
         "0.030220237",
         "iTransformer",
         "96",
         "1251",
         "ipentropy.csv",
         "ETTm1"
        ],
        [
         "0",
         "0.030240757",
         "iTransformer",
         "96",
         "501",
         "prollcorr.csv",
         "ETTm1"
        ],
        [
         "0",
         "0.030329531",
         "iTransformer",
         "96",
         "1001",
         "prollcov.csv",
         "ETTm1"
        ],
        [
         "0",
         "0.030344015",
         "iTransformer",
         "96",
         "1501",
         "pfarm.csv",
         "ETTm1"
        ],
        [
         "0",
         "0.030349141",
         "iTransformer",
         "96",
         "1501",
         "ipentropy.csv",
         "ETTm1"
        ],
        [
         "0",
         "0.030367471",
         "iTransformer",
         "96",
         "1001",
         "pentropy.csv",
         "ETTm1"
        ],
        [
         "0",
         "0.030397011",
         "iTransformer",
         "96",
         null,
         "identity",
         "ETTm1"
        ],
        [
         "0",
         "0.030412856",
         "iTransformer",
         "96",
         "1001",
         "ipfarm.csv",
         "ETTm1"
        ],
        [
         "0",
         "0.030427411",
         "iTransformer",
         "96",
         "751",
         "ipfarm.csv",
         "ETTm1"
        ],
        [
         "0",
         "0.0304701",
         "iTransformer",
         "96",
         "1001",
         "iprollcov.csv",
         "ETTm1"
        ],
        [
         "0",
         "0.03048421",
         "iTransformer",
         "96",
         "1501",
         "iprollcorr.csv",
         "ETTm1"
        ],
        [
         "0",
         "0.030486511",
         "iTransformer",
         "96",
         "1251",
         "iprollcorr.csv",
         "ETTm1"
        ],
        [
         "0",
         "0.030493809",
         "iTransformer",
         "96",
         "1251",
         "ipmutual",
         "ETTm1"
        ],
        [
         "0",
         "0.030529145",
         "iTransformer",
         "96",
         "751",
         "ipentropy.csv",
         "ETTm1"
        ],
        [
         "0",
         "0.0305378",
         "iTransformer",
         "96",
         "501",
         "prollcov.csv",
         "ETTm1"
        ],
        [
         "0",
         "0.03055125",
         "iTransformer",
         "96",
         "1251",
         "iprollcov.csv",
         "ETTm1"
        ],
        [
         "0",
         "0.030577896",
         "iTransformer",
         "96",
         "501",
         "iprollcov.csv",
         "ETTm1"
        ],
        [
         "0",
         "0.030594692",
         "iTransformer",
         "96",
         "1501",
         "iprollcov.csv",
         "ETTm1"
        ],
        [
         "0",
         "0.030709159",
         "iTransformer",
         "96",
         "1251",
         "pfarm.csv",
         "ETTm1"
        ],
        [
         "0",
         "0.030724127",
         "iTransformer",
         "96",
         "1001",
         "iprollcorr.csv",
         "ETTm1"
        ],
        [
         "0",
         "0.030753285",
         "iTransformer",
         "96",
         "501",
         "ipfarm.csv",
         "ETTm1"
        ],
        [
         "0",
         "0.030782888",
         "iTransformer",
         "96",
         "751",
         "pentropy.csv",
         "ETTm1"
        ],
        [
         "0",
         "0.030819476",
         "iTransformer",
         "96",
         "751",
         "prollcorr.csv",
         "ETTm1"
        ],
        [
         "0",
         "0.030839954",
         "iTransformer",
         "96",
         "501",
         "ipmutual",
         "ETTm1"
        ],
        [
         "0",
         "0.030870965",
         "iTransformer",
         "96",
         "1501",
         "prollcorr.csv",
         "ETTm1"
        ],
        [
         "0",
         "0.030877393",
         "iTransformer",
         "96",
         "1001",
         "pfarm.csv",
         "ETTm1"
        ],
        [
         "0",
         "0.030877752",
         "iTransformer",
         "96",
         "751",
         "iprollcorr.csv",
         "ETTm1"
        ],
        [
         "0",
         "0.030901056",
         "iTransformer",
         "96",
         "1251",
         "pmutual",
         "ETTm1"
        ],
        [
         "0",
         "0.030927228",
         "iTransformer",
         "96",
         "751",
         "prollcov.csv",
         "ETTm1"
        ],
        [
         "0",
         "0.030930912",
         "iTransformer",
         "96",
         "751",
         "pfarm.csv",
         "ETTm1"
        ],
        [
         "0",
         "0.0309632",
         "iTransformer",
         "96",
         "1501",
         "pentropy.csv",
         "ETTm1"
        ],
        [
         "0",
         "0.030973988",
         "iTransformer",
         "96",
         "501",
         "pentropy.csv",
         "ETTm1"
        ],
        [
         "0",
         "0.03108728",
         "iTransformer",
         "96",
         "1251",
         "prollcorr.csv",
         "ETTm1"
        ],
        [
         "0",
         "0.03118261",
         "iTransformer",
         "96",
         "1501",
         "pmutual",
         "ETTm1"
        ],
        [
         "0",
         "0.031202435",
         "iTransformer",
         "96",
         "1251",
         "prollcov.csv",
         "ETTm1"
        ],
        [
         "0",
         "0.031231979",
         "iTransformer",
         "96",
         "1001",
         "pmutual",
         "ETTm1"
        ],
        [
         "0",
         "0.031245897",
         "iTransformer",
         "96",
         "751",
         "pmutual",
         "ETTm1"
        ]
       ],
       "shape": {
        "columns": 6,
        "rows": 218
       }
      },
      "text/html": [
       "<div>\n",
       "<style scoped>\n",
       "    .dataframe tbody tr th:only-of-type {\n",
       "        vertical-align: middle;\n",
       "    }\n",
       "\n",
       "    .dataframe tbody tr th {\n",
       "        vertical-align: top;\n",
       "    }\n",
       "\n",
       "    .dataframe thead th {\n",
       "        text-align: right;\n",
       "    }\n",
       "</style>\n",
       "<table border=\"1\" class=\"dataframe\">\n",
       "  <thead>\n",
       "    <tr style=\"text-align: right;\">\n",
       "      <th></th>\n",
       "      <th>mse</th>\n",
       "      <th>model_name</th>\n",
       "      <th>pred_len</th>\n",
       "      <th>pwindow</th>\n",
       "      <th>pconstructor</th>\n",
       "      <th>dataset</th>\n",
       "    </tr>\n",
       "  </thead>\n",
       "  <tbody>\n",
       "    <tr>\n",
       "      <th>0</th>\n",
       "      <td>0.029947</td>\n",
       "      <td>iTransformer</td>\n",
       "      <td>96</td>\n",
       "      <td>1501</td>\n",
       "      <td>ipmutual</td>\n",
       "      <td>ETTm1</td>\n",
       "    </tr>\n",
       "    <tr>\n",
       "      <th>0</th>\n",
       "      <td>0.029961</td>\n",
       "      <td>iTransformer</td>\n",
       "      <td>96</td>\n",
       "      <td>1001</td>\n",
       "      <td>prollcorr.csv</td>\n",
       "      <td>ETTm1</td>\n",
       "    </tr>\n",
       "    <tr>\n",
       "      <th>0</th>\n",
       "      <td>0.029964</td>\n",
       "      <td>iTransformer</td>\n",
       "      <td>96</td>\n",
       "      <td>751</td>\n",
       "      <td>iprollcov.csv</td>\n",
       "      <td>ETTm1</td>\n",
       "    </tr>\n",
       "    <tr>\n",
       "      <th>0</th>\n",
       "      <td>0.029966</td>\n",
       "      <td>iTransformer</td>\n",
       "      <td>96</td>\n",
       "      <td>751</td>\n",
       "      <td>ipmutual</td>\n",
       "      <td>ETTm1</td>\n",
       "    </tr>\n",
       "    <tr>\n",
       "      <th>0</th>\n",
       "      <td>0.029969</td>\n",
       "      <td>iTransformer</td>\n",
       "      <td>96</td>\n",
       "      <td>1501</td>\n",
       "      <td>ipfarm.csv</td>\n",
       "      <td>ETTm1</td>\n",
       "    </tr>\n",
       "    <tr>\n",
       "      <th>...</th>\n",
       "      <td>...</td>\n",
       "      <td>...</td>\n",
       "      <td>...</td>\n",
       "      <td>...</td>\n",
       "      <td>...</td>\n",
       "      <td>...</td>\n",
       "    </tr>\n",
       "    <tr>\n",
       "      <th>0</th>\n",
       "      <td>0.292702</td>\n",
       "      <td>iTransformer</td>\n",
       "      <td>96</td>\n",
       "      <td>501</td>\n",
       "      <td>prollcov.csv</td>\n",
       "      <td>ECL</td>\n",
       "    </tr>\n",
       "    <tr>\n",
       "      <th>0</th>\n",
       "      <td>0.295578</td>\n",
       "      <td>iTransformer</td>\n",
       "      <td>96</td>\n",
       "      <td>1001</td>\n",
       "      <td>iprollcov.csv</td>\n",
       "      <td>ECL</td>\n",
       "    </tr>\n",
       "    <tr>\n",
       "      <th>0</th>\n",
       "      <td>0.302843</td>\n",
       "      <td>iTransformer</td>\n",
       "      <td>96</td>\n",
       "      <td>1251</td>\n",
       "      <td>iprollcov.csv</td>\n",
       "      <td>ECL</td>\n",
       "    </tr>\n",
       "    <tr>\n",
       "      <th>0</th>\n",
       "      <td>0.317247</td>\n",
       "      <td>iTransformer</td>\n",
       "      <td>96</td>\n",
       "      <td>751</td>\n",
       "      <td>iprollcov.csv</td>\n",
       "      <td>ECL</td>\n",
       "    </tr>\n",
       "    <tr>\n",
       "      <th>0</th>\n",
       "      <td>0.320625</td>\n",
       "      <td>iTransformer</td>\n",
       "      <td>96</td>\n",
       "      <td>501</td>\n",
       "      <td>iprollcorr.csv</td>\n",
       "      <td>ECL</td>\n",
       "    </tr>\n",
       "  </tbody>\n",
       "</table>\n",
       "<p>218 rows × 6 columns</p>\n",
       "</div>"
      ],
      "text/plain": [
       "         mse    model_name  pred_len pwindow    pconstructor dataset\n",
       "0   0.029947  iTransformer        96    1501        ipmutual   ETTm1\n",
       "0   0.029961  iTransformer        96    1001   prollcorr.csv   ETTm1\n",
       "0   0.029964  iTransformer        96     751   iprollcov.csv   ETTm1\n",
       "0   0.029966  iTransformer        96     751        ipmutual   ETTm1\n",
       "0   0.029969  iTransformer        96    1501      ipfarm.csv   ETTm1\n",
       "..       ...           ...       ...     ...             ...     ...\n",
       "0   0.292702  iTransformer        96     501    prollcov.csv     ECL\n",
       "0   0.295578  iTransformer        96    1001   iprollcov.csv     ECL\n",
       "0   0.302843  iTransformer        96    1251   iprollcov.csv     ECL\n",
       "0   0.317247  iTransformer        96     751   iprollcov.csv     ECL\n",
       "0   0.320625  iTransformer        96     501  iprollcorr.csv     ECL\n",
       "\n",
       "[218 rows x 6 columns]"
      ]
     },
     "execution_count": 6,
     "metadata": {},
     "output_type": "execute_result"
    }
   ],
   "source": [
    "import os\n",
    "import pandas as pd\n",
    "pd.options.plotting.backend = \"plotly\"\n",
    "import re\n",
    "\n",
    "list_of_metrics_dfs = []\n",
    "directory_path = \"./results\"\n",
    "for root, dirs, files in os.walk(directory_path):\n",
    "    for dir_name in dirs:\n",
    "        df = pd.read_csv(f\"{os.path.join(root, dir_name)}/_metrics.csv\")\n",
    "\n",
    "        df[\"exp_name\"] = dir_name\n",
    "\n",
    "        # example1: long_term_forecast_ETTh1_96_96ETTh1_TiDE_ETTh1_ftMS_sl96_ll48_pl96_dm256_nh8_el2_dl2_df256_expand2_dc4_fc1_ebtimeF_dtTrue_test_0 \n",
    "        # example2: long_term_forecast_ETTh1_96_96ETTh1_w501_ipentropy_TiDE_ETTh1_ftMS_sl96_ll48_pl96_dm256_nh8_el2_dl2_df256_expand2_dc4_fc1_ebtimeF_dtTrue_test_0\n",
    "        \n",
    "        split_index = dir_name.index(\"_ft\")\n",
    "        model_name = dir_name[:split_index].split(\"_\")[-2]\n",
    "        df[\"model_name\"] = model_name\n",
    "\n",
    "        try:\n",
    "            split_index = dir_name.index(\"_w\")\n",
    "            pwindow = int(dir_name[split_index+1:].split(\"_\")[0][1:])\n",
    "            pconstructor = dir_name[split_index+1:].split(\"_\")[1]\n",
    "        except Exception as e:\n",
    "            pwindow = None\n",
    "            if \"duplicated\" in dir_name:\n",
    "                pconstructor = \"duplicated\"\n",
    "            elif \"zeroed\" in dir_name:\n",
    "                pconstructor = \"zeroed\"\n",
    "            else:\n",
    "                pconstructor = \"identity\"\n",
    "        \n",
    "        pred_len = dir_name.split(\"long_term_forecast\")[1].split(\"_\")[2]\n",
    "        df[\"pred_len\"] = int(pred_len)\n",
    "        lookback_len = dir_name.split(\"long_term_forecast\")[1].split(\"_\")[3]\n",
    "        lookback_len_cleaned = \"\"\n",
    "        for character in lookback_len:\n",
    "            if character.isdigit():\n",
    "                lookback_len_cleaned += character\n",
    "            else:\n",
    "                break\n",
    "        \n",
    "        df[\"lookback_len\"] = int(lookback_len_cleaned)\n",
    "\n",
    "        df[\"pwindow\"] = pwindow\n",
    "        df[\"pconstructor\"] = pconstructor\n",
    "\n",
    "        df[\"dataset\"] = dir_name[dir_name.find(\"96ETTh1\")+7: dir_name.find(\"_ft\")].split(\"_\")[-1]\n",
    "\n",
    "        list_of_metrics_dfs += [df]\n",
    "\n",
    "results_df = pd.concat(list_of_metrics_dfs).sort_values(by=\"mse\", ascending=True)\n",
    "\n",
    "# print(results_df[\"model_name\"].unique())\n",
    "# print(results_df[\"pconstructor\"].unique())\n",
    "# print(results_df[\"pwindow\"].unique())\n",
    "\n",
    "# results_df = results_df[\n",
    "#     (results_df[\"pconstructor\"] == \"identity\") & \n",
    "#     (results_df[\"pred_len\"] == 96)\n",
    "#     # (results_df[\"model_name\"] == \"TiDE\")\n",
    "# ]\n",
    "\n",
    "\n",
    "results_df[[\"mse\", \"model_name\", \"pred_len\", \"pwindow\", \"pconstructor\", \"dataset\"]].sort_values(\"mse\")\n",
    "# results_df"
   ]
  },
  {
   "cell_type": "code",
   "execution_count": 60,
   "id": "4dd3c578",
   "metadata": {},
   "outputs": [
    {
     "name": "stdout",
     "output_type": "stream",
     "text": [
      "PatchTST: 10 better than identity | 42 worse than identity\n",
      "TiDE: 0 better than identity | 30 worse than identity\n",
      "iTransformer: 2 better than identity | 37 worse than identity\n",
      "TimesNet: 18 better than identity | 62 worse than identity\n",
      "TimeXer: 33 better than identity | 48 worse than identity\n",
      "DLinear: 0 better than identity | 0 worse than identity\n"
     ]
    }
   ],
   "source": [
    "# count how many rows show better mse results than the identity baseline for each model\n",
    "for model_name in results_df[\"model_name\"].unique():\n",
    "    model_df = results_df[results_df[\"model_name\"] == model_name]\n",
    "    identity_df = model_df[model_df[\"pconstructor\"] == \"identity\"]\n",
    "    if not identity_df.empty:\n",
    "        identity_mse = identity_df[\"mse\"].values[0]\n",
    "        better_than_identity_count = (model_df[\"mse\"] < identity_mse).sum()\n",
    "        worse_than_identity_count = (model_df[\"mse\"] > identity_mse).sum()\n",
    "        print(f\"{model_name}: {better_than_identity_count} better than identity | {worse_than_identity_count} worse than identity\")\n",
    "    else:\n",
    "        print(f\"{model_name}: No identity baseline found\")\n"
   ]
  },
  {
   "cell_type": "code",
   "execution_count": 61,
   "id": "1edf4bd4",
   "metadata": {},
   "outputs": [
    {
     "name": "stdout",
     "output_type": "stream",
     "text": [
      "TiDE: No enhancements found\n",
      "DLinear: No enhancements found\n"
     ]
    },
    {
     "data": {
      "application/vnd.microsoft.datawrangler.viewer.v0+json": {
       "columns": [
        {
         "name": "index",
         "rawType": "int64",
         "type": "integer"
        },
        {
         "name": "mae",
         "rawType": "float64",
         "type": "float"
        },
        {
         "name": "mse",
         "rawType": "float64",
         "type": "float"
        },
        {
         "name": "rmse",
         "rawType": "float64",
         "type": "float"
        },
        {
         "name": "mape",
         "rawType": "float64",
         "type": "float"
        },
        {
         "name": "mspe",
         "rawType": "float64",
         "type": "float"
        },
        {
         "name": "exp_name",
         "rawType": "object",
         "type": "string"
        },
        {
         "name": "model_name",
         "rawType": "object",
         "type": "string"
        },
        {
         "name": "pred_len",
         "rawType": "int64",
         "type": "integer"
        },
        {
         "name": "lookback_len",
         "rawType": "int64",
         "type": "integer"
        },
        {
         "name": "pwindow",
         "rawType": "object",
         "type": "unknown"
        },
        {
         "name": "pconstructor",
         "rawType": "object",
         "type": "string"
        }
       ],
       "ref": "d2c1883e-4bbf-4305-8c44-cbbd58ab12cb",
       "rows": [
        [
         "0",
         "0.17778584",
         "0.05551528",
         "0.23561682",
         "0.13882053",
         "0.034883432",
         "long_term_forecast_ETTh1_96_96ETTh1_w1501_prollcov_PatchTST_ETTh1_ftMS_sl96_ll48_pl96_dm512_nh2_el1_dl1_df2048_expand2_dc4_fc3_ebtimeF_dtTrue_Exp_0",
         "PatchTST",
         "96",
         "96",
         "1501",
         "prollcov"
        ],
        [
         "0",
         "0.17787312",
         "0.055548433",
         "0.23568715",
         "0.1389083",
         "0.034924712",
         "long_term_forecast_ETTh1_96_96ETTh1_w1001_prollcov_PatchTST_ETTh1_ftMS_sl96_ll48_pl96_dm512_nh2_el1_dl1_df2048_expand2_dc4_fc3_ebtimeF_dtTrue_Exp_0",
         "PatchTST",
         "96",
         "96",
         "1001",
         "prollcov"
        ],
        [
         "0",
         "0.17780653",
         "0.05555623",
         "0.23570369",
         "0.13880353",
         "0.03486657",
         "long_term_forecast_ETTh1_96_96ETTh1_w1001_pentropy_PatchTST_ETTh1_ftMS_sl96_ll48_pl96_dm512_nh2_el1_dl1_df2048_expand2_dc4_fc3_ebtimeF_dtTrue_Exp_0",
         "PatchTST",
         "96",
         "96",
         "1001",
         "pentropy"
        ],
        [
         "0",
         "0.17779675",
         "0.05556075",
         "0.23571327",
         "0.13878426",
         "0.03485851",
         "long_term_forecast_ETTh1_96_96ETTh1_w1501_ipfarm_PatchTST_ETTh1_ftMS_sl96_ll48_pl96_dm512_nh2_el1_dl1_df2048_expand2_dc4_fc3_ebtimeF_dtTrue_Exp_0",
         "PatchTST",
         "96",
         "96",
         "1501",
         "ipfarm"
        ],
        [
         "0",
         "0.17781183",
         "0.05556131",
         "0.23571447",
         "0.13881952",
         "0.034882296",
         "long_term_forecast_ETTh1_96_96ETTh1_w751_ipfarm_PatchTST_ETTh1_ftMS_sl96_ll48_pl96_dm512_nh2_el1_dl1_df2048_expand2_dc4_fc3_ebtimeF_dtTrue_Exp_0",
         "PatchTST",
         "96",
         "96",
         "751",
         "ipfarm"
        ],
        [
         "0",
         "0.17780991",
         "0.055563256",
         "0.2357186",
         "0.1387968",
         "0.03486168",
         "long_term_forecast_ETTh1_96_96ETTh1_w1251_ipfarm_PatchTST_ETTh1_ftMS_sl96_ll48_pl96_dm512_nh2_el1_dl1_df2048_expand2_dc4_fc3_ebtimeF_dtTrue_Exp_0",
         "PatchTST",
         "96",
         "96",
         "1251",
         "ipfarm"
        ],
        [
         "0",
         "0.1778121",
         "0.05556385",
         "0.23571984",
         "0.13879733",
         "0.034861647",
         "long_term_forecast_ETTh1_96_96ETTh1_w751_ipentropy_PatchTST_ETTh1_ftMS_sl96_ll48_pl96_dm512_nh2_el1_dl1_df2048_expand2_dc4_fc3_ebtimeF_dtTrue_Exp_0",
         "PatchTST",
         "96",
         "96",
         "751",
         "ipentropy"
        ],
        [
         "0",
         "0.1778116",
         "0.055563975",
         "0.23572011",
         "0.13879228",
         "0.034856193",
         "long_term_forecast_ETTh1_96_96ETTh1_w1251_ipentropy_PatchTST_ETTh1_ftMS_sl96_ll48_pl96_dm512_nh2_el1_dl1_df2048_expand2_dc4_fc3_ebtimeF_dtTrue_Exp_0",
         "PatchTST",
         "96",
         "96",
         "1251",
         "ipentropy"
        ],
        [
         "0",
         "0.17780805",
         "0.05556556",
         "0.23572348",
         "0.13879512",
         "0.034863666",
         "long_term_forecast_ETTh1_96_96ETTh1_w1501_pentropy_PatchTST_ETTh1_ftMS_sl96_ll48_pl96_dm512_nh2_el1_dl1_df2048_expand2_dc4_fc3_ebtimeF_dtTrue_Exp_0",
         "PatchTST",
         "96",
         "96",
         "1501",
         "pentropy"
        ],
        [
         "0",
         "0.17781489",
         "0.055565797",
         "0.23572399",
         "0.13879986",
         "0.03486339",
         "long_term_forecast_ETTh1_96_96ETTh1_w501_ipentropy_PatchTST_ETTh1_ftMS_sl96_ll48_pl96_dm512_nh2_el1_dl1_df2048_expand2_dc4_fc3_ebtimeF_dtTrue_Exp_0",
         "PatchTST",
         "96",
         "96",
         "501",
         "ipentropy"
        ],
        [
         "0",
         "0.18198086",
         "0.056349028",
         "0.2373795",
         "0.14364667",
         "0.038187597",
         "long_term_forecast_ETTh1_96_96ETTh1_w751_pmutual_info_iTransformer_ETTh1_ftMS_sl96_ll48_pl96_dm128_nh8_el2_dl1_df128_expand2_dc4_fc3_ebtimeF_dtTrue_Exp_0",
         "iTransformer",
         "96",
         "96",
         "751",
         "pmutual"
        ],
        [
         "0",
         "0.18272328",
         "0.05664438",
         "0.2380008",
         "0.1447689",
         "0.038949847",
         "long_term_forecast_ETTh1_96_96ETTh1_w1251_ipentropy_iTransformer_ETTh1_ftMS_sl96_ll48_pl96_dm128_nh8_el2_dl1_df128_expand2_dc4_fc3_ebtimeF_dtTrue_Exp_0",
         "iTransformer",
         "96",
         "96",
         "1251",
         "ipentropy"
        ],
        [
         "0",
         "0.18306656",
         "0.05681081",
         "0.23835018",
         "0.14474174",
         "0.037809208",
         "long_term_forecast_ETTh1_96_96ETTh1_w751_prollcorr_TimesNet_ETTh1_ftMS_sl96_ll48_pl96_dm16_nh8_el2_dl1_df32_expand2_dc4_fc3_ebtimeF_dtTrue_Exp_0",
         "TimesNet",
         "96",
         "96",
         "751",
         "prollcorr"
        ],
        [
         "0",
         "0.18369561",
         "0.057204742",
         "0.23917513",
         "0.14506702",
         "0.037965287",
         "long_term_forecast_ETTh1_96_96ETTh1_w751_prollcov_TimesNet_ETTh1_ftMS_sl96_ll48_pl96_dm16_nh8_el2_dl1_df32_expand2_dc4_fc3_ebtimeF_dtTrue_Exp_0",
         "TimesNet",
         "96",
         "96",
         "751",
         "prollcov"
        ],
        [
         "0",
         "0.18419836",
         "0.05729959",
         "0.23937333",
         "0.14565386",
         "0.038162474",
         "long_term_forecast_ETTh1_96_96ETTh1_w1501_pfarm_TimesNet_ETTh1_ftMS_sl96_ll48_pl96_dm16_nh8_el2_dl1_df32_expand2_dc4_fc3_ebtimeF_dtTrue_Exp_0",
         "TimesNet",
         "96",
         "96",
         "1501",
         "pfarm"
        ],
        [
         "0",
         "0.18430173",
         "0.05733961",
         "0.2394569",
         "0.14572686",
         "0.03821915",
         "long_term_forecast_ETTh1_96_96ETTh1_w751_pentropy_TimesNet_ETTh1_ftMS_sl96_ll48_pl96_dm16_nh8_el2_dl1_df32_expand2_dc4_fc3_ebtimeF_dtTrue_Exp_0",
         "TimesNet",
         "96",
         "96",
         "751",
         "pentropy"
        ],
        [
         "0",
         "0.18415144",
         "0.057354406",
         "0.2394878",
         "0.14547436",
         "0.03802856",
         "long_term_forecast_ETTh1_96_96ETTh1_w1251_ipfarm_TimesNet_ETTh1_ftMS_sl96_ll48_pl96_dm16_nh8_el2_dl1_df32_expand2_dc4_fc3_ebtimeF_dtTrue_Exp_0",
         "TimesNet",
         "96",
         "96",
         "1251",
         "ipfarm"
        ],
        [
         "0",
         "0.18426536",
         "0.057366963",
         "0.23951401",
         "0.14566821",
         "0.038141944",
         "long_term_forecast_ETTh1_96_96ETTh1_w1001_ipfarm_TimesNet_ETTh1_ftMS_sl96_ll48_pl96_dm16_nh8_el2_dl1_df32_expand2_dc4_fc3_ebtimeF_dtTrue_Exp_0",
         "TimesNet",
         "96",
         "96",
         "1001",
         "ipfarm"
        ],
        [
         "0",
         "0.18460606",
         "0.05737861",
         "0.23953833",
         "0.14625175",
         "0.03858286",
         "long_term_forecast_ETTh1_96_96ETTh1_w1501_ipentropy_TimesNet_ETTh1_ftMS_sl96_ll48_pl96_dm16_nh8_el2_dl1_df32_expand2_dc4_fc3_ebtimeF_dtTrue_Exp_0",
         "TimesNet",
         "96",
         "96",
         "1501",
         "ipentropy"
        ],
        [
         "0",
         "0.18452957",
         "0.057382368",
         "0.23954616",
         "0.1461158",
         "0.038494892",
         "long_term_forecast_ETTh1_96_96ETTh1_w1001_ipmutual_info_TimesNet_ETTh1_ftMS_sl96_ll48_pl96_dm16_nh8_el2_dl1_df32_expand2_dc4_fc3_ebtimeF_dtTrue_Exp_0",
         "TimesNet",
         "96",
         "96",
         "1001",
         "ipmutual"
        ],
        [
         "0",
         "0.1846883",
         "0.05738254",
         "0.23954652",
         "0.1464344",
         "0.0387132",
         "long_term_forecast_ETTh1_96_96ETTh1_w1251_ipentropy_TimesNet_ETTh1_ftMS_sl96_ll48_pl96_dm16_nh8_el2_dl1_df32_expand2_dc4_fc3_ebtimeF_dtTrue_Exp_0",
         "TimesNet",
         "96",
         "96",
         "1251",
         "ipentropy"
        ],
        [
         "0",
         "0.18450356",
         "0.05740203",
         "0.2395872",
         "0.14594208",
         "0.038300857",
         "long_term_forecast_ETTh1_96_96ETTh1_w1501_pentropy_TimesNet_ETTh1_ftMS_sl96_ll48_pl96_dm16_nh8_el2_dl1_df32_expand2_dc4_fc3_ebtimeF_dtTrue_Exp_0",
         "TimesNet",
         "96",
         "96",
         "1501",
         "pentropy"
        ],
        [
         "0",
         "0.18451035",
         "0.057406418",
         "0.23959637",
         "0.14598627",
         "0.03836468",
         "long_term_forecast_ETTh1_96_96ETTh1_w501_ipfarm_TimesNet_ETTh1_ftMS_sl96_ll48_pl96_dm16_nh8_el2_dl1_df32_expand2_dc4_fc3_ebtimeF_dtTrue_Exp_0",
         "TimesNet",
         "96",
         "96",
         "501",
         "ipfarm"
        ],
        [
         "0",
         "0.18477748",
         "0.05743736",
         "0.23966093",
         "0.14637834",
         "0.038631108",
         "long_term_forecast_ETTh1_96_96ETTh1_w1001_iprollcorr_TimesNet_ETTh1_ftMS_sl96_ll48_pl96_dm16_nh8_el2_dl1_df32_expand2_dc4_fc3_ebtimeF_dtTrue_Exp_0",
         "TimesNet",
         "96",
         "96",
         "1001",
         "iprollcorr"
        ],
        [
         "0",
         "0.18481132",
         "0.05743795",
         "0.23966216",
         "0.1464186",
         "0.038642757",
         "long_term_forecast_ETTh1_96_96ETTh1_w501_ipentropy_TimesNet_ETTh1_ftMS_sl96_ll48_pl96_dm16_nh8_el2_dl1_df32_expand2_dc4_fc3_ebtimeF_dtTrue_Exp_0",
         "TimesNet",
         "96",
         "96",
         "501",
         "ipentropy"
        ],
        [
         "0",
         "0.18462007",
         "0.057438888",
         "0.23966411",
         "0.146088",
         "0.03840219",
         "long_term_forecast_ETTh1_96_96ETTh1_w751_ipentropy_TimesNet_ETTh1_ftMS_sl96_ll48_pl96_dm16_nh8_el2_dl1_df32_expand2_dc4_fc3_ebtimeF_dtTrue_Exp_0",
         "TimesNet",
         "96",
         "96",
         "751",
         "ipentropy"
        ],
        [
         "0",
         "0.18455698",
         "0.057439893",
         "0.23966621",
         "0.14601818",
         "0.038382594",
         "long_term_forecast_ETTh1_96_96ETTh1_w1251_pentropy_TimesNet_ETTh1_ftMS_sl96_ll48_pl96_dm16_nh8_el2_dl1_df32_expand2_dc4_fc3_ebtimeF_dtTrue_Exp_0",
         "TimesNet",
         "96",
         "96",
         "1251",
         "pentropy"
        ],
        [
         "0",
         "0.18470778",
         "0.057446744",
         "0.2396805",
         "0.14577337",
         "0.0376082",
         "long_term_forecast_ETTh1_96_96ETTh1_w1001_prollcorr_TimesNet_ETTh1_ftMS_sl96_ll48_pl96_dm16_nh8_el2_dl1_df32_expand2_dc4_fc3_ebtimeF_dtTrue_Exp_0",
         "TimesNet",
         "96",
         "96",
         "1001",
         "prollcorr"
        ],
        [
         "0",
         "0.18452053",
         "0.057450026",
         "0.23968735",
         "0.14604855",
         "0.0385194",
         "long_term_forecast_ETTh1_96_96ETTh1_w501_pentropy_TimesNet_ETTh1_ftMS_sl96_ll48_pl96_dm16_nh8_el2_dl1_df32_expand2_dc4_fc3_ebtimeF_dtTrue_Exp_0",
         "TimesNet",
         "96",
         "96",
         "501",
         "pentropy"
        ],
        [
         "0",
         "0.1846149",
         "0.05748129",
         "0.23975256",
         "0.14609285",
         "0.03846422",
         "long_term_forecast_ETTh1_96_96ETTh1_w1001_ipentropy_TimesNet_ETTh1_ftMS_sl96_ll48_pl96_dm16_nh8_el2_dl1_df32_expand2_dc4_fc3_ebtimeF_dtTrue_Exp_0",
         "TimesNet",
         "96",
         "96",
         "1001",
         "ipentropy"
        ],
        [
         "0",
         "0.18561384",
         "0.05821203",
         "0.24127169",
         "0.14788528",
         "0.040342003",
         "long_term_forecast_ETTh1_96_96ETTh1_w501_prollcov_TimeXer_ETTh1_ftMS_sl96_ll48_pl96_dm256_nh8_el1_dl1_df2048_expand2_dc4_fc3_ebtimeF_dtTrue_exp_0",
         "TimeXer",
         "96",
         "96",
         "501",
         "prollcov"
        ],
        [
         "0",
         "0.18580468",
         "0.05847179",
         "0.24180941",
         "0.14652959",
         "0.03901522",
         "long_term_forecast_ETTh1_96_96ETTh1_w751_pmutual_info_TimeXer_ETTh1_ftMS_sl96_ll48_pl96_dm256_nh8_el1_dl1_df2048_expand2_dc4_fc3_ebtimeF_dtTrue_exp_0",
         "TimeXer",
         "96",
         "96",
         "751",
         "pmutual"
        ],
        [
         "0",
         "0.18610367",
         "0.05848937",
         "0.24184576",
         "0.14740516",
         "0.03946507",
         "long_term_forecast_ETTh1_96_96ETTh1_w1001_prollcorr_TimeXer_ETTh1_ftMS_sl96_ll48_pl96_dm256_nh8_el1_dl1_df2048_expand2_dc4_fc3_ebtimeF_dtTrue_exp_0",
         "TimeXer",
         "96",
         "96",
         "1001",
         "prollcorr"
        ],
        [
         "0",
         "0.18607463",
         "0.058548044",
         "0.24196704",
         "0.14745529",
         "0.03964273",
         "long_term_forecast_ETTh1_96_96ETTh1_w501_ipmutual_info_TimeXer_ETTh1_ftMS_sl96_ll48_pl96_dm256_nh8_el1_dl1_df2048_expand2_dc4_fc3_ebtimeF_dtTrue_exp_0",
         "TimeXer",
         "96",
         "96",
         "501",
         "ipmutual"
        ],
        [
         "0",
         "0.1860814",
         "0.05857047",
         "0.24201337",
         "0.14733745",
         "0.039550416",
         "long_term_forecast_ETTh1_96_96ETTh1_w501_ipfarm_TimeXer_ETTh1_ftMS_sl96_ll48_pl96_dm256_nh8_el1_dl1_df2048_expand2_dc4_fc3_ebtimeF_dtTrue_exp_0",
         "TimeXer",
         "96",
         "96",
         "501",
         "ipfarm"
        ],
        [
         "0",
         "0.18611896",
         "0.058580637",
         "0.24203438",
         "0.14743969",
         "0.03961683",
         "long_term_forecast_ETTh1_96_96ETTh1_w1001_pfarm_TimeXer_ETTh1_ftMS_sl96_ll48_pl96_dm256_nh8_el1_dl1_df2048_expand2_dc4_fc3_ebtimeF_dtTrue_exp_0",
         "TimeXer",
         "96",
         "96",
         "1001",
         "pfarm"
        ],
        [
         "0",
         "0.18610053",
         "0.058582842",
         "0.24203892",
         "0.14732598",
         "0.039428934",
         "long_term_forecast_ETTh1_96_96ETTh1_w1001_prollcov_TimeXer_ETTh1_ftMS_sl96_ll48_pl96_dm256_nh8_el1_dl1_df2048_expand2_dc4_fc3_ebtimeF_dtTrue_exp_0",
         "TimeXer",
         "96",
         "96",
         "1001",
         "prollcov"
        ],
        [
         "0",
         "0.18602675",
         "0.058589865",
         "0.24205343",
         "0.14730829",
         "0.03956854",
         "long_term_forecast_ETTh1_96_96ETTh1_w1501_prollcorr_TimeXer_ETTh1_ftMS_sl96_ll48_pl96_dm256_nh8_el1_dl1_df2048_expand2_dc4_fc3_ebtimeF_dtTrue_exp_0",
         "TimeXer",
         "96",
         "96",
         "1501",
         "prollcorr"
        ],
        [
         "0",
         "0.18611969",
         "0.058602083",
         "0.24207868",
         "0.14736955",
         "0.039556414",
         "long_term_forecast_ETTh1_96_96ETTh1_w1001_ipmutual_info_TimeXer_ETTh1_ftMS_sl96_ll48_pl96_dm256_nh8_el1_dl1_df2048_expand2_dc4_fc3_ebtimeF_dtTrue_exp_0",
         "TimeXer",
         "96",
         "96",
         "1001",
         "ipmutual"
        ],
        [
         "0",
         "0.18598257",
         "0.058602773",
         "0.24208009",
         "0.14727308",
         "0.039629564",
         "long_term_forecast_ETTh1_96_96ETTh1_w501_iprollcov_TimeXer_ETTh1_ftMS_sl96_ll48_pl96_dm256_nh8_el1_dl1_df2048_expand2_dc4_fc3_ebtimeF_dtTrue_exp_0",
         "TimeXer",
         "96",
         "96",
         "501",
         "iprollcov"
        ],
        [
         "0",
         "0.18615066",
         "0.058618892",
         "0.24211338",
         "0.14731574",
         "0.039519724",
         "long_term_forecast_ETTh1_96_96ETTh1_w1251_pfarm_TimeXer_ETTh1_ftMS_sl96_ll48_pl96_dm256_nh8_el1_dl1_df2048_expand2_dc4_fc3_ebtimeF_dtTrue_exp_0",
         "TimeXer",
         "96",
         "96",
         "1251",
         "pfarm"
        ],
        [
         "0",
         "0.18609466",
         "0.05862502",
         "0.24212605",
         "0.14710012",
         "0.039302524",
         "long_term_forecast_ETTh1_96_96ETTh1_w1001_iprollcorr_TimeXer_ETTh1_ftMS_sl96_ll48_pl96_dm256_nh8_el1_dl1_df2048_expand2_dc4_fc3_ebtimeF_dtTrue_exp_0",
         "TimeXer",
         "96",
         "96",
         "1001",
         "iprollcorr"
        ],
        [
         "0",
         "0.18605055",
         "0.058631986",
         "0.24214043",
         "0.14719814",
         "0.039423678",
         "long_term_forecast_ETTh1_96_96ETTh1_w751_prollcov_TimeXer_ETTh1_ftMS_sl96_ll48_pl96_dm256_nh8_el1_dl1_df2048_expand2_dc4_fc3_ebtimeF_dtTrue_exp_0",
         "TimeXer",
         "96",
         "96",
         "751",
         "prollcov"
        ],
        [
         "0",
         "0.18625139",
         "0.05867275",
         "0.24222459",
         "0.14743327",
         "0.039566856",
         "long_term_forecast_ETTh1_96_96ETTh1_w751_ipmutual_info_TimeXer_ETTh1_ftMS_sl96_ll48_pl96_dm256_nh8_el1_dl1_df2048_expand2_dc4_fc3_ebtimeF_dtTrue_exp_0",
         "TimeXer",
         "96",
         "96",
         "751",
         "ipmutual"
        ],
        [
         "0",
         "0.18623774",
         "0.05870965",
         "0.24230075",
         "0.1473439",
         "0.039450187",
         "long_term_forecast_ETTh1_96_96ETTh1_w1501_iprollcov_TimeXer_ETTh1_ftMS_sl96_ll48_pl96_dm256_nh8_el1_dl1_df2048_expand2_dc4_fc3_ebtimeF_dtTrue_exp_0",
         "TimeXer",
         "96",
         "96",
         "1501",
         "iprollcov"
        ],
        [
         "0",
         "0.18627115",
         "0.05871053",
         "0.24230257",
         "0.14744066",
         "0.039527707",
         "long_term_forecast_ETTh1_96_96ETTh1_w1501_ipmutual_info_TimeXer_ETTh1_ftMS_sl96_ll48_pl96_dm256_nh8_el1_dl1_df2048_expand2_dc4_fc3_ebtimeF_dtTrue_exp_0",
         "TimeXer",
         "96",
         "96",
         "1501",
         "ipmutual"
        ],
        [
         "0",
         "0.18638483",
         "0.058724336",
         "0.24233104",
         "0.14813936",
         "0.040362753",
         "long_term_forecast_ETTh1_96_96ETTh1_w501_prollcorr_TimeXer_ETTh1_ftMS_sl96_ll48_pl96_dm256_nh8_el1_dl1_df2048_expand2_dc4_fc3_ebtimeF_dtTrue_exp_0",
         "TimeXer",
         "96",
         "96",
         "501",
         "prollcorr"
        ],
        [
         "0",
         "0.1862236",
         "0.0587524",
         "0.24238895",
         "0.14745454",
         "0.039722953",
         "long_term_forecast_ETTh1_96_96ETTh1_w751_pfarm_TimeXer_ETTh1_ftMS_sl96_ll48_pl96_dm256_nh8_el1_dl1_df2048_expand2_dc4_fc3_ebtimeF_dtTrue_exp_0",
         "TimeXer",
         "96",
         "96",
         "751",
         "pfarm"
        ],
        [
         "0",
         "0.18628341",
         "0.058752406",
         "0.24238896",
         "0.14735669",
         "0.03953284",
         "long_term_forecast_ETTh1_96_96ETTh1_w751_pentropy_TimeXer_ETTh1_ftMS_sl96_ll48_pl96_dm256_nh8_el1_dl1_df2048_expand2_dc4_fc3_ebtimeF_dtTrue_exp_0",
         "TimeXer",
         "96",
         "96",
         "751",
         "pentropy"
        ],
        [
         "0",
         "0.18643692",
         "0.05875808",
         "0.24240066",
         "0.14755677",
         "0.03953484",
         "long_term_forecast_ETTh1_96_96ETTh1_w751_prollcorr_TimeXer_ETTh1_ftMS_sl96_ll48_pl96_dm256_nh8_el1_dl1_df2048_expand2_dc4_fc3_ebtimeF_dtTrue_exp_0",
         "TimeXer",
         "96",
         "96",
         "751",
         "prollcorr"
        ]
       ],
       "shape": {
        "columns": 11,
        "rows": 63
       }
      },
      "text/html": [
       "<div>\n",
       "<style scoped>\n",
       "    .dataframe tbody tr th:only-of-type {\n",
       "        vertical-align: middle;\n",
       "    }\n",
       "\n",
       "    .dataframe tbody tr th {\n",
       "        vertical-align: top;\n",
       "    }\n",
       "\n",
       "    .dataframe thead th {\n",
       "        text-align: right;\n",
       "    }\n",
       "</style>\n",
       "<table border=\"1\" class=\"dataframe\">\n",
       "  <thead>\n",
       "    <tr style=\"text-align: right;\">\n",
       "      <th></th>\n",
       "      <th>mae</th>\n",
       "      <th>mse</th>\n",
       "      <th>rmse</th>\n",
       "      <th>mape</th>\n",
       "      <th>mspe</th>\n",
       "      <th>exp_name</th>\n",
       "      <th>model_name</th>\n",
       "      <th>pred_len</th>\n",
       "      <th>lookback_len</th>\n",
       "      <th>pwindow</th>\n",
       "      <th>pconstructor</th>\n",
       "    </tr>\n",
       "  </thead>\n",
       "  <tbody>\n",
       "    <tr>\n",
       "      <th>0</th>\n",
       "      <td>0.177786</td>\n",
       "      <td>0.055515</td>\n",
       "      <td>0.235617</td>\n",
       "      <td>0.138821</td>\n",
       "      <td>0.034883</td>\n",
       "      <td>long_term_forecast_ETTh1_96_96ETTh1_w1501_prol...</td>\n",
       "      <td>PatchTST</td>\n",
       "      <td>96</td>\n",
       "      <td>96</td>\n",
       "      <td>1501</td>\n",
       "      <td>prollcov</td>\n",
       "    </tr>\n",
       "    <tr>\n",
       "      <th>0</th>\n",
       "      <td>0.177873</td>\n",
       "      <td>0.055548</td>\n",
       "      <td>0.235687</td>\n",
       "      <td>0.138908</td>\n",
       "      <td>0.034925</td>\n",
       "      <td>long_term_forecast_ETTh1_96_96ETTh1_w1001_prol...</td>\n",
       "      <td>PatchTST</td>\n",
       "      <td>96</td>\n",
       "      <td>96</td>\n",
       "      <td>1001</td>\n",
       "      <td>prollcov</td>\n",
       "    </tr>\n",
       "    <tr>\n",
       "      <th>0</th>\n",
       "      <td>0.177807</td>\n",
       "      <td>0.055556</td>\n",
       "      <td>0.235704</td>\n",
       "      <td>0.138804</td>\n",
       "      <td>0.034867</td>\n",
       "      <td>long_term_forecast_ETTh1_96_96ETTh1_w1001_pent...</td>\n",
       "      <td>PatchTST</td>\n",
       "      <td>96</td>\n",
       "      <td>96</td>\n",
       "      <td>1001</td>\n",
       "      <td>pentropy</td>\n",
       "    </tr>\n",
       "    <tr>\n",
       "      <th>0</th>\n",
       "      <td>0.177797</td>\n",
       "      <td>0.055561</td>\n",
       "      <td>0.235713</td>\n",
       "      <td>0.138784</td>\n",
       "      <td>0.034859</td>\n",
       "      <td>long_term_forecast_ETTh1_96_96ETTh1_w1501_ipfa...</td>\n",
       "      <td>PatchTST</td>\n",
       "      <td>96</td>\n",
       "      <td>96</td>\n",
       "      <td>1501</td>\n",
       "      <td>ipfarm</td>\n",
       "    </tr>\n",
       "    <tr>\n",
       "      <th>0</th>\n",
       "      <td>0.177812</td>\n",
       "      <td>0.055561</td>\n",
       "      <td>0.235714</td>\n",
       "      <td>0.138820</td>\n",
       "      <td>0.034882</td>\n",
       "      <td>long_term_forecast_ETTh1_96_96ETTh1_w751_ipfar...</td>\n",
       "      <td>PatchTST</td>\n",
       "      <td>96</td>\n",
       "      <td>96</td>\n",
       "      <td>751</td>\n",
       "      <td>ipfarm</td>\n",
       "    </tr>\n",
       "    <tr>\n",
       "      <th>...</th>\n",
       "      <td>...</td>\n",
       "      <td>...</td>\n",
       "      <td>...</td>\n",
       "      <td>...</td>\n",
       "      <td>...</td>\n",
       "      <td>...</td>\n",
       "      <td>...</td>\n",
       "      <td>...</td>\n",
       "      <td>...</td>\n",
       "      <td>...</td>\n",
       "      <td>...</td>\n",
       "    </tr>\n",
       "    <tr>\n",
       "      <th>0</th>\n",
       "      <td>0.186280</td>\n",
       "      <td>0.058943</td>\n",
       "      <td>0.242781</td>\n",
       "      <td>0.146847</td>\n",
       "      <td>0.039208</td>\n",
       "      <td>long_term_forecast_ETTh1_96_96ETTh1_w1251_ipro...</td>\n",
       "      <td>TimeXer</td>\n",
       "      <td>96</td>\n",
       "      <td>96</td>\n",
       "      <td>1251</td>\n",
       "      <td>iprollcorr</td>\n",
       "    </tr>\n",
       "    <tr>\n",
       "      <th>0</th>\n",
       "      <td>0.186277</td>\n",
       "      <td>0.058970</td>\n",
       "      <td>0.242837</td>\n",
       "      <td>0.147244</td>\n",
       "      <td>0.039524</td>\n",
       "      <td>long_term_forecast_ETTh1_96_96ETTh1_w1251_prol...</td>\n",
       "      <td>TimeXer</td>\n",
       "      <td>96</td>\n",
       "      <td>96</td>\n",
       "      <td>1251</td>\n",
       "      <td>prollcov</td>\n",
       "    </tr>\n",
       "    <tr>\n",
       "      <th>0</th>\n",
       "      <td>0.186618</td>\n",
       "      <td>0.059019</td>\n",
       "      <td>0.242938</td>\n",
       "      <td>0.148034</td>\n",
       "      <td>0.040307</td>\n",
       "      <td>long_term_forecast_ETTh1_96_96ETTh1_w501_iprol...</td>\n",
       "      <td>TimeXer</td>\n",
       "      <td>96</td>\n",
       "      <td>96</td>\n",
       "      <td>501</td>\n",
       "      <td>iprollcorr</td>\n",
       "    </tr>\n",
       "    <tr>\n",
       "      <th>0</th>\n",
       "      <td>0.186587</td>\n",
       "      <td>0.059024</td>\n",
       "      <td>0.242949</td>\n",
       "      <td>0.147456</td>\n",
       "      <td>0.039578</td>\n",
       "      <td>long_term_forecast_ETTh1_96_96ETTh1_w1251_ipen...</td>\n",
       "      <td>TimeXer</td>\n",
       "      <td>96</td>\n",
       "      <td>96</td>\n",
       "      <td>1251</td>\n",
       "      <td>ipentropy</td>\n",
       "    </tr>\n",
       "    <tr>\n",
       "      <th>0</th>\n",
       "      <td>0.186568</td>\n",
       "      <td>0.059025</td>\n",
       "      <td>0.242951</td>\n",
       "      <td>0.147433</td>\n",
       "      <td>0.039577</td>\n",
       "      <td>long_term_forecast_ETTh1_96_96ETTh1_w1251_pent...</td>\n",
       "      <td>TimeXer</td>\n",
       "      <td>96</td>\n",
       "      <td>96</td>\n",
       "      <td>1251</td>\n",
       "      <td>pentropy</td>\n",
       "    </tr>\n",
       "  </tbody>\n",
       "</table>\n",
       "<p>63 rows × 11 columns</p>\n",
       "</div>"
      ],
      "text/plain": [
       "         mae       mse      rmse      mape      mspe  \\\n",
       "0   0.177786  0.055515  0.235617  0.138821  0.034883   \n",
       "0   0.177873  0.055548  0.235687  0.138908  0.034925   \n",
       "0   0.177807  0.055556  0.235704  0.138804  0.034867   \n",
       "0   0.177797  0.055561  0.235713  0.138784  0.034859   \n",
       "0   0.177812  0.055561  0.235714  0.138820  0.034882   \n",
       "..       ...       ...       ...       ...       ...   \n",
       "0   0.186280  0.058943  0.242781  0.146847  0.039208   \n",
       "0   0.186277  0.058970  0.242837  0.147244  0.039524   \n",
       "0   0.186618  0.059019  0.242938  0.148034  0.040307   \n",
       "0   0.186587  0.059024  0.242949  0.147456  0.039578   \n",
       "0   0.186568  0.059025  0.242951  0.147433  0.039577   \n",
       "\n",
       "                                             exp_name model_name  pred_len  \\\n",
       "0   long_term_forecast_ETTh1_96_96ETTh1_w1501_prol...   PatchTST        96   \n",
       "0   long_term_forecast_ETTh1_96_96ETTh1_w1001_prol...   PatchTST        96   \n",
       "0   long_term_forecast_ETTh1_96_96ETTh1_w1001_pent...   PatchTST        96   \n",
       "0   long_term_forecast_ETTh1_96_96ETTh1_w1501_ipfa...   PatchTST        96   \n",
       "0   long_term_forecast_ETTh1_96_96ETTh1_w751_ipfar...   PatchTST        96   \n",
       "..                                                ...        ...       ...   \n",
       "0   long_term_forecast_ETTh1_96_96ETTh1_w1251_ipro...    TimeXer        96   \n",
       "0   long_term_forecast_ETTh1_96_96ETTh1_w1251_prol...    TimeXer        96   \n",
       "0   long_term_forecast_ETTh1_96_96ETTh1_w501_iprol...    TimeXer        96   \n",
       "0   long_term_forecast_ETTh1_96_96ETTh1_w1251_ipen...    TimeXer        96   \n",
       "0   long_term_forecast_ETTh1_96_96ETTh1_w1251_pent...    TimeXer        96   \n",
       "\n",
       "    lookback_len pwindow pconstructor  \n",
       "0             96    1501     prollcov  \n",
       "0             96    1001     prollcov  \n",
       "0             96    1001     pentropy  \n",
       "0             96    1501       ipfarm  \n",
       "0             96     751       ipfarm  \n",
       "..           ...     ...          ...  \n",
       "0             96    1251   iprollcorr  \n",
       "0             96    1251     prollcov  \n",
       "0             96     501   iprollcorr  \n",
       "0             96    1251    ipentropy  \n",
       "0             96    1251     pentropy  \n",
       "\n",
       "[63 rows x 11 columns]"
      ]
     },
     "execution_count": 61,
     "metadata": {},
     "output_type": "execute_result"
    }
   ],
   "source": [
    "# check what combination of pconstructor and pwindow provides best enhancement for each model\n",
    "list_of_best_enhancements = []\n",
    "\n",
    "for model_name in results_df[\"model_name\"].unique():\n",
    "    model_df = results_df[results_df[\"model_name\"] == model_name]\n",
    "    identity_df = model_df[model_df[\"pconstructor\"] == \"identity\"]\n",
    "    if not identity_df.empty:\n",
    "        identity_mse = identity_df[\"mse\"].values[0]\n",
    "        enhanced_df = model_df[model_df[\"mse\"] < identity_mse]\n",
    "        if not enhanced_df.empty:\n",
    "            best_enhancement = enhanced_df.loc[enhanced_df[\"mse\"].idxmin()]\n",
    "            list_of_best_enhancements += [best_enhancement]\n",
    "        else:\n",
    "            print(f\"{model_name}: No enhancements found\")\n",
    "    else:\n",
    "        print(f\"{model_name}: No identity baseline found\")\n",
    "\n",
    "full_best_enhancements = pd.concat(list_of_best_enhancements)\n",
    "full_best_enhancements"
   ]
  },
  {
   "cell_type": "code",
   "execution_count": 62,
   "id": "7123fe79",
   "metadata": {},
   "outputs": [
    {
     "data": {
      "application/vnd.plotly.v1+json": {
       "config": {
        "plotlyServerURL": "https://plot.ly"
       },
       "data": [
        {
         "alignmentgroup": "True",
         "bingroup": "x",
         "hovertemplate": "variable=pconstructor<br>value=%{x}<br>count=%{y}<extra></extra>",
         "legendgroup": "pconstructor",
         "marker": {
          "color": "#636efa",
          "pattern": {
           "shape": ""
          }
         },
         "name": "pconstructor",
         "offsetgroup": "pconstructor",
         "orientation": "v",
         "showlegend": true,
         "type": "histogram",
         "x": [
          "prollcov",
          "prollcov",
          "pentropy",
          "ipfarm",
          "ipfarm",
          "ipfarm",
          "ipentropy",
          "ipentropy",
          "pentropy",
          "ipentropy",
          "pmutual",
          "ipentropy",
          "prollcorr",
          "prollcov",
          "pfarm",
          "pentropy",
          "ipfarm",
          "ipfarm",
          "ipentropy",
          "ipmutual",
          "ipentropy",
          "pentropy",
          "ipfarm",
          "iprollcorr",
          "ipentropy",
          "ipentropy",
          "pentropy",
          "prollcorr",
          "pentropy",
          "ipentropy",
          "prollcov",
          "pmutual",
          "prollcorr",
          "ipmutual",
          "ipfarm",
          "pfarm",
          "prollcov",
          "prollcorr",
          "ipmutual",
          "iprollcov",
          "pfarm",
          "iprollcorr",
          "prollcov",
          "ipmutual",
          "iprollcov",
          "ipmutual",
          "prollcorr",
          "pfarm",
          "pentropy",
          "prollcorr",
          "pmutual",
          "pfarm",
          "prollcorr",
          "pmutual",
          "ipmutual",
          "pmutual",
          "iprollcov",
          "pentropy",
          "iprollcorr",
          "prollcov",
          "iprollcorr",
          "ipentropy",
          "pentropy"
         ],
         "xaxis": "x",
         "yaxis": "y"
        }
       ],
       "layout": {
        "barmode": "relative",
        "legend": {
         "title": {
          "text": "variable"
         },
         "tracegroupgap": 0
        },
        "margin": {
         "t": 60
        },
        "template": {
         "data": {
          "bar": [
           {
            "error_x": {
             "color": "#2a3f5f"
            },
            "error_y": {
             "color": "#2a3f5f"
            },
            "marker": {
             "line": {
              "color": "#E5ECF6",
              "width": 0.5
             },
             "pattern": {
              "fillmode": "overlay",
              "size": 10,
              "solidity": 0.2
             }
            },
            "type": "bar"
           }
          ],
          "barpolar": [
           {
            "marker": {
             "line": {
              "color": "#E5ECF6",
              "width": 0.5
             },
             "pattern": {
              "fillmode": "overlay",
              "size": 10,
              "solidity": 0.2
             }
            },
            "type": "barpolar"
           }
          ],
          "carpet": [
           {
            "aaxis": {
             "endlinecolor": "#2a3f5f",
             "gridcolor": "white",
             "linecolor": "white",
             "minorgridcolor": "white",
             "startlinecolor": "#2a3f5f"
            },
            "baxis": {
             "endlinecolor": "#2a3f5f",
             "gridcolor": "white",
             "linecolor": "white",
             "minorgridcolor": "white",
             "startlinecolor": "#2a3f5f"
            },
            "type": "carpet"
           }
          ],
          "choropleth": [
           {
            "colorbar": {
             "outlinewidth": 0,
             "ticks": ""
            },
            "type": "choropleth"
           }
          ],
          "contour": [
           {
            "colorbar": {
             "outlinewidth": 0,
             "ticks": ""
            },
            "colorscale": [
             [
              0,
              "#0d0887"
             ],
             [
              0.1111111111111111,
              "#46039f"
             ],
             [
              0.2222222222222222,
              "#7201a8"
             ],
             [
              0.3333333333333333,
              "#9c179e"
             ],
             [
              0.4444444444444444,
              "#bd3786"
             ],
             [
              0.5555555555555556,
              "#d8576b"
             ],
             [
              0.6666666666666666,
              "#ed7953"
             ],
             [
              0.7777777777777778,
              "#fb9f3a"
             ],
             [
              0.8888888888888888,
              "#fdca26"
             ],
             [
              1,
              "#f0f921"
             ]
            ],
            "type": "contour"
           }
          ],
          "contourcarpet": [
           {
            "colorbar": {
             "outlinewidth": 0,
             "ticks": ""
            },
            "type": "contourcarpet"
           }
          ],
          "heatmap": [
           {
            "colorbar": {
             "outlinewidth": 0,
             "ticks": ""
            },
            "colorscale": [
             [
              0,
              "#0d0887"
             ],
             [
              0.1111111111111111,
              "#46039f"
             ],
             [
              0.2222222222222222,
              "#7201a8"
             ],
             [
              0.3333333333333333,
              "#9c179e"
             ],
             [
              0.4444444444444444,
              "#bd3786"
             ],
             [
              0.5555555555555556,
              "#d8576b"
             ],
             [
              0.6666666666666666,
              "#ed7953"
             ],
             [
              0.7777777777777778,
              "#fb9f3a"
             ],
             [
              0.8888888888888888,
              "#fdca26"
             ],
             [
              1,
              "#f0f921"
             ]
            ],
            "type": "heatmap"
           }
          ],
          "heatmapgl": [
           {
            "colorbar": {
             "outlinewidth": 0,
             "ticks": ""
            },
            "colorscale": [
             [
              0,
              "#0d0887"
             ],
             [
              0.1111111111111111,
              "#46039f"
             ],
             [
              0.2222222222222222,
              "#7201a8"
             ],
             [
              0.3333333333333333,
              "#9c179e"
             ],
             [
              0.4444444444444444,
              "#bd3786"
             ],
             [
              0.5555555555555556,
              "#d8576b"
             ],
             [
              0.6666666666666666,
              "#ed7953"
             ],
             [
              0.7777777777777778,
              "#fb9f3a"
             ],
             [
              0.8888888888888888,
              "#fdca26"
             ],
             [
              1,
              "#f0f921"
             ]
            ],
            "type": "heatmapgl"
           }
          ],
          "histogram": [
           {
            "marker": {
             "pattern": {
              "fillmode": "overlay",
              "size": 10,
              "solidity": 0.2
             }
            },
            "type": "histogram"
           }
          ],
          "histogram2d": [
           {
            "colorbar": {
             "outlinewidth": 0,
             "ticks": ""
            },
            "colorscale": [
             [
              0,
              "#0d0887"
             ],
             [
              0.1111111111111111,
              "#46039f"
             ],
             [
              0.2222222222222222,
              "#7201a8"
             ],
             [
              0.3333333333333333,
              "#9c179e"
             ],
             [
              0.4444444444444444,
              "#bd3786"
             ],
             [
              0.5555555555555556,
              "#d8576b"
             ],
             [
              0.6666666666666666,
              "#ed7953"
             ],
             [
              0.7777777777777778,
              "#fb9f3a"
             ],
             [
              0.8888888888888888,
              "#fdca26"
             ],
             [
              1,
              "#f0f921"
             ]
            ],
            "type": "histogram2d"
           }
          ],
          "histogram2dcontour": [
           {
            "colorbar": {
             "outlinewidth": 0,
             "ticks": ""
            },
            "colorscale": [
             [
              0,
              "#0d0887"
             ],
             [
              0.1111111111111111,
              "#46039f"
             ],
             [
              0.2222222222222222,
              "#7201a8"
             ],
             [
              0.3333333333333333,
              "#9c179e"
             ],
             [
              0.4444444444444444,
              "#bd3786"
             ],
             [
              0.5555555555555556,
              "#d8576b"
             ],
             [
              0.6666666666666666,
              "#ed7953"
             ],
             [
              0.7777777777777778,
              "#fb9f3a"
             ],
             [
              0.8888888888888888,
              "#fdca26"
             ],
             [
              1,
              "#f0f921"
             ]
            ],
            "type": "histogram2dcontour"
           }
          ],
          "mesh3d": [
           {
            "colorbar": {
             "outlinewidth": 0,
             "ticks": ""
            },
            "type": "mesh3d"
           }
          ],
          "parcoords": [
           {
            "line": {
             "colorbar": {
              "outlinewidth": 0,
              "ticks": ""
             }
            },
            "type": "parcoords"
           }
          ],
          "pie": [
           {
            "automargin": true,
            "type": "pie"
           }
          ],
          "scatter": [
           {
            "fillpattern": {
             "fillmode": "overlay",
             "size": 10,
             "solidity": 0.2
            },
            "type": "scatter"
           }
          ],
          "scatter3d": [
           {
            "line": {
             "colorbar": {
              "outlinewidth": 0,
              "ticks": ""
             }
            },
            "marker": {
             "colorbar": {
              "outlinewidth": 0,
              "ticks": ""
             }
            },
            "type": "scatter3d"
           }
          ],
          "scattercarpet": [
           {
            "marker": {
             "colorbar": {
              "outlinewidth": 0,
              "ticks": ""
             }
            },
            "type": "scattercarpet"
           }
          ],
          "scattergeo": [
           {
            "marker": {
             "colorbar": {
              "outlinewidth": 0,
              "ticks": ""
             }
            },
            "type": "scattergeo"
           }
          ],
          "scattergl": [
           {
            "marker": {
             "colorbar": {
              "outlinewidth": 0,
              "ticks": ""
             }
            },
            "type": "scattergl"
           }
          ],
          "scattermapbox": [
           {
            "marker": {
             "colorbar": {
              "outlinewidth": 0,
              "ticks": ""
             }
            },
            "type": "scattermapbox"
           }
          ],
          "scatterpolar": [
           {
            "marker": {
             "colorbar": {
              "outlinewidth": 0,
              "ticks": ""
             }
            },
            "type": "scatterpolar"
           }
          ],
          "scatterpolargl": [
           {
            "marker": {
             "colorbar": {
              "outlinewidth": 0,
              "ticks": ""
             }
            },
            "type": "scatterpolargl"
           }
          ],
          "scatterternary": [
           {
            "marker": {
             "colorbar": {
              "outlinewidth": 0,
              "ticks": ""
             }
            },
            "type": "scatterternary"
           }
          ],
          "surface": [
           {
            "colorbar": {
             "outlinewidth": 0,
             "ticks": ""
            },
            "colorscale": [
             [
              0,
              "#0d0887"
             ],
             [
              0.1111111111111111,
              "#46039f"
             ],
             [
              0.2222222222222222,
              "#7201a8"
             ],
             [
              0.3333333333333333,
              "#9c179e"
             ],
             [
              0.4444444444444444,
              "#bd3786"
             ],
             [
              0.5555555555555556,
              "#d8576b"
             ],
             [
              0.6666666666666666,
              "#ed7953"
             ],
             [
              0.7777777777777778,
              "#fb9f3a"
             ],
             [
              0.8888888888888888,
              "#fdca26"
             ],
             [
              1,
              "#f0f921"
             ]
            ],
            "type": "surface"
           }
          ],
          "table": [
           {
            "cells": {
             "fill": {
              "color": "#EBF0F8"
             },
             "line": {
              "color": "white"
             }
            },
            "header": {
             "fill": {
              "color": "#C8D4E3"
             },
             "line": {
              "color": "white"
             }
            },
            "type": "table"
           }
          ]
         },
         "layout": {
          "annotationdefaults": {
           "arrowcolor": "#2a3f5f",
           "arrowhead": 0,
           "arrowwidth": 1
          },
          "autotypenumbers": "strict",
          "coloraxis": {
           "colorbar": {
            "outlinewidth": 0,
            "ticks": ""
           }
          },
          "colorscale": {
           "diverging": [
            [
             0,
             "#8e0152"
            ],
            [
             0.1,
             "#c51b7d"
            ],
            [
             0.2,
             "#de77ae"
            ],
            [
             0.3,
             "#f1b6da"
            ],
            [
             0.4,
             "#fde0ef"
            ],
            [
             0.5,
             "#f7f7f7"
            ],
            [
             0.6,
             "#e6f5d0"
            ],
            [
             0.7,
             "#b8e186"
            ],
            [
             0.8,
             "#7fbc41"
            ],
            [
             0.9,
             "#4d9221"
            ],
            [
             1,
             "#276419"
            ]
           ],
           "sequential": [
            [
             0,
             "#0d0887"
            ],
            [
             0.1111111111111111,
             "#46039f"
            ],
            [
             0.2222222222222222,
             "#7201a8"
            ],
            [
             0.3333333333333333,
             "#9c179e"
            ],
            [
             0.4444444444444444,
             "#bd3786"
            ],
            [
             0.5555555555555556,
             "#d8576b"
            ],
            [
             0.6666666666666666,
             "#ed7953"
            ],
            [
             0.7777777777777778,
             "#fb9f3a"
            ],
            [
             0.8888888888888888,
             "#fdca26"
            ],
            [
             1,
             "#f0f921"
            ]
           ],
           "sequentialminus": [
            [
             0,
             "#0d0887"
            ],
            [
             0.1111111111111111,
             "#46039f"
            ],
            [
             0.2222222222222222,
             "#7201a8"
            ],
            [
             0.3333333333333333,
             "#9c179e"
            ],
            [
             0.4444444444444444,
             "#bd3786"
            ],
            [
             0.5555555555555556,
             "#d8576b"
            ],
            [
             0.6666666666666666,
             "#ed7953"
            ],
            [
             0.7777777777777778,
             "#fb9f3a"
            ],
            [
             0.8888888888888888,
             "#fdca26"
            ],
            [
             1,
             "#f0f921"
            ]
           ]
          },
          "colorway": [
           "#636efa",
           "#EF553B",
           "#00cc96",
           "#ab63fa",
           "#FFA15A",
           "#19d3f3",
           "#FF6692",
           "#B6E880",
           "#FF97FF",
           "#FECB52"
          ],
          "font": {
           "color": "#2a3f5f"
          },
          "geo": {
           "bgcolor": "white",
           "lakecolor": "white",
           "landcolor": "#E5ECF6",
           "showlakes": true,
           "showland": true,
           "subunitcolor": "white"
          },
          "hoverlabel": {
           "align": "left"
          },
          "hovermode": "closest",
          "mapbox": {
           "style": "light"
          },
          "paper_bgcolor": "white",
          "plot_bgcolor": "#E5ECF6",
          "polar": {
           "angularaxis": {
            "gridcolor": "white",
            "linecolor": "white",
            "ticks": ""
           },
           "bgcolor": "#E5ECF6",
           "radialaxis": {
            "gridcolor": "white",
            "linecolor": "white",
            "ticks": ""
           }
          },
          "scene": {
           "xaxis": {
            "backgroundcolor": "#E5ECF6",
            "gridcolor": "white",
            "gridwidth": 2,
            "linecolor": "white",
            "showbackground": true,
            "ticks": "",
            "zerolinecolor": "white"
           },
           "yaxis": {
            "backgroundcolor": "#E5ECF6",
            "gridcolor": "white",
            "gridwidth": 2,
            "linecolor": "white",
            "showbackground": true,
            "ticks": "",
            "zerolinecolor": "white"
           },
           "zaxis": {
            "backgroundcolor": "#E5ECF6",
            "gridcolor": "white",
            "gridwidth": 2,
            "linecolor": "white",
            "showbackground": true,
            "ticks": "",
            "zerolinecolor": "white"
           }
          },
          "shapedefaults": {
           "line": {
            "color": "#2a3f5f"
           }
          },
          "ternary": {
           "aaxis": {
            "gridcolor": "white",
            "linecolor": "white",
            "ticks": ""
           },
           "baxis": {
            "gridcolor": "white",
            "linecolor": "white",
            "ticks": ""
           },
           "bgcolor": "#E5ECF6",
           "caxis": {
            "gridcolor": "white",
            "linecolor": "white",
            "ticks": ""
           }
          },
          "title": {
           "x": 0.05
          },
          "xaxis": {
           "automargin": true,
           "gridcolor": "white",
           "linecolor": "white",
           "ticks": "",
           "title": {
            "standoff": 15
           },
           "zerolinecolor": "white",
           "zerolinewidth": 2
          },
          "yaxis": {
           "automargin": true,
           "gridcolor": "white",
           "linecolor": "white",
           "ticks": "",
           "title": {
            "standoff": 15
           },
           "zerolinecolor": "white",
           "zerolinewidth": 2
          }
         }
        },
        "xaxis": {
         "anchor": "y",
         "domain": [
          0,
          1
         ],
         "title": {
          "text": "value"
         }
        },
        "yaxis": {
         "anchor": "x",
         "domain": [
          0,
          1
         ],
         "title": {
          "text": "count"
         }
        }
       }
      },
      "text/html": [
       "<div>                            <div id=\"e547c085-8a89-4600-9279-14d91ec14614\" class=\"plotly-graph-div\" style=\"height:525px; width:100%;\"></div>            <script type=\"text/javascript\">                require([\"plotly\"], function(Plotly) {                    window.PLOTLYENV=window.PLOTLYENV || {};                                    if (document.getElementById(\"e547c085-8a89-4600-9279-14d91ec14614\")) {                    Plotly.newPlot(                        \"e547c085-8a89-4600-9279-14d91ec14614\",                        [{\"alignmentgroup\":\"True\",\"bingroup\":\"x\",\"hovertemplate\":\"variable=pconstructor\\u003cbr\\u003evalue=%{x}\\u003cbr\\u003ecount=%{y}\\u003cextra\\u003e\\u003c\\u002fextra\\u003e\",\"legendgroup\":\"pconstructor\",\"marker\":{\"color\":\"#636efa\",\"pattern\":{\"shape\":\"\"}},\"name\":\"pconstructor\",\"offsetgroup\":\"pconstructor\",\"orientation\":\"v\",\"showlegend\":true,\"x\":[\"prollcov\",\"prollcov\",\"pentropy\",\"ipfarm\",\"ipfarm\",\"ipfarm\",\"ipentropy\",\"ipentropy\",\"pentropy\",\"ipentropy\",\"pmutual\",\"ipentropy\",\"prollcorr\",\"prollcov\",\"pfarm\",\"pentropy\",\"ipfarm\",\"ipfarm\",\"ipentropy\",\"ipmutual\",\"ipentropy\",\"pentropy\",\"ipfarm\",\"iprollcorr\",\"ipentropy\",\"ipentropy\",\"pentropy\",\"prollcorr\",\"pentropy\",\"ipentropy\",\"prollcov\",\"pmutual\",\"prollcorr\",\"ipmutual\",\"ipfarm\",\"pfarm\",\"prollcov\",\"prollcorr\",\"ipmutual\",\"iprollcov\",\"pfarm\",\"iprollcorr\",\"prollcov\",\"ipmutual\",\"iprollcov\",\"ipmutual\",\"prollcorr\",\"pfarm\",\"pentropy\",\"prollcorr\",\"pmutual\",\"pfarm\",\"prollcorr\",\"pmutual\",\"ipmutual\",\"pmutual\",\"iprollcov\",\"pentropy\",\"iprollcorr\",\"prollcov\",\"iprollcorr\",\"ipentropy\",\"pentropy\"],\"xaxis\":\"x\",\"yaxis\":\"y\",\"type\":\"histogram\"}],                        {\"template\":{\"data\":{\"histogram2dcontour\":[{\"type\":\"histogram2dcontour\",\"colorbar\":{\"outlinewidth\":0,\"ticks\":\"\"},\"colorscale\":[[0.0,\"#0d0887\"],[0.1111111111111111,\"#46039f\"],[0.2222222222222222,\"#7201a8\"],[0.3333333333333333,\"#9c179e\"],[0.4444444444444444,\"#bd3786\"],[0.5555555555555556,\"#d8576b\"],[0.6666666666666666,\"#ed7953\"],[0.7777777777777778,\"#fb9f3a\"],[0.8888888888888888,\"#fdca26\"],[1.0,\"#f0f921\"]]}],\"choropleth\":[{\"type\":\"choropleth\",\"colorbar\":{\"outlinewidth\":0,\"ticks\":\"\"}}],\"histogram2d\":[{\"type\":\"histogram2d\",\"colorbar\":{\"outlinewidth\":0,\"ticks\":\"\"},\"colorscale\":[[0.0,\"#0d0887\"],[0.1111111111111111,\"#46039f\"],[0.2222222222222222,\"#7201a8\"],[0.3333333333333333,\"#9c179e\"],[0.4444444444444444,\"#bd3786\"],[0.5555555555555556,\"#d8576b\"],[0.6666666666666666,\"#ed7953\"],[0.7777777777777778,\"#fb9f3a\"],[0.8888888888888888,\"#fdca26\"],[1.0,\"#f0f921\"]]}],\"heatmap\":[{\"type\":\"heatmap\",\"colorbar\":{\"outlinewidth\":0,\"ticks\":\"\"},\"colorscale\":[[0.0,\"#0d0887\"],[0.1111111111111111,\"#46039f\"],[0.2222222222222222,\"#7201a8\"],[0.3333333333333333,\"#9c179e\"],[0.4444444444444444,\"#bd3786\"],[0.5555555555555556,\"#d8576b\"],[0.6666666666666666,\"#ed7953\"],[0.7777777777777778,\"#fb9f3a\"],[0.8888888888888888,\"#fdca26\"],[1.0,\"#f0f921\"]]}],\"heatmapgl\":[{\"type\":\"heatmapgl\",\"colorbar\":{\"outlinewidth\":0,\"ticks\":\"\"},\"colorscale\":[[0.0,\"#0d0887\"],[0.1111111111111111,\"#46039f\"],[0.2222222222222222,\"#7201a8\"],[0.3333333333333333,\"#9c179e\"],[0.4444444444444444,\"#bd3786\"],[0.5555555555555556,\"#d8576b\"],[0.6666666666666666,\"#ed7953\"],[0.7777777777777778,\"#fb9f3a\"],[0.8888888888888888,\"#fdca26\"],[1.0,\"#f0f921\"]]}],\"contourcarpet\":[{\"type\":\"contourcarpet\",\"colorbar\":{\"outlinewidth\":0,\"ticks\":\"\"}}],\"contour\":[{\"type\":\"contour\",\"colorbar\":{\"outlinewidth\":0,\"ticks\":\"\"},\"colorscale\":[[0.0,\"#0d0887\"],[0.1111111111111111,\"#46039f\"],[0.2222222222222222,\"#7201a8\"],[0.3333333333333333,\"#9c179e\"],[0.4444444444444444,\"#bd3786\"],[0.5555555555555556,\"#d8576b\"],[0.6666666666666666,\"#ed7953\"],[0.7777777777777778,\"#fb9f3a\"],[0.8888888888888888,\"#fdca26\"],[1.0,\"#f0f921\"]]}],\"surface\":[{\"type\":\"surface\",\"colorbar\":{\"outlinewidth\":0,\"ticks\":\"\"},\"colorscale\":[[0.0,\"#0d0887\"],[0.1111111111111111,\"#46039f\"],[0.2222222222222222,\"#7201a8\"],[0.3333333333333333,\"#9c179e\"],[0.4444444444444444,\"#bd3786\"],[0.5555555555555556,\"#d8576b\"],[0.6666666666666666,\"#ed7953\"],[0.7777777777777778,\"#fb9f3a\"],[0.8888888888888888,\"#fdca26\"],[1.0,\"#f0f921\"]]}],\"mesh3d\":[{\"type\":\"mesh3d\",\"colorbar\":{\"outlinewidth\":0,\"ticks\":\"\"}}],\"scatter\":[{\"fillpattern\":{\"fillmode\":\"overlay\",\"size\":10,\"solidity\":0.2},\"type\":\"scatter\"}],\"parcoords\":[{\"type\":\"parcoords\",\"line\":{\"colorbar\":{\"outlinewidth\":0,\"ticks\":\"\"}}}],\"scatterpolargl\":[{\"type\":\"scatterpolargl\",\"marker\":{\"colorbar\":{\"outlinewidth\":0,\"ticks\":\"\"}}}],\"bar\":[{\"error_x\":{\"color\":\"#2a3f5f\"},\"error_y\":{\"color\":\"#2a3f5f\"},\"marker\":{\"line\":{\"color\":\"#E5ECF6\",\"width\":0.5},\"pattern\":{\"fillmode\":\"overlay\",\"size\":10,\"solidity\":0.2}},\"type\":\"bar\"}],\"scattergeo\":[{\"type\":\"scattergeo\",\"marker\":{\"colorbar\":{\"outlinewidth\":0,\"ticks\":\"\"}}}],\"scatterpolar\":[{\"type\":\"scatterpolar\",\"marker\":{\"colorbar\":{\"outlinewidth\":0,\"ticks\":\"\"}}}],\"histogram\":[{\"marker\":{\"pattern\":{\"fillmode\":\"overlay\",\"size\":10,\"solidity\":0.2}},\"type\":\"histogram\"}],\"scattergl\":[{\"type\":\"scattergl\",\"marker\":{\"colorbar\":{\"outlinewidth\":0,\"ticks\":\"\"}}}],\"scatter3d\":[{\"type\":\"scatter3d\",\"line\":{\"colorbar\":{\"outlinewidth\":0,\"ticks\":\"\"}},\"marker\":{\"colorbar\":{\"outlinewidth\":0,\"ticks\":\"\"}}}],\"scattermapbox\":[{\"type\":\"scattermapbox\",\"marker\":{\"colorbar\":{\"outlinewidth\":0,\"ticks\":\"\"}}}],\"scatterternary\":[{\"type\":\"scatterternary\",\"marker\":{\"colorbar\":{\"outlinewidth\":0,\"ticks\":\"\"}}}],\"scattercarpet\":[{\"type\":\"scattercarpet\",\"marker\":{\"colorbar\":{\"outlinewidth\":0,\"ticks\":\"\"}}}],\"carpet\":[{\"aaxis\":{\"endlinecolor\":\"#2a3f5f\",\"gridcolor\":\"white\",\"linecolor\":\"white\",\"minorgridcolor\":\"white\",\"startlinecolor\":\"#2a3f5f\"},\"baxis\":{\"endlinecolor\":\"#2a3f5f\",\"gridcolor\":\"white\",\"linecolor\":\"white\",\"minorgridcolor\":\"white\",\"startlinecolor\":\"#2a3f5f\"},\"type\":\"carpet\"}],\"table\":[{\"cells\":{\"fill\":{\"color\":\"#EBF0F8\"},\"line\":{\"color\":\"white\"}},\"header\":{\"fill\":{\"color\":\"#C8D4E3\"},\"line\":{\"color\":\"white\"}},\"type\":\"table\"}],\"barpolar\":[{\"marker\":{\"line\":{\"color\":\"#E5ECF6\",\"width\":0.5},\"pattern\":{\"fillmode\":\"overlay\",\"size\":10,\"solidity\":0.2}},\"type\":\"barpolar\"}],\"pie\":[{\"automargin\":true,\"type\":\"pie\"}]},\"layout\":{\"autotypenumbers\":\"strict\",\"colorway\":[\"#636efa\",\"#EF553B\",\"#00cc96\",\"#ab63fa\",\"#FFA15A\",\"#19d3f3\",\"#FF6692\",\"#B6E880\",\"#FF97FF\",\"#FECB52\"],\"font\":{\"color\":\"#2a3f5f\"},\"hovermode\":\"closest\",\"hoverlabel\":{\"align\":\"left\"},\"paper_bgcolor\":\"white\",\"plot_bgcolor\":\"#E5ECF6\",\"polar\":{\"bgcolor\":\"#E5ECF6\",\"angularaxis\":{\"gridcolor\":\"white\",\"linecolor\":\"white\",\"ticks\":\"\"},\"radialaxis\":{\"gridcolor\":\"white\",\"linecolor\":\"white\",\"ticks\":\"\"}},\"ternary\":{\"bgcolor\":\"#E5ECF6\",\"aaxis\":{\"gridcolor\":\"white\",\"linecolor\":\"white\",\"ticks\":\"\"},\"baxis\":{\"gridcolor\":\"white\",\"linecolor\":\"white\",\"ticks\":\"\"},\"caxis\":{\"gridcolor\":\"white\",\"linecolor\":\"white\",\"ticks\":\"\"}},\"coloraxis\":{\"colorbar\":{\"outlinewidth\":0,\"ticks\":\"\"}},\"colorscale\":{\"sequential\":[[0.0,\"#0d0887\"],[0.1111111111111111,\"#46039f\"],[0.2222222222222222,\"#7201a8\"],[0.3333333333333333,\"#9c179e\"],[0.4444444444444444,\"#bd3786\"],[0.5555555555555556,\"#d8576b\"],[0.6666666666666666,\"#ed7953\"],[0.7777777777777778,\"#fb9f3a\"],[0.8888888888888888,\"#fdca26\"],[1.0,\"#f0f921\"]],\"sequentialminus\":[[0.0,\"#0d0887\"],[0.1111111111111111,\"#46039f\"],[0.2222222222222222,\"#7201a8\"],[0.3333333333333333,\"#9c179e\"],[0.4444444444444444,\"#bd3786\"],[0.5555555555555556,\"#d8576b\"],[0.6666666666666666,\"#ed7953\"],[0.7777777777777778,\"#fb9f3a\"],[0.8888888888888888,\"#fdca26\"],[1.0,\"#f0f921\"]],\"diverging\":[[0,\"#8e0152\"],[0.1,\"#c51b7d\"],[0.2,\"#de77ae\"],[0.3,\"#f1b6da\"],[0.4,\"#fde0ef\"],[0.5,\"#f7f7f7\"],[0.6,\"#e6f5d0\"],[0.7,\"#b8e186\"],[0.8,\"#7fbc41\"],[0.9,\"#4d9221\"],[1,\"#276419\"]]},\"xaxis\":{\"gridcolor\":\"white\",\"linecolor\":\"white\",\"ticks\":\"\",\"title\":{\"standoff\":15},\"zerolinecolor\":\"white\",\"automargin\":true,\"zerolinewidth\":2},\"yaxis\":{\"gridcolor\":\"white\",\"linecolor\":\"white\",\"ticks\":\"\",\"title\":{\"standoff\":15},\"zerolinecolor\":\"white\",\"automargin\":true,\"zerolinewidth\":2},\"scene\":{\"xaxis\":{\"backgroundcolor\":\"#E5ECF6\",\"gridcolor\":\"white\",\"linecolor\":\"white\",\"showbackground\":true,\"ticks\":\"\",\"zerolinecolor\":\"white\",\"gridwidth\":2},\"yaxis\":{\"backgroundcolor\":\"#E5ECF6\",\"gridcolor\":\"white\",\"linecolor\":\"white\",\"showbackground\":true,\"ticks\":\"\",\"zerolinecolor\":\"white\",\"gridwidth\":2},\"zaxis\":{\"backgroundcolor\":\"#E5ECF6\",\"gridcolor\":\"white\",\"linecolor\":\"white\",\"showbackground\":true,\"ticks\":\"\",\"zerolinecolor\":\"white\",\"gridwidth\":2}},\"shapedefaults\":{\"line\":{\"color\":\"#2a3f5f\"}},\"annotationdefaults\":{\"arrowcolor\":\"#2a3f5f\",\"arrowhead\":0,\"arrowwidth\":1},\"geo\":{\"bgcolor\":\"white\",\"landcolor\":\"#E5ECF6\",\"subunitcolor\":\"white\",\"showland\":true,\"showlakes\":true,\"lakecolor\":\"white\"},\"title\":{\"x\":0.05},\"mapbox\":{\"style\":\"light\"}}},\"xaxis\":{\"anchor\":\"y\",\"domain\":[0.0,1.0],\"title\":{\"text\":\"value\"}},\"yaxis\":{\"anchor\":\"x\",\"domain\":[0.0,1.0],\"title\":{\"text\":\"count\"}},\"legend\":{\"title\":{\"text\":\"variable\"},\"tracegroupgap\":0},\"margin\":{\"t\":60},\"barmode\":\"relative\"},                        {\"responsive\": true}                    ).then(function(){\n",
       "                            \n",
       "var gd = document.getElementById('e547c085-8a89-4600-9279-14d91ec14614');\n",
       "var x = new MutationObserver(function (mutations, observer) {{\n",
       "        var display = window.getComputedStyle(gd).display;\n",
       "        if (!display || display === 'none') {{\n",
       "            console.log([gd, 'removed!']);\n",
       "            Plotly.purge(gd);\n",
       "            observer.disconnect();\n",
       "        }}\n",
       "}});\n",
       "\n",
       "// Listen for the removal of the full notebook cells\n",
       "var notebookContainer = gd.closest('#notebook-container');\n",
       "if (notebookContainer) {{\n",
       "    x.observe(notebookContainer, {childList: true});\n",
       "}}\n",
       "\n",
       "// Listen for the clearing of the current output cell\n",
       "var outputEl = gd.closest('.output');\n",
       "if (outputEl) {{\n",
       "    x.observe(outputEl, {childList: true});\n",
       "}}\n",
       "\n",
       "                        })                };                });            </script>        </div>"
      ]
     },
     "metadata": {},
     "output_type": "display_data"
    }
   ],
   "source": [
    "full_best_enhancements[\"pconstructor\"].hist()"
   ]
  },
  {
   "cell_type": "code",
   "execution_count": 63,
   "id": "13f85088",
   "metadata": {},
   "outputs": [
    {
     "data": {
      "application/vnd.plotly.v1+json": {
       "config": {
        "plotlyServerURL": "https://plot.ly"
       },
       "data": [
        {
         "alignmentgroup": "True",
         "bingroup": "x",
         "hovertemplate": "variable=pwindow<br>value=%{x}<br>count=%{y}<extra></extra>",
         "legendgroup": "pwindow",
         "marker": {
          "color": "#636efa",
          "pattern": {
           "shape": ""
          }
         },
         "name": "pwindow",
         "offsetgroup": "pwindow",
         "orientation": "v",
         "showlegend": true,
         "type": "histogram",
         "x": [
          1501,
          1001,
          1001,
          1501,
          751,
          1251,
          751,
          1251,
          1501,
          501,
          751,
          1251,
          751,
          751,
          1501,
          751,
          1251,
          1001,
          1501,
          1001,
          1251,
          1501,
          501,
          1001,
          501,
          751,
          1251,
          1001,
          501,
          1001,
          501,
          751,
          1001,
          501,
          501,
          1001,
          1001,
          1501,
          1001,
          501,
          1251,
          1001,
          751,
          751,
          1501,
          1501,
          501,
          751,
          751,
          751,
          501,
          1501,
          1251,
          1001,
          1251,
          1251,
          1001,
          501,
          1251,
          1251,
          501,
          1251,
          1251
         ],
         "xaxis": "x",
         "yaxis": "y"
        }
       ],
       "layout": {
        "barmode": "relative",
        "legend": {
         "title": {
          "text": "variable"
         },
         "tracegroupgap": 0
        },
        "margin": {
         "t": 60
        },
        "template": {
         "data": {
          "bar": [
           {
            "error_x": {
             "color": "#2a3f5f"
            },
            "error_y": {
             "color": "#2a3f5f"
            },
            "marker": {
             "line": {
              "color": "#E5ECF6",
              "width": 0.5
             },
             "pattern": {
              "fillmode": "overlay",
              "size": 10,
              "solidity": 0.2
             }
            },
            "type": "bar"
           }
          ],
          "barpolar": [
           {
            "marker": {
             "line": {
              "color": "#E5ECF6",
              "width": 0.5
             },
             "pattern": {
              "fillmode": "overlay",
              "size": 10,
              "solidity": 0.2
             }
            },
            "type": "barpolar"
           }
          ],
          "carpet": [
           {
            "aaxis": {
             "endlinecolor": "#2a3f5f",
             "gridcolor": "white",
             "linecolor": "white",
             "minorgridcolor": "white",
             "startlinecolor": "#2a3f5f"
            },
            "baxis": {
             "endlinecolor": "#2a3f5f",
             "gridcolor": "white",
             "linecolor": "white",
             "minorgridcolor": "white",
             "startlinecolor": "#2a3f5f"
            },
            "type": "carpet"
           }
          ],
          "choropleth": [
           {
            "colorbar": {
             "outlinewidth": 0,
             "ticks": ""
            },
            "type": "choropleth"
           }
          ],
          "contour": [
           {
            "colorbar": {
             "outlinewidth": 0,
             "ticks": ""
            },
            "colorscale": [
             [
              0,
              "#0d0887"
             ],
             [
              0.1111111111111111,
              "#46039f"
             ],
             [
              0.2222222222222222,
              "#7201a8"
             ],
             [
              0.3333333333333333,
              "#9c179e"
             ],
             [
              0.4444444444444444,
              "#bd3786"
             ],
             [
              0.5555555555555556,
              "#d8576b"
             ],
             [
              0.6666666666666666,
              "#ed7953"
             ],
             [
              0.7777777777777778,
              "#fb9f3a"
             ],
             [
              0.8888888888888888,
              "#fdca26"
             ],
             [
              1,
              "#f0f921"
             ]
            ],
            "type": "contour"
           }
          ],
          "contourcarpet": [
           {
            "colorbar": {
             "outlinewidth": 0,
             "ticks": ""
            },
            "type": "contourcarpet"
           }
          ],
          "heatmap": [
           {
            "colorbar": {
             "outlinewidth": 0,
             "ticks": ""
            },
            "colorscale": [
             [
              0,
              "#0d0887"
             ],
             [
              0.1111111111111111,
              "#46039f"
             ],
             [
              0.2222222222222222,
              "#7201a8"
             ],
             [
              0.3333333333333333,
              "#9c179e"
             ],
             [
              0.4444444444444444,
              "#bd3786"
             ],
             [
              0.5555555555555556,
              "#d8576b"
             ],
             [
              0.6666666666666666,
              "#ed7953"
             ],
             [
              0.7777777777777778,
              "#fb9f3a"
             ],
             [
              0.8888888888888888,
              "#fdca26"
             ],
             [
              1,
              "#f0f921"
             ]
            ],
            "type": "heatmap"
           }
          ],
          "heatmapgl": [
           {
            "colorbar": {
             "outlinewidth": 0,
             "ticks": ""
            },
            "colorscale": [
             [
              0,
              "#0d0887"
             ],
             [
              0.1111111111111111,
              "#46039f"
             ],
             [
              0.2222222222222222,
              "#7201a8"
             ],
             [
              0.3333333333333333,
              "#9c179e"
             ],
             [
              0.4444444444444444,
              "#bd3786"
             ],
             [
              0.5555555555555556,
              "#d8576b"
             ],
             [
              0.6666666666666666,
              "#ed7953"
             ],
             [
              0.7777777777777778,
              "#fb9f3a"
             ],
             [
              0.8888888888888888,
              "#fdca26"
             ],
             [
              1,
              "#f0f921"
             ]
            ],
            "type": "heatmapgl"
           }
          ],
          "histogram": [
           {
            "marker": {
             "pattern": {
              "fillmode": "overlay",
              "size": 10,
              "solidity": 0.2
             }
            },
            "type": "histogram"
           }
          ],
          "histogram2d": [
           {
            "colorbar": {
             "outlinewidth": 0,
             "ticks": ""
            },
            "colorscale": [
             [
              0,
              "#0d0887"
             ],
             [
              0.1111111111111111,
              "#46039f"
             ],
             [
              0.2222222222222222,
              "#7201a8"
             ],
             [
              0.3333333333333333,
              "#9c179e"
             ],
             [
              0.4444444444444444,
              "#bd3786"
             ],
             [
              0.5555555555555556,
              "#d8576b"
             ],
             [
              0.6666666666666666,
              "#ed7953"
             ],
             [
              0.7777777777777778,
              "#fb9f3a"
             ],
             [
              0.8888888888888888,
              "#fdca26"
             ],
             [
              1,
              "#f0f921"
             ]
            ],
            "type": "histogram2d"
           }
          ],
          "histogram2dcontour": [
           {
            "colorbar": {
             "outlinewidth": 0,
             "ticks": ""
            },
            "colorscale": [
             [
              0,
              "#0d0887"
             ],
             [
              0.1111111111111111,
              "#46039f"
             ],
             [
              0.2222222222222222,
              "#7201a8"
             ],
             [
              0.3333333333333333,
              "#9c179e"
             ],
             [
              0.4444444444444444,
              "#bd3786"
             ],
             [
              0.5555555555555556,
              "#d8576b"
             ],
             [
              0.6666666666666666,
              "#ed7953"
             ],
             [
              0.7777777777777778,
              "#fb9f3a"
             ],
             [
              0.8888888888888888,
              "#fdca26"
             ],
             [
              1,
              "#f0f921"
             ]
            ],
            "type": "histogram2dcontour"
           }
          ],
          "mesh3d": [
           {
            "colorbar": {
             "outlinewidth": 0,
             "ticks": ""
            },
            "type": "mesh3d"
           }
          ],
          "parcoords": [
           {
            "line": {
             "colorbar": {
              "outlinewidth": 0,
              "ticks": ""
             }
            },
            "type": "parcoords"
           }
          ],
          "pie": [
           {
            "automargin": true,
            "type": "pie"
           }
          ],
          "scatter": [
           {
            "fillpattern": {
             "fillmode": "overlay",
             "size": 10,
             "solidity": 0.2
            },
            "type": "scatter"
           }
          ],
          "scatter3d": [
           {
            "line": {
             "colorbar": {
              "outlinewidth": 0,
              "ticks": ""
             }
            },
            "marker": {
             "colorbar": {
              "outlinewidth": 0,
              "ticks": ""
             }
            },
            "type": "scatter3d"
           }
          ],
          "scattercarpet": [
           {
            "marker": {
             "colorbar": {
              "outlinewidth": 0,
              "ticks": ""
             }
            },
            "type": "scattercarpet"
           }
          ],
          "scattergeo": [
           {
            "marker": {
             "colorbar": {
              "outlinewidth": 0,
              "ticks": ""
             }
            },
            "type": "scattergeo"
           }
          ],
          "scattergl": [
           {
            "marker": {
             "colorbar": {
              "outlinewidth": 0,
              "ticks": ""
             }
            },
            "type": "scattergl"
           }
          ],
          "scattermapbox": [
           {
            "marker": {
             "colorbar": {
              "outlinewidth": 0,
              "ticks": ""
             }
            },
            "type": "scattermapbox"
           }
          ],
          "scatterpolar": [
           {
            "marker": {
             "colorbar": {
              "outlinewidth": 0,
              "ticks": ""
             }
            },
            "type": "scatterpolar"
           }
          ],
          "scatterpolargl": [
           {
            "marker": {
             "colorbar": {
              "outlinewidth": 0,
              "ticks": ""
             }
            },
            "type": "scatterpolargl"
           }
          ],
          "scatterternary": [
           {
            "marker": {
             "colorbar": {
              "outlinewidth": 0,
              "ticks": ""
             }
            },
            "type": "scatterternary"
           }
          ],
          "surface": [
           {
            "colorbar": {
             "outlinewidth": 0,
             "ticks": ""
            },
            "colorscale": [
             [
              0,
              "#0d0887"
             ],
             [
              0.1111111111111111,
              "#46039f"
             ],
             [
              0.2222222222222222,
              "#7201a8"
             ],
             [
              0.3333333333333333,
              "#9c179e"
             ],
             [
              0.4444444444444444,
              "#bd3786"
             ],
             [
              0.5555555555555556,
              "#d8576b"
             ],
             [
              0.6666666666666666,
              "#ed7953"
             ],
             [
              0.7777777777777778,
              "#fb9f3a"
             ],
             [
              0.8888888888888888,
              "#fdca26"
             ],
             [
              1,
              "#f0f921"
             ]
            ],
            "type": "surface"
           }
          ],
          "table": [
           {
            "cells": {
             "fill": {
              "color": "#EBF0F8"
             },
             "line": {
              "color": "white"
             }
            },
            "header": {
             "fill": {
              "color": "#C8D4E3"
             },
             "line": {
              "color": "white"
             }
            },
            "type": "table"
           }
          ]
         },
         "layout": {
          "annotationdefaults": {
           "arrowcolor": "#2a3f5f",
           "arrowhead": 0,
           "arrowwidth": 1
          },
          "autotypenumbers": "strict",
          "coloraxis": {
           "colorbar": {
            "outlinewidth": 0,
            "ticks": ""
           }
          },
          "colorscale": {
           "diverging": [
            [
             0,
             "#8e0152"
            ],
            [
             0.1,
             "#c51b7d"
            ],
            [
             0.2,
             "#de77ae"
            ],
            [
             0.3,
             "#f1b6da"
            ],
            [
             0.4,
             "#fde0ef"
            ],
            [
             0.5,
             "#f7f7f7"
            ],
            [
             0.6,
             "#e6f5d0"
            ],
            [
             0.7,
             "#b8e186"
            ],
            [
             0.8,
             "#7fbc41"
            ],
            [
             0.9,
             "#4d9221"
            ],
            [
             1,
             "#276419"
            ]
           ],
           "sequential": [
            [
             0,
             "#0d0887"
            ],
            [
             0.1111111111111111,
             "#46039f"
            ],
            [
             0.2222222222222222,
             "#7201a8"
            ],
            [
             0.3333333333333333,
             "#9c179e"
            ],
            [
             0.4444444444444444,
             "#bd3786"
            ],
            [
             0.5555555555555556,
             "#d8576b"
            ],
            [
             0.6666666666666666,
             "#ed7953"
            ],
            [
             0.7777777777777778,
             "#fb9f3a"
            ],
            [
             0.8888888888888888,
             "#fdca26"
            ],
            [
             1,
             "#f0f921"
            ]
           ],
           "sequentialminus": [
            [
             0,
             "#0d0887"
            ],
            [
             0.1111111111111111,
             "#46039f"
            ],
            [
             0.2222222222222222,
             "#7201a8"
            ],
            [
             0.3333333333333333,
             "#9c179e"
            ],
            [
             0.4444444444444444,
             "#bd3786"
            ],
            [
             0.5555555555555556,
             "#d8576b"
            ],
            [
             0.6666666666666666,
             "#ed7953"
            ],
            [
             0.7777777777777778,
             "#fb9f3a"
            ],
            [
             0.8888888888888888,
             "#fdca26"
            ],
            [
             1,
             "#f0f921"
            ]
           ]
          },
          "colorway": [
           "#636efa",
           "#EF553B",
           "#00cc96",
           "#ab63fa",
           "#FFA15A",
           "#19d3f3",
           "#FF6692",
           "#B6E880",
           "#FF97FF",
           "#FECB52"
          ],
          "font": {
           "color": "#2a3f5f"
          },
          "geo": {
           "bgcolor": "white",
           "lakecolor": "white",
           "landcolor": "#E5ECF6",
           "showlakes": true,
           "showland": true,
           "subunitcolor": "white"
          },
          "hoverlabel": {
           "align": "left"
          },
          "hovermode": "closest",
          "mapbox": {
           "style": "light"
          },
          "paper_bgcolor": "white",
          "plot_bgcolor": "#E5ECF6",
          "polar": {
           "angularaxis": {
            "gridcolor": "white",
            "linecolor": "white",
            "ticks": ""
           },
           "bgcolor": "#E5ECF6",
           "radialaxis": {
            "gridcolor": "white",
            "linecolor": "white",
            "ticks": ""
           }
          },
          "scene": {
           "xaxis": {
            "backgroundcolor": "#E5ECF6",
            "gridcolor": "white",
            "gridwidth": 2,
            "linecolor": "white",
            "showbackground": true,
            "ticks": "",
            "zerolinecolor": "white"
           },
           "yaxis": {
            "backgroundcolor": "#E5ECF6",
            "gridcolor": "white",
            "gridwidth": 2,
            "linecolor": "white",
            "showbackground": true,
            "ticks": "",
            "zerolinecolor": "white"
           },
           "zaxis": {
            "backgroundcolor": "#E5ECF6",
            "gridcolor": "white",
            "gridwidth": 2,
            "linecolor": "white",
            "showbackground": true,
            "ticks": "",
            "zerolinecolor": "white"
           }
          },
          "shapedefaults": {
           "line": {
            "color": "#2a3f5f"
           }
          },
          "ternary": {
           "aaxis": {
            "gridcolor": "white",
            "linecolor": "white",
            "ticks": ""
           },
           "baxis": {
            "gridcolor": "white",
            "linecolor": "white",
            "ticks": ""
           },
           "bgcolor": "#E5ECF6",
           "caxis": {
            "gridcolor": "white",
            "linecolor": "white",
            "ticks": ""
           }
          },
          "title": {
           "x": 0.05
          },
          "xaxis": {
           "automargin": true,
           "gridcolor": "white",
           "linecolor": "white",
           "ticks": "",
           "title": {
            "standoff": 15
           },
           "zerolinecolor": "white",
           "zerolinewidth": 2
          },
          "yaxis": {
           "automargin": true,
           "gridcolor": "white",
           "linecolor": "white",
           "ticks": "",
           "title": {
            "standoff": 15
           },
           "zerolinecolor": "white",
           "zerolinewidth": 2
          }
         }
        },
        "xaxis": {
         "anchor": "y",
         "domain": [
          0,
          1
         ],
         "title": {
          "text": "value"
         }
        },
        "yaxis": {
         "anchor": "x",
         "domain": [
          0,
          1
         ],
         "title": {
          "text": "count"
         }
        }
       }
      },
      "text/html": [
       "<div>                            <div id=\"ef9c1a81-43ef-406c-b872-d0527b932866\" class=\"plotly-graph-div\" style=\"height:525px; width:100%;\"></div>            <script type=\"text/javascript\">                require([\"plotly\"], function(Plotly) {                    window.PLOTLYENV=window.PLOTLYENV || {};                                    if (document.getElementById(\"ef9c1a81-43ef-406c-b872-d0527b932866\")) {                    Plotly.newPlot(                        \"ef9c1a81-43ef-406c-b872-d0527b932866\",                        [{\"alignmentgroup\":\"True\",\"bingroup\":\"x\",\"hovertemplate\":\"variable=pwindow\\u003cbr\\u003evalue=%{x}\\u003cbr\\u003ecount=%{y}\\u003cextra\\u003e\\u003c\\u002fextra\\u003e\",\"legendgroup\":\"pwindow\",\"marker\":{\"color\":\"#636efa\",\"pattern\":{\"shape\":\"\"}},\"name\":\"pwindow\",\"offsetgroup\":\"pwindow\",\"orientation\":\"v\",\"showlegend\":true,\"x\":[1501,1001,1001,1501,751,1251,751,1251,1501,501,751,1251,751,751,1501,751,1251,1001,1501,1001,1251,1501,501,1001,501,751,1251,1001,501,1001,501,751,1001,501,501,1001,1001,1501,1001,501,1251,1001,751,751,1501,1501,501,751,751,751,501,1501,1251,1001,1251,1251,1001,501,1251,1251,501,1251,1251],\"xaxis\":\"x\",\"yaxis\":\"y\",\"type\":\"histogram\"}],                        {\"template\":{\"data\":{\"histogram2dcontour\":[{\"type\":\"histogram2dcontour\",\"colorbar\":{\"outlinewidth\":0,\"ticks\":\"\"},\"colorscale\":[[0.0,\"#0d0887\"],[0.1111111111111111,\"#46039f\"],[0.2222222222222222,\"#7201a8\"],[0.3333333333333333,\"#9c179e\"],[0.4444444444444444,\"#bd3786\"],[0.5555555555555556,\"#d8576b\"],[0.6666666666666666,\"#ed7953\"],[0.7777777777777778,\"#fb9f3a\"],[0.8888888888888888,\"#fdca26\"],[1.0,\"#f0f921\"]]}],\"choropleth\":[{\"type\":\"choropleth\",\"colorbar\":{\"outlinewidth\":0,\"ticks\":\"\"}}],\"histogram2d\":[{\"type\":\"histogram2d\",\"colorbar\":{\"outlinewidth\":0,\"ticks\":\"\"},\"colorscale\":[[0.0,\"#0d0887\"],[0.1111111111111111,\"#46039f\"],[0.2222222222222222,\"#7201a8\"],[0.3333333333333333,\"#9c179e\"],[0.4444444444444444,\"#bd3786\"],[0.5555555555555556,\"#d8576b\"],[0.6666666666666666,\"#ed7953\"],[0.7777777777777778,\"#fb9f3a\"],[0.8888888888888888,\"#fdca26\"],[1.0,\"#f0f921\"]]}],\"heatmap\":[{\"type\":\"heatmap\",\"colorbar\":{\"outlinewidth\":0,\"ticks\":\"\"},\"colorscale\":[[0.0,\"#0d0887\"],[0.1111111111111111,\"#46039f\"],[0.2222222222222222,\"#7201a8\"],[0.3333333333333333,\"#9c179e\"],[0.4444444444444444,\"#bd3786\"],[0.5555555555555556,\"#d8576b\"],[0.6666666666666666,\"#ed7953\"],[0.7777777777777778,\"#fb9f3a\"],[0.8888888888888888,\"#fdca26\"],[1.0,\"#f0f921\"]]}],\"heatmapgl\":[{\"type\":\"heatmapgl\",\"colorbar\":{\"outlinewidth\":0,\"ticks\":\"\"},\"colorscale\":[[0.0,\"#0d0887\"],[0.1111111111111111,\"#46039f\"],[0.2222222222222222,\"#7201a8\"],[0.3333333333333333,\"#9c179e\"],[0.4444444444444444,\"#bd3786\"],[0.5555555555555556,\"#d8576b\"],[0.6666666666666666,\"#ed7953\"],[0.7777777777777778,\"#fb9f3a\"],[0.8888888888888888,\"#fdca26\"],[1.0,\"#f0f921\"]]}],\"contourcarpet\":[{\"type\":\"contourcarpet\",\"colorbar\":{\"outlinewidth\":0,\"ticks\":\"\"}}],\"contour\":[{\"type\":\"contour\",\"colorbar\":{\"outlinewidth\":0,\"ticks\":\"\"},\"colorscale\":[[0.0,\"#0d0887\"],[0.1111111111111111,\"#46039f\"],[0.2222222222222222,\"#7201a8\"],[0.3333333333333333,\"#9c179e\"],[0.4444444444444444,\"#bd3786\"],[0.5555555555555556,\"#d8576b\"],[0.6666666666666666,\"#ed7953\"],[0.7777777777777778,\"#fb9f3a\"],[0.8888888888888888,\"#fdca26\"],[1.0,\"#f0f921\"]]}],\"surface\":[{\"type\":\"surface\",\"colorbar\":{\"outlinewidth\":0,\"ticks\":\"\"},\"colorscale\":[[0.0,\"#0d0887\"],[0.1111111111111111,\"#46039f\"],[0.2222222222222222,\"#7201a8\"],[0.3333333333333333,\"#9c179e\"],[0.4444444444444444,\"#bd3786\"],[0.5555555555555556,\"#d8576b\"],[0.6666666666666666,\"#ed7953\"],[0.7777777777777778,\"#fb9f3a\"],[0.8888888888888888,\"#fdca26\"],[1.0,\"#f0f921\"]]}],\"mesh3d\":[{\"type\":\"mesh3d\",\"colorbar\":{\"outlinewidth\":0,\"ticks\":\"\"}}],\"scatter\":[{\"fillpattern\":{\"fillmode\":\"overlay\",\"size\":10,\"solidity\":0.2},\"type\":\"scatter\"}],\"parcoords\":[{\"type\":\"parcoords\",\"line\":{\"colorbar\":{\"outlinewidth\":0,\"ticks\":\"\"}}}],\"scatterpolargl\":[{\"type\":\"scatterpolargl\",\"marker\":{\"colorbar\":{\"outlinewidth\":0,\"ticks\":\"\"}}}],\"bar\":[{\"error_x\":{\"color\":\"#2a3f5f\"},\"error_y\":{\"color\":\"#2a3f5f\"},\"marker\":{\"line\":{\"color\":\"#E5ECF6\",\"width\":0.5},\"pattern\":{\"fillmode\":\"overlay\",\"size\":10,\"solidity\":0.2}},\"type\":\"bar\"}],\"scattergeo\":[{\"type\":\"scattergeo\",\"marker\":{\"colorbar\":{\"outlinewidth\":0,\"ticks\":\"\"}}}],\"scatterpolar\":[{\"type\":\"scatterpolar\",\"marker\":{\"colorbar\":{\"outlinewidth\":0,\"ticks\":\"\"}}}],\"histogram\":[{\"marker\":{\"pattern\":{\"fillmode\":\"overlay\",\"size\":10,\"solidity\":0.2}},\"type\":\"histogram\"}],\"scattergl\":[{\"type\":\"scattergl\",\"marker\":{\"colorbar\":{\"outlinewidth\":0,\"ticks\":\"\"}}}],\"scatter3d\":[{\"type\":\"scatter3d\",\"line\":{\"colorbar\":{\"outlinewidth\":0,\"ticks\":\"\"}},\"marker\":{\"colorbar\":{\"outlinewidth\":0,\"ticks\":\"\"}}}],\"scattermapbox\":[{\"type\":\"scattermapbox\",\"marker\":{\"colorbar\":{\"outlinewidth\":0,\"ticks\":\"\"}}}],\"scatterternary\":[{\"type\":\"scatterternary\",\"marker\":{\"colorbar\":{\"outlinewidth\":0,\"ticks\":\"\"}}}],\"scattercarpet\":[{\"type\":\"scattercarpet\",\"marker\":{\"colorbar\":{\"outlinewidth\":0,\"ticks\":\"\"}}}],\"carpet\":[{\"aaxis\":{\"endlinecolor\":\"#2a3f5f\",\"gridcolor\":\"white\",\"linecolor\":\"white\",\"minorgridcolor\":\"white\",\"startlinecolor\":\"#2a3f5f\"},\"baxis\":{\"endlinecolor\":\"#2a3f5f\",\"gridcolor\":\"white\",\"linecolor\":\"white\",\"minorgridcolor\":\"white\",\"startlinecolor\":\"#2a3f5f\"},\"type\":\"carpet\"}],\"table\":[{\"cells\":{\"fill\":{\"color\":\"#EBF0F8\"},\"line\":{\"color\":\"white\"}},\"header\":{\"fill\":{\"color\":\"#C8D4E3\"},\"line\":{\"color\":\"white\"}},\"type\":\"table\"}],\"barpolar\":[{\"marker\":{\"line\":{\"color\":\"#E5ECF6\",\"width\":0.5},\"pattern\":{\"fillmode\":\"overlay\",\"size\":10,\"solidity\":0.2}},\"type\":\"barpolar\"}],\"pie\":[{\"automargin\":true,\"type\":\"pie\"}]},\"layout\":{\"autotypenumbers\":\"strict\",\"colorway\":[\"#636efa\",\"#EF553B\",\"#00cc96\",\"#ab63fa\",\"#FFA15A\",\"#19d3f3\",\"#FF6692\",\"#B6E880\",\"#FF97FF\",\"#FECB52\"],\"font\":{\"color\":\"#2a3f5f\"},\"hovermode\":\"closest\",\"hoverlabel\":{\"align\":\"left\"},\"paper_bgcolor\":\"white\",\"plot_bgcolor\":\"#E5ECF6\",\"polar\":{\"bgcolor\":\"#E5ECF6\",\"angularaxis\":{\"gridcolor\":\"white\",\"linecolor\":\"white\",\"ticks\":\"\"},\"radialaxis\":{\"gridcolor\":\"white\",\"linecolor\":\"white\",\"ticks\":\"\"}},\"ternary\":{\"bgcolor\":\"#E5ECF6\",\"aaxis\":{\"gridcolor\":\"white\",\"linecolor\":\"white\",\"ticks\":\"\"},\"baxis\":{\"gridcolor\":\"white\",\"linecolor\":\"white\",\"ticks\":\"\"},\"caxis\":{\"gridcolor\":\"white\",\"linecolor\":\"white\",\"ticks\":\"\"}},\"coloraxis\":{\"colorbar\":{\"outlinewidth\":0,\"ticks\":\"\"}},\"colorscale\":{\"sequential\":[[0.0,\"#0d0887\"],[0.1111111111111111,\"#46039f\"],[0.2222222222222222,\"#7201a8\"],[0.3333333333333333,\"#9c179e\"],[0.4444444444444444,\"#bd3786\"],[0.5555555555555556,\"#d8576b\"],[0.6666666666666666,\"#ed7953\"],[0.7777777777777778,\"#fb9f3a\"],[0.8888888888888888,\"#fdca26\"],[1.0,\"#f0f921\"]],\"sequentialminus\":[[0.0,\"#0d0887\"],[0.1111111111111111,\"#46039f\"],[0.2222222222222222,\"#7201a8\"],[0.3333333333333333,\"#9c179e\"],[0.4444444444444444,\"#bd3786\"],[0.5555555555555556,\"#d8576b\"],[0.6666666666666666,\"#ed7953\"],[0.7777777777777778,\"#fb9f3a\"],[0.8888888888888888,\"#fdca26\"],[1.0,\"#f0f921\"]],\"diverging\":[[0,\"#8e0152\"],[0.1,\"#c51b7d\"],[0.2,\"#de77ae\"],[0.3,\"#f1b6da\"],[0.4,\"#fde0ef\"],[0.5,\"#f7f7f7\"],[0.6,\"#e6f5d0\"],[0.7,\"#b8e186\"],[0.8,\"#7fbc41\"],[0.9,\"#4d9221\"],[1,\"#276419\"]]},\"xaxis\":{\"gridcolor\":\"white\",\"linecolor\":\"white\",\"ticks\":\"\",\"title\":{\"standoff\":15},\"zerolinecolor\":\"white\",\"automargin\":true,\"zerolinewidth\":2},\"yaxis\":{\"gridcolor\":\"white\",\"linecolor\":\"white\",\"ticks\":\"\",\"title\":{\"standoff\":15},\"zerolinecolor\":\"white\",\"automargin\":true,\"zerolinewidth\":2},\"scene\":{\"xaxis\":{\"backgroundcolor\":\"#E5ECF6\",\"gridcolor\":\"white\",\"linecolor\":\"white\",\"showbackground\":true,\"ticks\":\"\",\"zerolinecolor\":\"white\",\"gridwidth\":2},\"yaxis\":{\"backgroundcolor\":\"#E5ECF6\",\"gridcolor\":\"white\",\"linecolor\":\"white\",\"showbackground\":true,\"ticks\":\"\",\"zerolinecolor\":\"white\",\"gridwidth\":2},\"zaxis\":{\"backgroundcolor\":\"#E5ECF6\",\"gridcolor\":\"white\",\"linecolor\":\"white\",\"showbackground\":true,\"ticks\":\"\",\"zerolinecolor\":\"white\",\"gridwidth\":2}},\"shapedefaults\":{\"line\":{\"color\":\"#2a3f5f\"}},\"annotationdefaults\":{\"arrowcolor\":\"#2a3f5f\",\"arrowhead\":0,\"arrowwidth\":1},\"geo\":{\"bgcolor\":\"white\",\"landcolor\":\"#E5ECF6\",\"subunitcolor\":\"white\",\"showland\":true,\"showlakes\":true,\"lakecolor\":\"white\"},\"title\":{\"x\":0.05},\"mapbox\":{\"style\":\"light\"}}},\"xaxis\":{\"anchor\":\"y\",\"domain\":[0.0,1.0],\"title\":{\"text\":\"value\"}},\"yaxis\":{\"anchor\":\"x\",\"domain\":[0.0,1.0],\"title\":{\"text\":\"count\"}},\"legend\":{\"title\":{\"text\":\"variable\"},\"tracegroupgap\":0},\"margin\":{\"t\":60},\"barmode\":\"relative\"},                        {\"responsive\": true}                    ).then(function(){\n",
       "                            \n",
       "var gd = document.getElementById('ef9c1a81-43ef-406c-b872-d0527b932866');\n",
       "var x = new MutationObserver(function (mutations, observer) {{\n",
       "        var display = window.getComputedStyle(gd).display;\n",
       "        if (!display || display === 'none') {{\n",
       "            console.log([gd, 'removed!']);\n",
       "            Plotly.purge(gd);\n",
       "            observer.disconnect();\n",
       "        }}\n",
       "}});\n",
       "\n",
       "// Listen for the removal of the full notebook cells\n",
       "var notebookContainer = gd.closest('#notebook-container');\n",
       "if (notebookContainer) {{\n",
       "    x.observe(notebookContainer, {childList: true});\n",
       "}}\n",
       "\n",
       "// Listen for the clearing of the current output cell\n",
       "var outputEl = gd.closest('.output');\n",
       "if (outputEl) {{\n",
       "    x.observe(outputEl, {childList: true});\n",
       "}}\n",
       "\n",
       "                        })                };                });            </script>        </div>"
      ]
     },
     "metadata": {},
     "output_type": "display_data"
    }
   ],
   "source": [
    "full_best_enhancements[\"pwindow\"].hist()"
   ]
  },
  {
   "cell_type": "code",
   "execution_count": 64,
   "id": "7d28b2b0",
   "metadata": {},
   "outputs": [
    {
     "data": {
      "application/vnd.plotly.v1+json": {
       "config": {
        "plotlyServerURL": "https://plot.ly"
       },
       "data": [
        {
         "alignmentgroup": "True",
         "bingroup": "x",
         "hovertemplate": "variable=model_name<br>value=%{x}<br>count=%{y}<extra></extra>",
         "legendgroup": "model_name",
         "marker": {
          "color": "#636efa",
          "pattern": {
           "shape": ""
          }
         },
         "name": "model_name",
         "offsetgroup": "model_name",
         "orientation": "v",
         "showlegend": true,
         "type": "histogram",
         "x": [
          "PatchTST",
          "PatchTST",
          "PatchTST",
          "PatchTST",
          "PatchTST",
          "PatchTST",
          "PatchTST",
          "PatchTST",
          "PatchTST",
          "PatchTST",
          "iTransformer",
          "iTransformer",
          "TimesNet",
          "TimesNet",
          "TimesNet",
          "TimesNet",
          "TimesNet",
          "TimesNet",
          "TimesNet",
          "TimesNet",
          "TimesNet",
          "TimesNet",
          "TimesNet",
          "TimesNet",
          "TimesNet",
          "TimesNet",
          "TimesNet",
          "TimesNet",
          "TimesNet",
          "TimesNet",
          "TimeXer",
          "TimeXer",
          "TimeXer",
          "TimeXer",
          "TimeXer",
          "TimeXer",
          "TimeXer",
          "TimeXer",
          "TimeXer",
          "TimeXer",
          "TimeXer",
          "TimeXer",
          "TimeXer",
          "TimeXer",
          "TimeXer",
          "TimeXer",
          "TimeXer",
          "TimeXer",
          "TimeXer",
          "TimeXer",
          "TimeXer",
          "TimeXer",
          "TimeXer",
          "TimeXer",
          "TimeXer",
          "TimeXer",
          "TimeXer",
          "TimeXer",
          "TimeXer",
          "TimeXer",
          "TimeXer",
          "TimeXer",
          "TimeXer"
         ],
         "xaxis": "x",
         "yaxis": "y"
        }
       ],
       "layout": {
        "barmode": "relative",
        "legend": {
         "title": {
          "text": "variable"
         },
         "tracegroupgap": 0
        },
        "margin": {
         "t": 60
        },
        "template": {
         "data": {
          "bar": [
           {
            "error_x": {
             "color": "#2a3f5f"
            },
            "error_y": {
             "color": "#2a3f5f"
            },
            "marker": {
             "line": {
              "color": "#E5ECF6",
              "width": 0.5
             },
             "pattern": {
              "fillmode": "overlay",
              "size": 10,
              "solidity": 0.2
             }
            },
            "type": "bar"
           }
          ],
          "barpolar": [
           {
            "marker": {
             "line": {
              "color": "#E5ECF6",
              "width": 0.5
             },
             "pattern": {
              "fillmode": "overlay",
              "size": 10,
              "solidity": 0.2
             }
            },
            "type": "barpolar"
           }
          ],
          "carpet": [
           {
            "aaxis": {
             "endlinecolor": "#2a3f5f",
             "gridcolor": "white",
             "linecolor": "white",
             "minorgridcolor": "white",
             "startlinecolor": "#2a3f5f"
            },
            "baxis": {
             "endlinecolor": "#2a3f5f",
             "gridcolor": "white",
             "linecolor": "white",
             "minorgridcolor": "white",
             "startlinecolor": "#2a3f5f"
            },
            "type": "carpet"
           }
          ],
          "choropleth": [
           {
            "colorbar": {
             "outlinewidth": 0,
             "ticks": ""
            },
            "type": "choropleth"
           }
          ],
          "contour": [
           {
            "colorbar": {
             "outlinewidth": 0,
             "ticks": ""
            },
            "colorscale": [
             [
              0,
              "#0d0887"
             ],
             [
              0.1111111111111111,
              "#46039f"
             ],
             [
              0.2222222222222222,
              "#7201a8"
             ],
             [
              0.3333333333333333,
              "#9c179e"
             ],
             [
              0.4444444444444444,
              "#bd3786"
             ],
             [
              0.5555555555555556,
              "#d8576b"
             ],
             [
              0.6666666666666666,
              "#ed7953"
             ],
             [
              0.7777777777777778,
              "#fb9f3a"
             ],
             [
              0.8888888888888888,
              "#fdca26"
             ],
             [
              1,
              "#f0f921"
             ]
            ],
            "type": "contour"
           }
          ],
          "contourcarpet": [
           {
            "colorbar": {
             "outlinewidth": 0,
             "ticks": ""
            },
            "type": "contourcarpet"
           }
          ],
          "heatmap": [
           {
            "colorbar": {
             "outlinewidth": 0,
             "ticks": ""
            },
            "colorscale": [
             [
              0,
              "#0d0887"
             ],
             [
              0.1111111111111111,
              "#46039f"
             ],
             [
              0.2222222222222222,
              "#7201a8"
             ],
             [
              0.3333333333333333,
              "#9c179e"
             ],
             [
              0.4444444444444444,
              "#bd3786"
             ],
             [
              0.5555555555555556,
              "#d8576b"
             ],
             [
              0.6666666666666666,
              "#ed7953"
             ],
             [
              0.7777777777777778,
              "#fb9f3a"
             ],
             [
              0.8888888888888888,
              "#fdca26"
             ],
             [
              1,
              "#f0f921"
             ]
            ],
            "type": "heatmap"
           }
          ],
          "heatmapgl": [
           {
            "colorbar": {
             "outlinewidth": 0,
             "ticks": ""
            },
            "colorscale": [
             [
              0,
              "#0d0887"
             ],
             [
              0.1111111111111111,
              "#46039f"
             ],
             [
              0.2222222222222222,
              "#7201a8"
             ],
             [
              0.3333333333333333,
              "#9c179e"
             ],
             [
              0.4444444444444444,
              "#bd3786"
             ],
             [
              0.5555555555555556,
              "#d8576b"
             ],
             [
              0.6666666666666666,
              "#ed7953"
             ],
             [
              0.7777777777777778,
              "#fb9f3a"
             ],
             [
              0.8888888888888888,
              "#fdca26"
             ],
             [
              1,
              "#f0f921"
             ]
            ],
            "type": "heatmapgl"
           }
          ],
          "histogram": [
           {
            "marker": {
             "pattern": {
              "fillmode": "overlay",
              "size": 10,
              "solidity": 0.2
             }
            },
            "type": "histogram"
           }
          ],
          "histogram2d": [
           {
            "colorbar": {
             "outlinewidth": 0,
             "ticks": ""
            },
            "colorscale": [
             [
              0,
              "#0d0887"
             ],
             [
              0.1111111111111111,
              "#46039f"
             ],
             [
              0.2222222222222222,
              "#7201a8"
             ],
             [
              0.3333333333333333,
              "#9c179e"
             ],
             [
              0.4444444444444444,
              "#bd3786"
             ],
             [
              0.5555555555555556,
              "#d8576b"
             ],
             [
              0.6666666666666666,
              "#ed7953"
             ],
             [
              0.7777777777777778,
              "#fb9f3a"
             ],
             [
              0.8888888888888888,
              "#fdca26"
             ],
             [
              1,
              "#f0f921"
             ]
            ],
            "type": "histogram2d"
           }
          ],
          "histogram2dcontour": [
           {
            "colorbar": {
             "outlinewidth": 0,
             "ticks": ""
            },
            "colorscale": [
             [
              0,
              "#0d0887"
             ],
             [
              0.1111111111111111,
              "#46039f"
             ],
             [
              0.2222222222222222,
              "#7201a8"
             ],
             [
              0.3333333333333333,
              "#9c179e"
             ],
             [
              0.4444444444444444,
              "#bd3786"
             ],
             [
              0.5555555555555556,
              "#d8576b"
             ],
             [
              0.6666666666666666,
              "#ed7953"
             ],
             [
              0.7777777777777778,
              "#fb9f3a"
             ],
             [
              0.8888888888888888,
              "#fdca26"
             ],
             [
              1,
              "#f0f921"
             ]
            ],
            "type": "histogram2dcontour"
           }
          ],
          "mesh3d": [
           {
            "colorbar": {
             "outlinewidth": 0,
             "ticks": ""
            },
            "type": "mesh3d"
           }
          ],
          "parcoords": [
           {
            "line": {
             "colorbar": {
              "outlinewidth": 0,
              "ticks": ""
             }
            },
            "type": "parcoords"
           }
          ],
          "pie": [
           {
            "automargin": true,
            "type": "pie"
           }
          ],
          "scatter": [
           {
            "fillpattern": {
             "fillmode": "overlay",
             "size": 10,
             "solidity": 0.2
            },
            "type": "scatter"
           }
          ],
          "scatter3d": [
           {
            "line": {
             "colorbar": {
              "outlinewidth": 0,
              "ticks": ""
             }
            },
            "marker": {
             "colorbar": {
              "outlinewidth": 0,
              "ticks": ""
             }
            },
            "type": "scatter3d"
           }
          ],
          "scattercarpet": [
           {
            "marker": {
             "colorbar": {
              "outlinewidth": 0,
              "ticks": ""
             }
            },
            "type": "scattercarpet"
           }
          ],
          "scattergeo": [
           {
            "marker": {
             "colorbar": {
              "outlinewidth": 0,
              "ticks": ""
             }
            },
            "type": "scattergeo"
           }
          ],
          "scattergl": [
           {
            "marker": {
             "colorbar": {
              "outlinewidth": 0,
              "ticks": ""
             }
            },
            "type": "scattergl"
           }
          ],
          "scattermapbox": [
           {
            "marker": {
             "colorbar": {
              "outlinewidth": 0,
              "ticks": ""
             }
            },
            "type": "scattermapbox"
           }
          ],
          "scatterpolar": [
           {
            "marker": {
             "colorbar": {
              "outlinewidth": 0,
              "ticks": ""
             }
            },
            "type": "scatterpolar"
           }
          ],
          "scatterpolargl": [
           {
            "marker": {
             "colorbar": {
              "outlinewidth": 0,
              "ticks": ""
             }
            },
            "type": "scatterpolargl"
           }
          ],
          "scatterternary": [
           {
            "marker": {
             "colorbar": {
              "outlinewidth": 0,
              "ticks": ""
             }
            },
            "type": "scatterternary"
           }
          ],
          "surface": [
           {
            "colorbar": {
             "outlinewidth": 0,
             "ticks": ""
            },
            "colorscale": [
             [
              0,
              "#0d0887"
             ],
             [
              0.1111111111111111,
              "#46039f"
             ],
             [
              0.2222222222222222,
              "#7201a8"
             ],
             [
              0.3333333333333333,
              "#9c179e"
             ],
             [
              0.4444444444444444,
              "#bd3786"
             ],
             [
              0.5555555555555556,
              "#d8576b"
             ],
             [
              0.6666666666666666,
              "#ed7953"
             ],
             [
              0.7777777777777778,
              "#fb9f3a"
             ],
             [
              0.8888888888888888,
              "#fdca26"
             ],
             [
              1,
              "#f0f921"
             ]
            ],
            "type": "surface"
           }
          ],
          "table": [
           {
            "cells": {
             "fill": {
              "color": "#EBF0F8"
             },
             "line": {
              "color": "white"
             }
            },
            "header": {
             "fill": {
              "color": "#C8D4E3"
             },
             "line": {
              "color": "white"
             }
            },
            "type": "table"
           }
          ]
         },
         "layout": {
          "annotationdefaults": {
           "arrowcolor": "#2a3f5f",
           "arrowhead": 0,
           "arrowwidth": 1
          },
          "autotypenumbers": "strict",
          "coloraxis": {
           "colorbar": {
            "outlinewidth": 0,
            "ticks": ""
           }
          },
          "colorscale": {
           "diverging": [
            [
             0,
             "#8e0152"
            ],
            [
             0.1,
             "#c51b7d"
            ],
            [
             0.2,
             "#de77ae"
            ],
            [
             0.3,
             "#f1b6da"
            ],
            [
             0.4,
             "#fde0ef"
            ],
            [
             0.5,
             "#f7f7f7"
            ],
            [
             0.6,
             "#e6f5d0"
            ],
            [
             0.7,
             "#b8e186"
            ],
            [
             0.8,
             "#7fbc41"
            ],
            [
             0.9,
             "#4d9221"
            ],
            [
             1,
             "#276419"
            ]
           ],
           "sequential": [
            [
             0,
             "#0d0887"
            ],
            [
             0.1111111111111111,
             "#46039f"
            ],
            [
             0.2222222222222222,
             "#7201a8"
            ],
            [
             0.3333333333333333,
             "#9c179e"
            ],
            [
             0.4444444444444444,
             "#bd3786"
            ],
            [
             0.5555555555555556,
             "#d8576b"
            ],
            [
             0.6666666666666666,
             "#ed7953"
            ],
            [
             0.7777777777777778,
             "#fb9f3a"
            ],
            [
             0.8888888888888888,
             "#fdca26"
            ],
            [
             1,
             "#f0f921"
            ]
           ],
           "sequentialminus": [
            [
             0,
             "#0d0887"
            ],
            [
             0.1111111111111111,
             "#46039f"
            ],
            [
             0.2222222222222222,
             "#7201a8"
            ],
            [
             0.3333333333333333,
             "#9c179e"
            ],
            [
             0.4444444444444444,
             "#bd3786"
            ],
            [
             0.5555555555555556,
             "#d8576b"
            ],
            [
             0.6666666666666666,
             "#ed7953"
            ],
            [
             0.7777777777777778,
             "#fb9f3a"
            ],
            [
             0.8888888888888888,
             "#fdca26"
            ],
            [
             1,
             "#f0f921"
            ]
           ]
          },
          "colorway": [
           "#636efa",
           "#EF553B",
           "#00cc96",
           "#ab63fa",
           "#FFA15A",
           "#19d3f3",
           "#FF6692",
           "#B6E880",
           "#FF97FF",
           "#FECB52"
          ],
          "font": {
           "color": "#2a3f5f"
          },
          "geo": {
           "bgcolor": "white",
           "lakecolor": "white",
           "landcolor": "#E5ECF6",
           "showlakes": true,
           "showland": true,
           "subunitcolor": "white"
          },
          "hoverlabel": {
           "align": "left"
          },
          "hovermode": "closest",
          "mapbox": {
           "style": "light"
          },
          "paper_bgcolor": "white",
          "plot_bgcolor": "#E5ECF6",
          "polar": {
           "angularaxis": {
            "gridcolor": "white",
            "linecolor": "white",
            "ticks": ""
           },
           "bgcolor": "#E5ECF6",
           "radialaxis": {
            "gridcolor": "white",
            "linecolor": "white",
            "ticks": ""
           }
          },
          "scene": {
           "xaxis": {
            "backgroundcolor": "#E5ECF6",
            "gridcolor": "white",
            "gridwidth": 2,
            "linecolor": "white",
            "showbackground": true,
            "ticks": "",
            "zerolinecolor": "white"
           },
           "yaxis": {
            "backgroundcolor": "#E5ECF6",
            "gridcolor": "white",
            "gridwidth": 2,
            "linecolor": "white",
            "showbackground": true,
            "ticks": "",
            "zerolinecolor": "white"
           },
           "zaxis": {
            "backgroundcolor": "#E5ECF6",
            "gridcolor": "white",
            "gridwidth": 2,
            "linecolor": "white",
            "showbackground": true,
            "ticks": "",
            "zerolinecolor": "white"
           }
          },
          "shapedefaults": {
           "line": {
            "color": "#2a3f5f"
           }
          },
          "ternary": {
           "aaxis": {
            "gridcolor": "white",
            "linecolor": "white",
            "ticks": ""
           },
           "baxis": {
            "gridcolor": "white",
            "linecolor": "white",
            "ticks": ""
           },
           "bgcolor": "#E5ECF6",
           "caxis": {
            "gridcolor": "white",
            "linecolor": "white",
            "ticks": ""
           }
          },
          "title": {
           "x": 0.05
          },
          "xaxis": {
           "automargin": true,
           "gridcolor": "white",
           "linecolor": "white",
           "ticks": "",
           "title": {
            "standoff": 15
           },
           "zerolinecolor": "white",
           "zerolinewidth": 2
          },
          "yaxis": {
           "automargin": true,
           "gridcolor": "white",
           "linecolor": "white",
           "ticks": "",
           "title": {
            "standoff": 15
           },
           "zerolinecolor": "white",
           "zerolinewidth": 2
          }
         }
        },
        "xaxis": {
         "anchor": "y",
         "domain": [
          0,
          1
         ],
         "title": {
          "text": "value"
         }
        },
        "yaxis": {
         "anchor": "x",
         "domain": [
          0,
          1
         ],
         "title": {
          "text": "count"
         }
        }
       }
      },
      "text/html": [
       "<div>                            <div id=\"39b140b2-1885-4875-91d8-ac5282605dff\" class=\"plotly-graph-div\" style=\"height:525px; width:100%;\"></div>            <script type=\"text/javascript\">                require([\"plotly\"], function(Plotly) {                    window.PLOTLYENV=window.PLOTLYENV || {};                                    if (document.getElementById(\"39b140b2-1885-4875-91d8-ac5282605dff\")) {                    Plotly.newPlot(                        \"39b140b2-1885-4875-91d8-ac5282605dff\",                        [{\"alignmentgroup\":\"True\",\"bingroup\":\"x\",\"hovertemplate\":\"variable=model_name\\u003cbr\\u003evalue=%{x}\\u003cbr\\u003ecount=%{y}\\u003cextra\\u003e\\u003c\\u002fextra\\u003e\",\"legendgroup\":\"model_name\",\"marker\":{\"color\":\"#636efa\",\"pattern\":{\"shape\":\"\"}},\"name\":\"model_name\",\"offsetgroup\":\"model_name\",\"orientation\":\"v\",\"showlegend\":true,\"x\":[\"PatchTST\",\"PatchTST\",\"PatchTST\",\"PatchTST\",\"PatchTST\",\"PatchTST\",\"PatchTST\",\"PatchTST\",\"PatchTST\",\"PatchTST\",\"iTransformer\",\"iTransformer\",\"TimesNet\",\"TimesNet\",\"TimesNet\",\"TimesNet\",\"TimesNet\",\"TimesNet\",\"TimesNet\",\"TimesNet\",\"TimesNet\",\"TimesNet\",\"TimesNet\",\"TimesNet\",\"TimesNet\",\"TimesNet\",\"TimesNet\",\"TimesNet\",\"TimesNet\",\"TimesNet\",\"TimeXer\",\"TimeXer\",\"TimeXer\",\"TimeXer\",\"TimeXer\",\"TimeXer\",\"TimeXer\",\"TimeXer\",\"TimeXer\",\"TimeXer\",\"TimeXer\",\"TimeXer\",\"TimeXer\",\"TimeXer\",\"TimeXer\",\"TimeXer\",\"TimeXer\",\"TimeXer\",\"TimeXer\",\"TimeXer\",\"TimeXer\",\"TimeXer\",\"TimeXer\",\"TimeXer\",\"TimeXer\",\"TimeXer\",\"TimeXer\",\"TimeXer\",\"TimeXer\",\"TimeXer\",\"TimeXer\",\"TimeXer\",\"TimeXer\"],\"xaxis\":\"x\",\"yaxis\":\"y\",\"type\":\"histogram\"}],                        {\"template\":{\"data\":{\"histogram2dcontour\":[{\"type\":\"histogram2dcontour\",\"colorbar\":{\"outlinewidth\":0,\"ticks\":\"\"},\"colorscale\":[[0.0,\"#0d0887\"],[0.1111111111111111,\"#46039f\"],[0.2222222222222222,\"#7201a8\"],[0.3333333333333333,\"#9c179e\"],[0.4444444444444444,\"#bd3786\"],[0.5555555555555556,\"#d8576b\"],[0.6666666666666666,\"#ed7953\"],[0.7777777777777778,\"#fb9f3a\"],[0.8888888888888888,\"#fdca26\"],[1.0,\"#f0f921\"]]}],\"choropleth\":[{\"type\":\"choropleth\",\"colorbar\":{\"outlinewidth\":0,\"ticks\":\"\"}}],\"histogram2d\":[{\"type\":\"histogram2d\",\"colorbar\":{\"outlinewidth\":0,\"ticks\":\"\"},\"colorscale\":[[0.0,\"#0d0887\"],[0.1111111111111111,\"#46039f\"],[0.2222222222222222,\"#7201a8\"],[0.3333333333333333,\"#9c179e\"],[0.4444444444444444,\"#bd3786\"],[0.5555555555555556,\"#d8576b\"],[0.6666666666666666,\"#ed7953\"],[0.7777777777777778,\"#fb9f3a\"],[0.8888888888888888,\"#fdca26\"],[1.0,\"#f0f921\"]]}],\"heatmap\":[{\"type\":\"heatmap\",\"colorbar\":{\"outlinewidth\":0,\"ticks\":\"\"},\"colorscale\":[[0.0,\"#0d0887\"],[0.1111111111111111,\"#46039f\"],[0.2222222222222222,\"#7201a8\"],[0.3333333333333333,\"#9c179e\"],[0.4444444444444444,\"#bd3786\"],[0.5555555555555556,\"#d8576b\"],[0.6666666666666666,\"#ed7953\"],[0.7777777777777778,\"#fb9f3a\"],[0.8888888888888888,\"#fdca26\"],[1.0,\"#f0f921\"]]}],\"heatmapgl\":[{\"type\":\"heatmapgl\",\"colorbar\":{\"outlinewidth\":0,\"ticks\":\"\"},\"colorscale\":[[0.0,\"#0d0887\"],[0.1111111111111111,\"#46039f\"],[0.2222222222222222,\"#7201a8\"],[0.3333333333333333,\"#9c179e\"],[0.4444444444444444,\"#bd3786\"],[0.5555555555555556,\"#d8576b\"],[0.6666666666666666,\"#ed7953\"],[0.7777777777777778,\"#fb9f3a\"],[0.8888888888888888,\"#fdca26\"],[1.0,\"#f0f921\"]]}],\"contourcarpet\":[{\"type\":\"contourcarpet\",\"colorbar\":{\"outlinewidth\":0,\"ticks\":\"\"}}],\"contour\":[{\"type\":\"contour\",\"colorbar\":{\"outlinewidth\":0,\"ticks\":\"\"},\"colorscale\":[[0.0,\"#0d0887\"],[0.1111111111111111,\"#46039f\"],[0.2222222222222222,\"#7201a8\"],[0.3333333333333333,\"#9c179e\"],[0.4444444444444444,\"#bd3786\"],[0.5555555555555556,\"#d8576b\"],[0.6666666666666666,\"#ed7953\"],[0.7777777777777778,\"#fb9f3a\"],[0.8888888888888888,\"#fdca26\"],[1.0,\"#f0f921\"]]}],\"surface\":[{\"type\":\"surface\",\"colorbar\":{\"outlinewidth\":0,\"ticks\":\"\"},\"colorscale\":[[0.0,\"#0d0887\"],[0.1111111111111111,\"#46039f\"],[0.2222222222222222,\"#7201a8\"],[0.3333333333333333,\"#9c179e\"],[0.4444444444444444,\"#bd3786\"],[0.5555555555555556,\"#d8576b\"],[0.6666666666666666,\"#ed7953\"],[0.7777777777777778,\"#fb9f3a\"],[0.8888888888888888,\"#fdca26\"],[1.0,\"#f0f921\"]]}],\"mesh3d\":[{\"type\":\"mesh3d\",\"colorbar\":{\"outlinewidth\":0,\"ticks\":\"\"}}],\"scatter\":[{\"fillpattern\":{\"fillmode\":\"overlay\",\"size\":10,\"solidity\":0.2},\"type\":\"scatter\"}],\"parcoords\":[{\"type\":\"parcoords\",\"line\":{\"colorbar\":{\"outlinewidth\":0,\"ticks\":\"\"}}}],\"scatterpolargl\":[{\"type\":\"scatterpolargl\",\"marker\":{\"colorbar\":{\"outlinewidth\":0,\"ticks\":\"\"}}}],\"bar\":[{\"error_x\":{\"color\":\"#2a3f5f\"},\"error_y\":{\"color\":\"#2a3f5f\"},\"marker\":{\"line\":{\"color\":\"#E5ECF6\",\"width\":0.5},\"pattern\":{\"fillmode\":\"overlay\",\"size\":10,\"solidity\":0.2}},\"type\":\"bar\"}],\"scattergeo\":[{\"type\":\"scattergeo\",\"marker\":{\"colorbar\":{\"outlinewidth\":0,\"ticks\":\"\"}}}],\"scatterpolar\":[{\"type\":\"scatterpolar\",\"marker\":{\"colorbar\":{\"outlinewidth\":0,\"ticks\":\"\"}}}],\"histogram\":[{\"marker\":{\"pattern\":{\"fillmode\":\"overlay\",\"size\":10,\"solidity\":0.2}},\"type\":\"histogram\"}],\"scattergl\":[{\"type\":\"scattergl\",\"marker\":{\"colorbar\":{\"outlinewidth\":0,\"ticks\":\"\"}}}],\"scatter3d\":[{\"type\":\"scatter3d\",\"line\":{\"colorbar\":{\"outlinewidth\":0,\"ticks\":\"\"}},\"marker\":{\"colorbar\":{\"outlinewidth\":0,\"ticks\":\"\"}}}],\"scattermapbox\":[{\"type\":\"scattermapbox\",\"marker\":{\"colorbar\":{\"outlinewidth\":0,\"ticks\":\"\"}}}],\"scatterternary\":[{\"type\":\"scatterternary\",\"marker\":{\"colorbar\":{\"outlinewidth\":0,\"ticks\":\"\"}}}],\"scattercarpet\":[{\"type\":\"scattercarpet\",\"marker\":{\"colorbar\":{\"outlinewidth\":0,\"ticks\":\"\"}}}],\"carpet\":[{\"aaxis\":{\"endlinecolor\":\"#2a3f5f\",\"gridcolor\":\"white\",\"linecolor\":\"white\",\"minorgridcolor\":\"white\",\"startlinecolor\":\"#2a3f5f\"},\"baxis\":{\"endlinecolor\":\"#2a3f5f\",\"gridcolor\":\"white\",\"linecolor\":\"white\",\"minorgridcolor\":\"white\",\"startlinecolor\":\"#2a3f5f\"},\"type\":\"carpet\"}],\"table\":[{\"cells\":{\"fill\":{\"color\":\"#EBF0F8\"},\"line\":{\"color\":\"white\"}},\"header\":{\"fill\":{\"color\":\"#C8D4E3\"},\"line\":{\"color\":\"white\"}},\"type\":\"table\"}],\"barpolar\":[{\"marker\":{\"line\":{\"color\":\"#E5ECF6\",\"width\":0.5},\"pattern\":{\"fillmode\":\"overlay\",\"size\":10,\"solidity\":0.2}},\"type\":\"barpolar\"}],\"pie\":[{\"automargin\":true,\"type\":\"pie\"}]},\"layout\":{\"autotypenumbers\":\"strict\",\"colorway\":[\"#636efa\",\"#EF553B\",\"#00cc96\",\"#ab63fa\",\"#FFA15A\",\"#19d3f3\",\"#FF6692\",\"#B6E880\",\"#FF97FF\",\"#FECB52\"],\"font\":{\"color\":\"#2a3f5f\"},\"hovermode\":\"closest\",\"hoverlabel\":{\"align\":\"left\"},\"paper_bgcolor\":\"white\",\"plot_bgcolor\":\"#E5ECF6\",\"polar\":{\"bgcolor\":\"#E5ECF6\",\"angularaxis\":{\"gridcolor\":\"white\",\"linecolor\":\"white\",\"ticks\":\"\"},\"radialaxis\":{\"gridcolor\":\"white\",\"linecolor\":\"white\",\"ticks\":\"\"}},\"ternary\":{\"bgcolor\":\"#E5ECF6\",\"aaxis\":{\"gridcolor\":\"white\",\"linecolor\":\"white\",\"ticks\":\"\"},\"baxis\":{\"gridcolor\":\"white\",\"linecolor\":\"white\",\"ticks\":\"\"},\"caxis\":{\"gridcolor\":\"white\",\"linecolor\":\"white\",\"ticks\":\"\"}},\"coloraxis\":{\"colorbar\":{\"outlinewidth\":0,\"ticks\":\"\"}},\"colorscale\":{\"sequential\":[[0.0,\"#0d0887\"],[0.1111111111111111,\"#46039f\"],[0.2222222222222222,\"#7201a8\"],[0.3333333333333333,\"#9c179e\"],[0.4444444444444444,\"#bd3786\"],[0.5555555555555556,\"#d8576b\"],[0.6666666666666666,\"#ed7953\"],[0.7777777777777778,\"#fb9f3a\"],[0.8888888888888888,\"#fdca26\"],[1.0,\"#f0f921\"]],\"sequentialminus\":[[0.0,\"#0d0887\"],[0.1111111111111111,\"#46039f\"],[0.2222222222222222,\"#7201a8\"],[0.3333333333333333,\"#9c179e\"],[0.4444444444444444,\"#bd3786\"],[0.5555555555555556,\"#d8576b\"],[0.6666666666666666,\"#ed7953\"],[0.7777777777777778,\"#fb9f3a\"],[0.8888888888888888,\"#fdca26\"],[1.0,\"#f0f921\"]],\"diverging\":[[0,\"#8e0152\"],[0.1,\"#c51b7d\"],[0.2,\"#de77ae\"],[0.3,\"#f1b6da\"],[0.4,\"#fde0ef\"],[0.5,\"#f7f7f7\"],[0.6,\"#e6f5d0\"],[0.7,\"#b8e186\"],[0.8,\"#7fbc41\"],[0.9,\"#4d9221\"],[1,\"#276419\"]]},\"xaxis\":{\"gridcolor\":\"white\",\"linecolor\":\"white\",\"ticks\":\"\",\"title\":{\"standoff\":15},\"zerolinecolor\":\"white\",\"automargin\":true,\"zerolinewidth\":2},\"yaxis\":{\"gridcolor\":\"white\",\"linecolor\":\"white\",\"ticks\":\"\",\"title\":{\"standoff\":15},\"zerolinecolor\":\"white\",\"automargin\":true,\"zerolinewidth\":2},\"scene\":{\"xaxis\":{\"backgroundcolor\":\"#E5ECF6\",\"gridcolor\":\"white\",\"linecolor\":\"white\",\"showbackground\":true,\"ticks\":\"\",\"zerolinecolor\":\"white\",\"gridwidth\":2},\"yaxis\":{\"backgroundcolor\":\"#E5ECF6\",\"gridcolor\":\"white\",\"linecolor\":\"white\",\"showbackground\":true,\"ticks\":\"\",\"zerolinecolor\":\"white\",\"gridwidth\":2},\"zaxis\":{\"backgroundcolor\":\"#E5ECF6\",\"gridcolor\":\"white\",\"linecolor\":\"white\",\"showbackground\":true,\"ticks\":\"\",\"zerolinecolor\":\"white\",\"gridwidth\":2}},\"shapedefaults\":{\"line\":{\"color\":\"#2a3f5f\"}},\"annotationdefaults\":{\"arrowcolor\":\"#2a3f5f\",\"arrowhead\":0,\"arrowwidth\":1},\"geo\":{\"bgcolor\":\"white\",\"landcolor\":\"#E5ECF6\",\"subunitcolor\":\"white\",\"showland\":true,\"showlakes\":true,\"lakecolor\":\"white\"},\"title\":{\"x\":0.05},\"mapbox\":{\"style\":\"light\"}}},\"xaxis\":{\"anchor\":\"y\",\"domain\":[0.0,1.0],\"title\":{\"text\":\"value\"}},\"yaxis\":{\"anchor\":\"x\",\"domain\":[0.0,1.0],\"title\":{\"text\":\"count\"}},\"legend\":{\"title\":{\"text\":\"variable\"},\"tracegroupgap\":0},\"margin\":{\"t\":60},\"barmode\":\"relative\"},                        {\"responsive\": true}                    ).then(function(){\n",
       "                            \n",
       "var gd = document.getElementById('39b140b2-1885-4875-91d8-ac5282605dff');\n",
       "var x = new MutationObserver(function (mutations, observer) {{\n",
       "        var display = window.getComputedStyle(gd).display;\n",
       "        if (!display || display === 'none') {{\n",
       "            console.log([gd, 'removed!']);\n",
       "            Plotly.purge(gd);\n",
       "            observer.disconnect();\n",
       "        }}\n",
       "}});\n",
       "\n",
       "// Listen for the removal of the full notebook cells\n",
       "var notebookContainer = gd.closest('#notebook-container');\n",
       "if (notebookContainer) {{\n",
       "    x.observe(notebookContainer, {childList: true});\n",
       "}}\n",
       "\n",
       "// Listen for the clearing of the current output cell\n",
       "var outputEl = gd.closest('.output');\n",
       "if (outputEl) {{\n",
       "    x.observe(outputEl, {childList: true});\n",
       "}}\n",
       "\n",
       "                        })                };                });            </script>        </div>"
      ]
     },
     "metadata": {},
     "output_type": "display_data"
    }
   ],
   "source": [
    "full_best_enhancements[\"model_name\"].hist()"
   ]
  },
  {
   "cell_type": "code",
   "execution_count": 72,
   "id": "5de86b71",
   "metadata": {},
   "outputs": [
    {
     "name": "stdout",
     "output_type": "stream",
     "text": [
      "2784\n"
     ]
    },
    {
     "data": {
      "application/vnd.plotly.v1+json": {
       "config": {
        "plotlyServerURL": "https://plot.ly"
       },
       "data": [
        {
         "hovertemplate": "variable=preds<br>index=%{x}<br>value=%{y}<extra></extra>",
         "legendgroup": "preds",
         "line": {
          "color": "#636efa",
          "dash": "solid"
         },
         "marker": {
          "symbol": "circle"
         },
         "mode": "lines",
         "name": "preds",
         "orientation": "v",
         "showlegend": true,
         "type": "scatter",
         "x": [
          192000,
          192001,
          192002,
          192003,
          192004,
          192005,
          192006,
          192007,
          192008,
          192009,
          192010,
          192011,
          192012,
          192013,
          192014,
          192015,
          192016,
          192017,
          192018,
          192019,
          192020,
          192021,
          192022,
          192023,
          192024,
          192025,
          192026,
          192027,
          192028,
          192029,
          192030,
          192031,
          192032,
          192033,
          192034,
          192035,
          192036,
          192037,
          192038,
          192039,
          192040,
          192041,
          192042,
          192043,
          192044,
          192045,
          192046,
          192047,
          192048,
          192049,
          192050,
          192051,
          192052,
          192053,
          192054,
          192055,
          192056,
          192057,
          192058,
          192059,
          192060,
          192061,
          192062,
          192063,
          192064,
          192065,
          192066,
          192067,
          192068,
          192069,
          192070,
          192071,
          192072,
          192073,
          192074,
          192075,
          192076,
          192077,
          192078,
          192079,
          192080,
          192081,
          192082,
          192083,
          192084,
          192085,
          192086,
          192087,
          192088,
          192089,
          192090,
          192091,
          192092,
          192093,
          192094,
          192095
         ],
         "xaxis": "x",
         "y": [
          -0.89701986,
          -0.92020315,
          -0.91845554,
          -0.92924744,
          -0.92532116,
          -0.93240273,
          -0.9426724,
          -0.9337634,
          -0.9404272,
          -0.92249817,
          -0.9094315,
          -0.8912821,
          -0.86232936,
          -0.829206,
          -0.82448804,
          -0.80483276,
          -0.7896291,
          -0.8167038,
          -0.83267677,
          -0.85380256,
          -0.8683753,
          -0.8875382,
          -0.8962599,
          -0.9198783,
          -0.92136186,
          -0.92877555,
          -0.9229015,
          -0.9235529,
          -0.92508316,
          -0.9245526,
          -0.9203927,
          -0.9133711,
          -0.86281085,
          -0.8670637,
          -0.86631024,
          -0.8169441,
          -0.83183026,
          -0.7948897,
          -0.7841494,
          -0.8042844,
          -0.80255127,
          -0.8089189,
          -0.8209601,
          -0.83380854,
          -0.84421504,
          -0.9075537,
          -0.87644327,
          -0.87251705,
          -0.8867212,
          -0.8876591,
          -0.8962841,
          -0.9100764,
          -0.9142611,
          -0.9241037,
          -0.9195016,
          -0.91692364,
          -0.90803224,
          -0.8937057,
          -0.8847169,
          -0.84345895,
          -0.8131595,
          -0.7809386,
          -0.7728422,
          -0.75168437,
          -0.7404074,
          -0.7471757,
          -0.7701191,
          -0.8003114,
          -0.81302214,
          -0.8757264,
          -0.85852087,
          -0.88158005,
          -0.90618116,
          -0.89839864,
          -0.90790296,
          -0.9122846,
          -0.9048625,
          -0.89128184,
          -0.8697733,
          -0.86552083,
          -0.81381047,
          -0.8156075,
          -0.79766756,
          -0.77069896,
          -0.7572486,
          -0.72332853,
          -0.72400516,
          -0.70644987,
          -0.7108543,
          -0.69052064,
          -0.74313647,
          -0.7507311,
          -0.7914155,
          -0.8226087,
          -0.8237899,
          -0.8539771
         ],
         "yaxis": "y"
        },
        {
         "hovertemplate": "variable=true<br>index=%{x}<br>value=%{y}<extra></extra>",
         "legendgroup": "true",
         "line": {
          "color": "#EF553B",
          "dash": "solid"
         },
         "marker": {
          "symbol": "circle"
         },
         "mode": "lines",
         "name": "true",
         "orientation": "v",
         "showlegend": true,
         "type": "scatter",
         "x": [
          192000,
          192001,
          192002,
          192003,
          192004,
          192005,
          192006,
          192007,
          192008,
          192009,
          192010,
          192011,
          192012,
          192013,
          192014,
          192015,
          192016,
          192017,
          192018,
          192019,
          192020,
          192021,
          192022,
          192023,
          192024,
          192025,
          192026,
          192027,
          192028,
          192029,
          192030,
          192031,
          192032,
          192033,
          192034,
          192035,
          192036,
          192037,
          192038,
          192039,
          192040,
          192041,
          192042,
          192043,
          192044,
          192045,
          192046,
          192047,
          192048,
          192049,
          192050,
          192051,
          192052,
          192053,
          192054,
          192055,
          192056,
          192057,
          192058,
          192059,
          192060,
          192061,
          192062,
          192063,
          192064,
          192065,
          192066,
          192067,
          192068,
          192069,
          192070,
          192071,
          192072,
          192073,
          192074,
          192075,
          192076,
          192077,
          192078,
          192079,
          192080,
          192081,
          192082,
          192083,
          192084,
          192085,
          192086,
          192087,
          192088,
          192089,
          192090,
          192091,
          192092,
          192093,
          192094,
          192095
         ],
         "xaxis": "x",
         "y": [
          -0.8623407,
          -0.86996883,
          -0.83161,
          -0.8775971,
          -0.915956,
          -0.8929624,
          -0.9005906,
          -0.9005906,
          -0.8393472,
          -0.8393472,
          -0.80861646,
          -0.7932511,
          -0.77025753,
          -0.5939374,
          -0.5403222,
          -0.6476616,
          -0.66302705,
          -0.60167456,
          -0.67065525,
          -0.6246682,
          -0.68602055,
          -0.68602055,
          -0.7396359,
          -0.8546035,
          -0.86996883,
          -0.9543148,
          -0.9313213,
          -0.98493654,
          -1.0232955,
          -1.0155584,
          -1.0539172,
          -1.0692825,
          -1.0539172,
          -1.0309236,
          -0.8623407,
          -0.8929624,
          -0.8623407,
          -0.7090141,
          -0.6476616,
          -0.6399246,
          -0.6322963,
          -0.5709439,
          -0.6476616,
          -0.7090141,
          -0.7396359,
          -0.80098826,
          -0.80861646,
          -0.80098826,
          -0.82398176,
          -0.8393472,
          -0.82398176,
          -0.90832776,
          -0.8393472,
          -0.77025753,
          -0.6936488,
          -0.7320076,
          -0.6782834,
          -0.5939374,
          -0.6093028,
          -0.61693096,
          -0.50196326,
          -0.40998912,
          -0.37163022,
          -0.49433511,
          -0.41761738,
          -0.46360445,
          -0.58630925,
          -0.60167456,
          -0.72427046,
          -0.77025753,
          -0.80098826,
          -0.80098826,
          -0.82398176,
          -0.77025753,
          -0.7932511,
          -0.6552899,
          -0.6246682,
          -0.67065525,
          -0.6782834,
          -0.67065525,
          -0.56331575,
          -0.49433511,
          -0.47134152,
          -0.5097004,
          -0.46360445,
          -0.30264965,
          -0.25666258,
          -0.37936738,
          -0.44061086,
          -0.53269404,
          -0.5709439,
          -0.5786811,
          -0.5939374,
          -0.5709439,
          -0.6322963,
          -0.67065525
         ],
         "yaxis": "y"
        }
       ],
       "layout": {
        "legend": {
         "title": {
          "text": "variable"
         },
         "tracegroupgap": 0
        },
        "margin": {
         "t": 60
        },
        "template": {
         "data": {
          "bar": [
           {
            "error_x": {
             "color": "#2a3f5f"
            },
            "error_y": {
             "color": "#2a3f5f"
            },
            "marker": {
             "line": {
              "color": "#E5ECF6",
              "width": 0.5
             },
             "pattern": {
              "fillmode": "overlay",
              "size": 10,
              "solidity": 0.2
             }
            },
            "type": "bar"
           }
          ],
          "barpolar": [
           {
            "marker": {
             "line": {
              "color": "#E5ECF6",
              "width": 0.5
             },
             "pattern": {
              "fillmode": "overlay",
              "size": 10,
              "solidity": 0.2
             }
            },
            "type": "barpolar"
           }
          ],
          "carpet": [
           {
            "aaxis": {
             "endlinecolor": "#2a3f5f",
             "gridcolor": "white",
             "linecolor": "white",
             "minorgridcolor": "white",
             "startlinecolor": "#2a3f5f"
            },
            "baxis": {
             "endlinecolor": "#2a3f5f",
             "gridcolor": "white",
             "linecolor": "white",
             "minorgridcolor": "white",
             "startlinecolor": "#2a3f5f"
            },
            "type": "carpet"
           }
          ],
          "choropleth": [
           {
            "colorbar": {
             "outlinewidth": 0,
             "ticks": ""
            },
            "type": "choropleth"
           }
          ],
          "contour": [
           {
            "colorbar": {
             "outlinewidth": 0,
             "ticks": ""
            },
            "colorscale": [
             [
              0,
              "#0d0887"
             ],
             [
              0.1111111111111111,
              "#46039f"
             ],
             [
              0.2222222222222222,
              "#7201a8"
             ],
             [
              0.3333333333333333,
              "#9c179e"
             ],
             [
              0.4444444444444444,
              "#bd3786"
             ],
             [
              0.5555555555555556,
              "#d8576b"
             ],
             [
              0.6666666666666666,
              "#ed7953"
             ],
             [
              0.7777777777777778,
              "#fb9f3a"
             ],
             [
              0.8888888888888888,
              "#fdca26"
             ],
             [
              1,
              "#f0f921"
             ]
            ],
            "type": "contour"
           }
          ],
          "contourcarpet": [
           {
            "colorbar": {
             "outlinewidth": 0,
             "ticks": ""
            },
            "type": "contourcarpet"
           }
          ],
          "heatmap": [
           {
            "colorbar": {
             "outlinewidth": 0,
             "ticks": ""
            },
            "colorscale": [
             [
              0,
              "#0d0887"
             ],
             [
              0.1111111111111111,
              "#46039f"
             ],
             [
              0.2222222222222222,
              "#7201a8"
             ],
             [
              0.3333333333333333,
              "#9c179e"
             ],
             [
              0.4444444444444444,
              "#bd3786"
             ],
             [
              0.5555555555555556,
              "#d8576b"
             ],
             [
              0.6666666666666666,
              "#ed7953"
             ],
             [
              0.7777777777777778,
              "#fb9f3a"
             ],
             [
              0.8888888888888888,
              "#fdca26"
             ],
             [
              1,
              "#f0f921"
             ]
            ],
            "type": "heatmap"
           }
          ],
          "heatmapgl": [
           {
            "colorbar": {
             "outlinewidth": 0,
             "ticks": ""
            },
            "colorscale": [
             [
              0,
              "#0d0887"
             ],
             [
              0.1111111111111111,
              "#46039f"
             ],
             [
              0.2222222222222222,
              "#7201a8"
             ],
             [
              0.3333333333333333,
              "#9c179e"
             ],
             [
              0.4444444444444444,
              "#bd3786"
             ],
             [
              0.5555555555555556,
              "#d8576b"
             ],
             [
              0.6666666666666666,
              "#ed7953"
             ],
             [
              0.7777777777777778,
              "#fb9f3a"
             ],
             [
              0.8888888888888888,
              "#fdca26"
             ],
             [
              1,
              "#f0f921"
             ]
            ],
            "type": "heatmapgl"
           }
          ],
          "histogram": [
           {
            "marker": {
             "pattern": {
              "fillmode": "overlay",
              "size": 10,
              "solidity": 0.2
             }
            },
            "type": "histogram"
           }
          ],
          "histogram2d": [
           {
            "colorbar": {
             "outlinewidth": 0,
             "ticks": ""
            },
            "colorscale": [
             [
              0,
              "#0d0887"
             ],
             [
              0.1111111111111111,
              "#46039f"
             ],
             [
              0.2222222222222222,
              "#7201a8"
             ],
             [
              0.3333333333333333,
              "#9c179e"
             ],
             [
              0.4444444444444444,
              "#bd3786"
             ],
             [
              0.5555555555555556,
              "#d8576b"
             ],
             [
              0.6666666666666666,
              "#ed7953"
             ],
             [
              0.7777777777777778,
              "#fb9f3a"
             ],
             [
              0.8888888888888888,
              "#fdca26"
             ],
             [
              1,
              "#f0f921"
             ]
            ],
            "type": "histogram2d"
           }
          ],
          "histogram2dcontour": [
           {
            "colorbar": {
             "outlinewidth": 0,
             "ticks": ""
            },
            "colorscale": [
             [
              0,
              "#0d0887"
             ],
             [
              0.1111111111111111,
              "#46039f"
             ],
             [
              0.2222222222222222,
              "#7201a8"
             ],
             [
              0.3333333333333333,
              "#9c179e"
             ],
             [
              0.4444444444444444,
              "#bd3786"
             ],
             [
              0.5555555555555556,
              "#d8576b"
             ],
             [
              0.6666666666666666,
              "#ed7953"
             ],
             [
              0.7777777777777778,
              "#fb9f3a"
             ],
             [
              0.8888888888888888,
              "#fdca26"
             ],
             [
              1,
              "#f0f921"
             ]
            ],
            "type": "histogram2dcontour"
           }
          ],
          "mesh3d": [
           {
            "colorbar": {
             "outlinewidth": 0,
             "ticks": ""
            },
            "type": "mesh3d"
           }
          ],
          "parcoords": [
           {
            "line": {
             "colorbar": {
              "outlinewidth": 0,
              "ticks": ""
             }
            },
            "type": "parcoords"
           }
          ],
          "pie": [
           {
            "automargin": true,
            "type": "pie"
           }
          ],
          "scatter": [
           {
            "fillpattern": {
             "fillmode": "overlay",
             "size": 10,
             "solidity": 0.2
            },
            "type": "scatter"
           }
          ],
          "scatter3d": [
           {
            "line": {
             "colorbar": {
              "outlinewidth": 0,
              "ticks": ""
             }
            },
            "marker": {
             "colorbar": {
              "outlinewidth": 0,
              "ticks": ""
             }
            },
            "type": "scatter3d"
           }
          ],
          "scattercarpet": [
           {
            "marker": {
             "colorbar": {
              "outlinewidth": 0,
              "ticks": ""
             }
            },
            "type": "scattercarpet"
           }
          ],
          "scattergeo": [
           {
            "marker": {
             "colorbar": {
              "outlinewidth": 0,
              "ticks": ""
             }
            },
            "type": "scattergeo"
           }
          ],
          "scattergl": [
           {
            "marker": {
             "colorbar": {
              "outlinewidth": 0,
              "ticks": ""
             }
            },
            "type": "scattergl"
           }
          ],
          "scattermapbox": [
           {
            "marker": {
             "colorbar": {
              "outlinewidth": 0,
              "ticks": ""
             }
            },
            "type": "scattermapbox"
           }
          ],
          "scatterpolar": [
           {
            "marker": {
             "colorbar": {
              "outlinewidth": 0,
              "ticks": ""
             }
            },
            "type": "scatterpolar"
           }
          ],
          "scatterpolargl": [
           {
            "marker": {
             "colorbar": {
              "outlinewidth": 0,
              "ticks": ""
             }
            },
            "type": "scatterpolargl"
           }
          ],
          "scatterternary": [
           {
            "marker": {
             "colorbar": {
              "outlinewidth": 0,
              "ticks": ""
             }
            },
            "type": "scatterternary"
           }
          ],
          "surface": [
           {
            "colorbar": {
             "outlinewidth": 0,
             "ticks": ""
            },
            "colorscale": [
             [
              0,
              "#0d0887"
             ],
             [
              0.1111111111111111,
              "#46039f"
             ],
             [
              0.2222222222222222,
              "#7201a8"
             ],
             [
              0.3333333333333333,
              "#9c179e"
             ],
             [
              0.4444444444444444,
              "#bd3786"
             ],
             [
              0.5555555555555556,
              "#d8576b"
             ],
             [
              0.6666666666666666,
              "#ed7953"
             ],
             [
              0.7777777777777778,
              "#fb9f3a"
             ],
             [
              0.8888888888888888,
              "#fdca26"
             ],
             [
              1,
              "#f0f921"
             ]
            ],
            "type": "surface"
           }
          ],
          "table": [
           {
            "cells": {
             "fill": {
              "color": "#EBF0F8"
             },
             "line": {
              "color": "white"
             }
            },
            "header": {
             "fill": {
              "color": "#C8D4E3"
             },
             "line": {
              "color": "white"
             }
            },
            "type": "table"
           }
          ]
         },
         "layout": {
          "annotationdefaults": {
           "arrowcolor": "#2a3f5f",
           "arrowhead": 0,
           "arrowwidth": 1
          },
          "autotypenumbers": "strict",
          "coloraxis": {
           "colorbar": {
            "outlinewidth": 0,
            "ticks": ""
           }
          },
          "colorscale": {
           "diverging": [
            [
             0,
             "#8e0152"
            ],
            [
             0.1,
             "#c51b7d"
            ],
            [
             0.2,
             "#de77ae"
            ],
            [
             0.3,
             "#f1b6da"
            ],
            [
             0.4,
             "#fde0ef"
            ],
            [
             0.5,
             "#f7f7f7"
            ],
            [
             0.6,
             "#e6f5d0"
            ],
            [
             0.7,
             "#b8e186"
            ],
            [
             0.8,
             "#7fbc41"
            ],
            [
             0.9,
             "#4d9221"
            ],
            [
             1,
             "#276419"
            ]
           ],
           "sequential": [
            [
             0,
             "#0d0887"
            ],
            [
             0.1111111111111111,
             "#46039f"
            ],
            [
             0.2222222222222222,
             "#7201a8"
            ],
            [
             0.3333333333333333,
             "#9c179e"
            ],
            [
             0.4444444444444444,
             "#bd3786"
            ],
            [
             0.5555555555555556,
             "#d8576b"
            ],
            [
             0.6666666666666666,
             "#ed7953"
            ],
            [
             0.7777777777777778,
             "#fb9f3a"
            ],
            [
             0.8888888888888888,
             "#fdca26"
            ],
            [
             1,
             "#f0f921"
            ]
           ],
           "sequentialminus": [
            [
             0,
             "#0d0887"
            ],
            [
             0.1111111111111111,
             "#46039f"
            ],
            [
             0.2222222222222222,
             "#7201a8"
            ],
            [
             0.3333333333333333,
             "#9c179e"
            ],
            [
             0.4444444444444444,
             "#bd3786"
            ],
            [
             0.5555555555555556,
             "#d8576b"
            ],
            [
             0.6666666666666666,
             "#ed7953"
            ],
            [
             0.7777777777777778,
             "#fb9f3a"
            ],
            [
             0.8888888888888888,
             "#fdca26"
            ],
            [
             1,
             "#f0f921"
            ]
           ]
          },
          "colorway": [
           "#636efa",
           "#EF553B",
           "#00cc96",
           "#ab63fa",
           "#FFA15A",
           "#19d3f3",
           "#FF6692",
           "#B6E880",
           "#FF97FF",
           "#FECB52"
          ],
          "font": {
           "color": "#2a3f5f"
          },
          "geo": {
           "bgcolor": "white",
           "lakecolor": "white",
           "landcolor": "#E5ECF6",
           "showlakes": true,
           "showland": true,
           "subunitcolor": "white"
          },
          "hoverlabel": {
           "align": "left"
          },
          "hovermode": "closest",
          "mapbox": {
           "style": "light"
          },
          "paper_bgcolor": "white",
          "plot_bgcolor": "#E5ECF6",
          "polar": {
           "angularaxis": {
            "gridcolor": "white",
            "linecolor": "white",
            "ticks": ""
           },
           "bgcolor": "#E5ECF6",
           "radialaxis": {
            "gridcolor": "white",
            "linecolor": "white",
            "ticks": ""
           }
          },
          "scene": {
           "xaxis": {
            "backgroundcolor": "#E5ECF6",
            "gridcolor": "white",
            "gridwidth": 2,
            "linecolor": "white",
            "showbackground": true,
            "ticks": "",
            "zerolinecolor": "white"
           },
           "yaxis": {
            "backgroundcolor": "#E5ECF6",
            "gridcolor": "white",
            "gridwidth": 2,
            "linecolor": "white",
            "showbackground": true,
            "ticks": "",
            "zerolinecolor": "white"
           },
           "zaxis": {
            "backgroundcolor": "#E5ECF6",
            "gridcolor": "white",
            "gridwidth": 2,
            "linecolor": "white",
            "showbackground": true,
            "ticks": "",
            "zerolinecolor": "white"
           }
          },
          "shapedefaults": {
           "line": {
            "color": "#2a3f5f"
           }
          },
          "ternary": {
           "aaxis": {
            "gridcolor": "white",
            "linecolor": "white",
            "ticks": ""
           },
           "baxis": {
            "gridcolor": "white",
            "linecolor": "white",
            "ticks": ""
           },
           "bgcolor": "#E5ECF6",
           "caxis": {
            "gridcolor": "white",
            "linecolor": "white",
            "ticks": ""
           }
          },
          "title": {
           "x": 0.05
          },
          "xaxis": {
           "automargin": true,
           "gridcolor": "white",
           "linecolor": "white",
           "ticks": "",
           "title": {
            "standoff": 15
           },
           "zerolinecolor": "white",
           "zerolinewidth": 2
          },
          "yaxis": {
           "automargin": true,
           "gridcolor": "white",
           "linecolor": "white",
           "ticks": "",
           "title": {
            "standoff": 15
           },
           "zerolinecolor": "white",
           "zerolinewidth": 2
          }
         }
        },
        "xaxis": {
         "anchor": "y",
         "domain": [
          0,
          1
         ],
         "title": {
          "text": "index"
         }
        },
        "yaxis": {
         "anchor": "x",
         "domain": [
          0,
          1
         ],
         "title": {
          "text": "value"
         }
        }
       }
      },
      "text/html": [
       "<div>                            <div id=\"a2119ba9-8603-41cb-80df-69ba12d05646\" class=\"plotly-graph-div\" style=\"height:525px; width:100%;\"></div>            <script type=\"text/javascript\">                require([\"plotly\"], function(Plotly) {                    window.PLOTLYENV=window.PLOTLYENV || {};                                    if (document.getElementById(\"a2119ba9-8603-41cb-80df-69ba12d05646\")) {                    Plotly.newPlot(                        \"a2119ba9-8603-41cb-80df-69ba12d05646\",                        [{\"hovertemplate\":\"variable=preds\\u003cbr\\u003eindex=%{x}\\u003cbr\\u003evalue=%{y}\\u003cextra\\u003e\\u003c\\u002fextra\\u003e\",\"legendgroup\":\"preds\",\"line\":{\"color\":\"#636efa\",\"dash\":\"solid\"},\"marker\":{\"symbol\":\"circle\"},\"mode\":\"lines\",\"name\":\"preds\",\"orientation\":\"v\",\"showlegend\":true,\"x\":[192000,192001,192002,192003,192004,192005,192006,192007,192008,192009,192010,192011,192012,192013,192014,192015,192016,192017,192018,192019,192020,192021,192022,192023,192024,192025,192026,192027,192028,192029,192030,192031,192032,192033,192034,192035,192036,192037,192038,192039,192040,192041,192042,192043,192044,192045,192046,192047,192048,192049,192050,192051,192052,192053,192054,192055,192056,192057,192058,192059,192060,192061,192062,192063,192064,192065,192066,192067,192068,192069,192070,192071,192072,192073,192074,192075,192076,192077,192078,192079,192080,192081,192082,192083,192084,192085,192086,192087,192088,192089,192090,192091,192092,192093,192094,192095],\"xaxis\":\"x\",\"y\":[-0.89701986,-0.92020315,-0.91845554,-0.92924744,-0.92532116,-0.93240273,-0.9426724,-0.9337634,-0.9404272,-0.92249817,-0.9094315,-0.8912821,-0.86232936,-0.829206,-0.82448804,-0.80483276,-0.7896291,-0.8167038,-0.83267677,-0.85380256,-0.8683753,-0.8875382,-0.8962599,-0.9198783,-0.92136186,-0.92877555,-0.9229015,-0.9235529,-0.92508316,-0.9245526,-0.9203927,-0.9133711,-0.86281085,-0.8670637,-0.86631024,-0.8169441,-0.83183026,-0.7948897,-0.7841494,-0.8042844,-0.80255127,-0.8089189,-0.8209601,-0.83380854,-0.84421504,-0.9075537,-0.87644327,-0.87251705,-0.8867212,-0.8876591,-0.8962841,-0.9100764,-0.9142611,-0.9241037,-0.9195016,-0.91692364,-0.90803224,-0.8937057,-0.8847169,-0.84345895,-0.8131595,-0.7809386,-0.7728422,-0.75168437,-0.7404074,-0.7471757,-0.7701191,-0.8003114,-0.81302214,-0.8757264,-0.85852087,-0.88158005,-0.90618116,-0.89839864,-0.90790296,-0.9122846,-0.9048625,-0.89128184,-0.8697733,-0.86552083,-0.81381047,-0.8156075,-0.79766756,-0.77069896,-0.7572486,-0.72332853,-0.72400516,-0.70644987,-0.7108543,-0.69052064,-0.74313647,-0.7507311,-0.7914155,-0.8226087,-0.8237899,-0.8539771],\"yaxis\":\"y\",\"type\":\"scatter\"},{\"hovertemplate\":\"variable=true\\u003cbr\\u003eindex=%{x}\\u003cbr\\u003evalue=%{y}\\u003cextra\\u003e\\u003c\\u002fextra\\u003e\",\"legendgroup\":\"true\",\"line\":{\"color\":\"#EF553B\",\"dash\":\"solid\"},\"marker\":{\"symbol\":\"circle\"},\"mode\":\"lines\",\"name\":\"true\",\"orientation\":\"v\",\"showlegend\":true,\"x\":[192000,192001,192002,192003,192004,192005,192006,192007,192008,192009,192010,192011,192012,192013,192014,192015,192016,192017,192018,192019,192020,192021,192022,192023,192024,192025,192026,192027,192028,192029,192030,192031,192032,192033,192034,192035,192036,192037,192038,192039,192040,192041,192042,192043,192044,192045,192046,192047,192048,192049,192050,192051,192052,192053,192054,192055,192056,192057,192058,192059,192060,192061,192062,192063,192064,192065,192066,192067,192068,192069,192070,192071,192072,192073,192074,192075,192076,192077,192078,192079,192080,192081,192082,192083,192084,192085,192086,192087,192088,192089,192090,192091,192092,192093,192094,192095],\"xaxis\":\"x\",\"y\":[-0.8623407,-0.86996883,-0.83161,-0.8775971,-0.915956,-0.8929624,-0.9005906,-0.9005906,-0.8393472,-0.8393472,-0.80861646,-0.7932511,-0.77025753,-0.5939374,-0.5403222,-0.6476616,-0.66302705,-0.60167456,-0.67065525,-0.6246682,-0.68602055,-0.68602055,-0.7396359,-0.8546035,-0.86996883,-0.9543148,-0.9313213,-0.98493654,-1.0232955,-1.0155584,-1.0539172,-1.0692825,-1.0539172,-1.0309236,-0.8623407,-0.8929624,-0.8623407,-0.7090141,-0.6476616,-0.6399246,-0.6322963,-0.5709439,-0.6476616,-0.7090141,-0.7396359,-0.80098826,-0.80861646,-0.80098826,-0.82398176,-0.8393472,-0.82398176,-0.90832776,-0.8393472,-0.77025753,-0.6936488,-0.7320076,-0.6782834,-0.5939374,-0.6093028,-0.61693096,-0.50196326,-0.40998912,-0.37163022,-0.49433511,-0.41761738,-0.46360445,-0.58630925,-0.60167456,-0.72427046,-0.77025753,-0.80098826,-0.80098826,-0.82398176,-0.77025753,-0.7932511,-0.6552899,-0.6246682,-0.67065525,-0.6782834,-0.67065525,-0.56331575,-0.49433511,-0.47134152,-0.5097004,-0.46360445,-0.30264965,-0.25666258,-0.37936738,-0.44061086,-0.53269404,-0.5709439,-0.5786811,-0.5939374,-0.5709439,-0.6322963,-0.67065525],\"yaxis\":\"y\",\"type\":\"scatter\"}],                        {\"template\":{\"data\":{\"histogram2dcontour\":[{\"type\":\"histogram2dcontour\",\"colorbar\":{\"outlinewidth\":0,\"ticks\":\"\"},\"colorscale\":[[0.0,\"#0d0887\"],[0.1111111111111111,\"#46039f\"],[0.2222222222222222,\"#7201a8\"],[0.3333333333333333,\"#9c179e\"],[0.4444444444444444,\"#bd3786\"],[0.5555555555555556,\"#d8576b\"],[0.6666666666666666,\"#ed7953\"],[0.7777777777777778,\"#fb9f3a\"],[0.8888888888888888,\"#fdca26\"],[1.0,\"#f0f921\"]]}],\"choropleth\":[{\"type\":\"choropleth\",\"colorbar\":{\"outlinewidth\":0,\"ticks\":\"\"}}],\"histogram2d\":[{\"type\":\"histogram2d\",\"colorbar\":{\"outlinewidth\":0,\"ticks\":\"\"},\"colorscale\":[[0.0,\"#0d0887\"],[0.1111111111111111,\"#46039f\"],[0.2222222222222222,\"#7201a8\"],[0.3333333333333333,\"#9c179e\"],[0.4444444444444444,\"#bd3786\"],[0.5555555555555556,\"#d8576b\"],[0.6666666666666666,\"#ed7953\"],[0.7777777777777778,\"#fb9f3a\"],[0.8888888888888888,\"#fdca26\"],[1.0,\"#f0f921\"]]}],\"heatmap\":[{\"type\":\"heatmap\",\"colorbar\":{\"outlinewidth\":0,\"ticks\":\"\"},\"colorscale\":[[0.0,\"#0d0887\"],[0.1111111111111111,\"#46039f\"],[0.2222222222222222,\"#7201a8\"],[0.3333333333333333,\"#9c179e\"],[0.4444444444444444,\"#bd3786\"],[0.5555555555555556,\"#d8576b\"],[0.6666666666666666,\"#ed7953\"],[0.7777777777777778,\"#fb9f3a\"],[0.8888888888888888,\"#fdca26\"],[1.0,\"#f0f921\"]]}],\"heatmapgl\":[{\"type\":\"heatmapgl\",\"colorbar\":{\"outlinewidth\":0,\"ticks\":\"\"},\"colorscale\":[[0.0,\"#0d0887\"],[0.1111111111111111,\"#46039f\"],[0.2222222222222222,\"#7201a8\"],[0.3333333333333333,\"#9c179e\"],[0.4444444444444444,\"#bd3786\"],[0.5555555555555556,\"#d8576b\"],[0.6666666666666666,\"#ed7953\"],[0.7777777777777778,\"#fb9f3a\"],[0.8888888888888888,\"#fdca26\"],[1.0,\"#f0f921\"]]}],\"contourcarpet\":[{\"type\":\"contourcarpet\",\"colorbar\":{\"outlinewidth\":0,\"ticks\":\"\"}}],\"contour\":[{\"type\":\"contour\",\"colorbar\":{\"outlinewidth\":0,\"ticks\":\"\"},\"colorscale\":[[0.0,\"#0d0887\"],[0.1111111111111111,\"#46039f\"],[0.2222222222222222,\"#7201a8\"],[0.3333333333333333,\"#9c179e\"],[0.4444444444444444,\"#bd3786\"],[0.5555555555555556,\"#d8576b\"],[0.6666666666666666,\"#ed7953\"],[0.7777777777777778,\"#fb9f3a\"],[0.8888888888888888,\"#fdca26\"],[1.0,\"#f0f921\"]]}],\"surface\":[{\"type\":\"surface\",\"colorbar\":{\"outlinewidth\":0,\"ticks\":\"\"},\"colorscale\":[[0.0,\"#0d0887\"],[0.1111111111111111,\"#46039f\"],[0.2222222222222222,\"#7201a8\"],[0.3333333333333333,\"#9c179e\"],[0.4444444444444444,\"#bd3786\"],[0.5555555555555556,\"#d8576b\"],[0.6666666666666666,\"#ed7953\"],[0.7777777777777778,\"#fb9f3a\"],[0.8888888888888888,\"#fdca26\"],[1.0,\"#f0f921\"]]}],\"mesh3d\":[{\"type\":\"mesh3d\",\"colorbar\":{\"outlinewidth\":0,\"ticks\":\"\"}}],\"scatter\":[{\"fillpattern\":{\"fillmode\":\"overlay\",\"size\":10,\"solidity\":0.2},\"type\":\"scatter\"}],\"parcoords\":[{\"type\":\"parcoords\",\"line\":{\"colorbar\":{\"outlinewidth\":0,\"ticks\":\"\"}}}],\"scatterpolargl\":[{\"type\":\"scatterpolargl\",\"marker\":{\"colorbar\":{\"outlinewidth\":0,\"ticks\":\"\"}}}],\"bar\":[{\"error_x\":{\"color\":\"#2a3f5f\"},\"error_y\":{\"color\":\"#2a3f5f\"},\"marker\":{\"line\":{\"color\":\"#E5ECF6\",\"width\":0.5},\"pattern\":{\"fillmode\":\"overlay\",\"size\":10,\"solidity\":0.2}},\"type\":\"bar\"}],\"scattergeo\":[{\"type\":\"scattergeo\",\"marker\":{\"colorbar\":{\"outlinewidth\":0,\"ticks\":\"\"}}}],\"scatterpolar\":[{\"type\":\"scatterpolar\",\"marker\":{\"colorbar\":{\"outlinewidth\":0,\"ticks\":\"\"}}}],\"histogram\":[{\"marker\":{\"pattern\":{\"fillmode\":\"overlay\",\"size\":10,\"solidity\":0.2}},\"type\":\"histogram\"}],\"scattergl\":[{\"type\":\"scattergl\",\"marker\":{\"colorbar\":{\"outlinewidth\":0,\"ticks\":\"\"}}}],\"scatter3d\":[{\"type\":\"scatter3d\",\"line\":{\"colorbar\":{\"outlinewidth\":0,\"ticks\":\"\"}},\"marker\":{\"colorbar\":{\"outlinewidth\":0,\"ticks\":\"\"}}}],\"scattermapbox\":[{\"type\":\"scattermapbox\",\"marker\":{\"colorbar\":{\"outlinewidth\":0,\"ticks\":\"\"}}}],\"scatterternary\":[{\"type\":\"scatterternary\",\"marker\":{\"colorbar\":{\"outlinewidth\":0,\"ticks\":\"\"}}}],\"scattercarpet\":[{\"type\":\"scattercarpet\",\"marker\":{\"colorbar\":{\"outlinewidth\":0,\"ticks\":\"\"}}}],\"carpet\":[{\"aaxis\":{\"endlinecolor\":\"#2a3f5f\",\"gridcolor\":\"white\",\"linecolor\":\"white\",\"minorgridcolor\":\"white\",\"startlinecolor\":\"#2a3f5f\"},\"baxis\":{\"endlinecolor\":\"#2a3f5f\",\"gridcolor\":\"white\",\"linecolor\":\"white\",\"minorgridcolor\":\"white\",\"startlinecolor\":\"#2a3f5f\"},\"type\":\"carpet\"}],\"table\":[{\"cells\":{\"fill\":{\"color\":\"#EBF0F8\"},\"line\":{\"color\":\"white\"}},\"header\":{\"fill\":{\"color\":\"#C8D4E3\"},\"line\":{\"color\":\"white\"}},\"type\":\"table\"}],\"barpolar\":[{\"marker\":{\"line\":{\"color\":\"#E5ECF6\",\"width\":0.5},\"pattern\":{\"fillmode\":\"overlay\",\"size\":10,\"solidity\":0.2}},\"type\":\"barpolar\"}],\"pie\":[{\"automargin\":true,\"type\":\"pie\"}]},\"layout\":{\"autotypenumbers\":\"strict\",\"colorway\":[\"#636efa\",\"#EF553B\",\"#00cc96\",\"#ab63fa\",\"#FFA15A\",\"#19d3f3\",\"#FF6692\",\"#B6E880\",\"#FF97FF\",\"#FECB52\"],\"font\":{\"color\":\"#2a3f5f\"},\"hovermode\":\"closest\",\"hoverlabel\":{\"align\":\"left\"},\"paper_bgcolor\":\"white\",\"plot_bgcolor\":\"#E5ECF6\",\"polar\":{\"bgcolor\":\"#E5ECF6\",\"angularaxis\":{\"gridcolor\":\"white\",\"linecolor\":\"white\",\"ticks\":\"\"},\"radialaxis\":{\"gridcolor\":\"white\",\"linecolor\":\"white\",\"ticks\":\"\"}},\"ternary\":{\"bgcolor\":\"#E5ECF6\",\"aaxis\":{\"gridcolor\":\"white\",\"linecolor\":\"white\",\"ticks\":\"\"},\"baxis\":{\"gridcolor\":\"white\",\"linecolor\":\"white\",\"ticks\":\"\"},\"caxis\":{\"gridcolor\":\"white\",\"linecolor\":\"white\",\"ticks\":\"\"}},\"coloraxis\":{\"colorbar\":{\"outlinewidth\":0,\"ticks\":\"\"}},\"colorscale\":{\"sequential\":[[0.0,\"#0d0887\"],[0.1111111111111111,\"#46039f\"],[0.2222222222222222,\"#7201a8\"],[0.3333333333333333,\"#9c179e\"],[0.4444444444444444,\"#bd3786\"],[0.5555555555555556,\"#d8576b\"],[0.6666666666666666,\"#ed7953\"],[0.7777777777777778,\"#fb9f3a\"],[0.8888888888888888,\"#fdca26\"],[1.0,\"#f0f921\"]],\"sequentialminus\":[[0.0,\"#0d0887\"],[0.1111111111111111,\"#46039f\"],[0.2222222222222222,\"#7201a8\"],[0.3333333333333333,\"#9c179e\"],[0.4444444444444444,\"#bd3786\"],[0.5555555555555556,\"#d8576b\"],[0.6666666666666666,\"#ed7953\"],[0.7777777777777778,\"#fb9f3a\"],[0.8888888888888888,\"#fdca26\"],[1.0,\"#f0f921\"]],\"diverging\":[[0,\"#8e0152\"],[0.1,\"#c51b7d\"],[0.2,\"#de77ae\"],[0.3,\"#f1b6da\"],[0.4,\"#fde0ef\"],[0.5,\"#f7f7f7\"],[0.6,\"#e6f5d0\"],[0.7,\"#b8e186\"],[0.8,\"#7fbc41\"],[0.9,\"#4d9221\"],[1,\"#276419\"]]},\"xaxis\":{\"gridcolor\":\"white\",\"linecolor\":\"white\",\"ticks\":\"\",\"title\":{\"standoff\":15},\"zerolinecolor\":\"white\",\"automargin\":true,\"zerolinewidth\":2},\"yaxis\":{\"gridcolor\":\"white\",\"linecolor\":\"white\",\"ticks\":\"\",\"title\":{\"standoff\":15},\"zerolinecolor\":\"white\",\"automargin\":true,\"zerolinewidth\":2},\"scene\":{\"xaxis\":{\"backgroundcolor\":\"#E5ECF6\",\"gridcolor\":\"white\",\"linecolor\":\"white\",\"showbackground\":true,\"ticks\":\"\",\"zerolinecolor\":\"white\",\"gridwidth\":2},\"yaxis\":{\"backgroundcolor\":\"#E5ECF6\",\"gridcolor\":\"white\",\"linecolor\":\"white\",\"showbackground\":true,\"ticks\":\"\",\"zerolinecolor\":\"white\",\"gridwidth\":2},\"zaxis\":{\"backgroundcolor\":\"#E5ECF6\",\"gridcolor\":\"white\",\"linecolor\":\"white\",\"showbackground\":true,\"ticks\":\"\",\"zerolinecolor\":\"white\",\"gridwidth\":2}},\"shapedefaults\":{\"line\":{\"color\":\"#2a3f5f\"}},\"annotationdefaults\":{\"arrowcolor\":\"#2a3f5f\",\"arrowhead\":0,\"arrowwidth\":1},\"geo\":{\"bgcolor\":\"white\",\"landcolor\":\"#E5ECF6\",\"subunitcolor\":\"white\",\"showland\":true,\"showlakes\":true,\"lakecolor\":\"white\"},\"title\":{\"x\":0.05},\"mapbox\":{\"style\":\"light\"}}},\"xaxis\":{\"anchor\":\"y\",\"domain\":[0.0,1.0],\"title\":{\"text\":\"index\"}},\"yaxis\":{\"anchor\":\"x\",\"domain\":[0.0,1.0],\"title\":{\"text\":\"value\"}},\"legend\":{\"title\":{\"text\":\"variable\"},\"tracegroupgap\":0},\"margin\":{\"t\":60}},                        {\"responsive\": true}                    ).then(function(){\n",
       "                            \n",
       "var gd = document.getElementById('a2119ba9-8603-41cb-80df-69ba12d05646');\n",
       "var x = new MutationObserver(function (mutations, observer) {{\n",
       "        var display = window.getComputedStyle(gd).display;\n",
       "        if (!display || display === 'none') {{\n",
       "            console.log([gd, 'removed!']);\n",
       "            Plotly.purge(gd);\n",
       "            observer.disconnect();\n",
       "        }}\n",
       "}});\n",
       "\n",
       "// Listen for the removal of the full notebook cells\n",
       "var notebookContainer = gd.closest('#notebook-container');\n",
       "if (notebookContainer) {{\n",
       "    x.observe(notebookContainer, {childList: true});\n",
       "}}\n",
       "\n",
       "// Listen for the clearing of the current output cell\n",
       "var outputEl = gd.closest('.output');\n",
       "if (outputEl) {{\n",
       "    x.observe(outputEl, {childList: true});\n",
       "}}\n",
       "\n",
       "                        })                };                });            </script>        </div>"
      ]
     },
     "metadata": {},
     "output_type": "display_data"
    }
   ],
   "source": [
    "dir_name = \"long_term_forecast_ETTh1_96_96ETTh1_w751_prollcorr_TimesNet_ETTh1_ftMS_sl96_ll48_pl96_dm16_nh8_el2_dl1_df32_expand2_dc4_fc3_ebtimeF_dtTrue_Exp_0\"\n",
    "root = \"./\"\n",
    "\n",
    "df = pd.read_csv(f\"{os.path.join(root, dir_name)}/preds_vs_trues.csv\")\n",
    "print(max(df[\"cutoff_index\"].unique().tolist()))\n",
    "cutoff_index = 2000\n",
    "df[df[\"cutoff_index\"] == cutoff_index][[\"preds\", \"true\"]].plot()"
   ]
  }
 ],
 "metadata": {
  "kernelspec": {
   "display_name": "master_realm",
   "language": "python",
   "name": "python3"
  },
  "language_info": {
   "codemirror_mode": {
    "name": "ipython",
    "version": 3
   },
   "file_extension": ".py",
   "mimetype": "text/x-python",
   "name": "python",
   "nbconvert_exporter": "python",
   "pygments_lexer": "ipython3",
   "version": "3.12.3"
  }
 },
 "nbformat": 4,
 "nbformat_minor": 5
}
