{
 "cells": [
  {
   "cell_type": "code",
   "execution_count": null,
   "id": "0910727e",
   "metadata": {},
   "outputs": [
    {
     "name": "stdout",
     "output_type": "stream",
     "text": [
      "base_configs_count = 196\n",
      "Number of experiments configurations generated: 9996\n",
      "Expected number of experiments configurations to be generated: 9996\n",
      "Model Vs Pred_Len found: [('ETTh1_96', 7), ('ETTh1_192', 7), ('ETTh1_336', 7), ('ETTh1_720', 7), ('ETTh2_96', 7), ('ETTh2_192', 7), ('ETTh2_336', 7), ('ETTh2_720', 7), ('ETTm1_96', 7), ('ETTm1_192', 7), ('ETTm1_336', 7), ('ETTm1_720', 7), ('ETTm2_96', 7), ('ETTm2_192', 7), ('ETTm2_336', 7), ('ETTm2_720', 7), ('ECL_96', 7), ('ECL_192', 7), ('ECL_336', 7), ('ECL_720', 7), ('Traffic_96', 7), ('Traffic_192', 7), ('Traffic_336', 7), ('Traffic_720', 7), ('Weather_96', 7), ('Weather_192', 7), ('Weather_336', 7), ('Weather_720', 7)]\n",
      "Found: {'ETTh1_96': ['iTransformer', 'TimesNet', 'TimeXer', 'PatchTST', 'Nonstationary_Transformer', 'Crossformer', 'Autoformer'], 'ETTh1_192': ['iTransformer', 'TimesNet', 'TimeXer', 'PatchTST', 'Nonstationary_Transformer', 'Crossformer', 'Autoformer'], 'ETTh1_336': ['iTransformer', 'TimesNet', 'TimeXer', 'PatchTST', 'Nonstationary_Transformer', 'Crossformer', 'Autoformer'], 'ETTh1_720': ['iTransformer', 'TimesNet', 'TimeXer', 'PatchTST', 'Nonstationary_Transformer', 'Crossformer', 'Autoformer'], 'ETTh2_96': ['iTransformer', 'TimesNet', 'TimeXer', 'PatchTST', 'Nonstationary_Transformer', 'Crossformer', 'Autoformer'], 'ETTh2_192': ['iTransformer', 'TimesNet', 'TimeXer', 'PatchTST', 'Nonstationary_Transformer', 'Crossformer', 'Autoformer'], 'ETTh2_336': ['iTransformer', 'TimesNet', 'TimeXer', 'PatchTST', 'Nonstationary_Transformer', 'Crossformer', 'Autoformer'], 'ETTh2_720': ['iTransformer', 'TimesNet', 'TimeXer', 'PatchTST', 'Nonstationary_Transformer', 'Crossformer', 'Autoformer'], 'ETTm1_96': ['iTransformer', 'TimesNet', 'TimeXer', 'PatchTST', 'Nonstationary_Transformer', 'Crossformer', 'Autoformer'], 'ETTm1_192': ['iTransformer', 'TimesNet', 'TimeXer', 'PatchTST', 'Nonstationary_Transformer', 'Crossformer', 'Autoformer'], 'ETTm1_336': ['iTransformer', 'TimesNet', 'TimeXer', 'PatchTST', 'Nonstationary_Transformer', 'Crossformer', 'Autoformer'], 'ETTm1_720': ['iTransformer', 'TimesNet', 'TimeXer', 'PatchTST', 'Nonstationary_Transformer', 'Crossformer', 'Autoformer'], 'ETTm2_96': ['iTransformer', 'TimesNet', 'TimeXer', 'PatchTST', 'Nonstationary_Transformer', 'Crossformer', 'Autoformer'], 'ETTm2_192': ['iTransformer', 'TimesNet', 'TimeXer', 'PatchTST', 'Nonstationary_Transformer', 'Crossformer', 'Autoformer'], 'ETTm2_336': ['iTransformer', 'TimesNet', 'TimeXer', 'PatchTST', 'Nonstationary_Transformer', 'Crossformer', 'Autoformer'], 'ETTm2_720': ['iTransformer', 'TimesNet', 'TimeXer', 'PatchTST', 'Nonstationary_Transformer', 'Crossformer', 'Autoformer'], 'ECL_96': ['iTransformer', 'TimesNet', 'TimeXer', 'PatchTST', 'Nonstationary_Transformer', 'Crossformer', 'Autoformer'], 'ECL_192': ['iTransformer', 'TimesNet', 'TimeXer', 'PatchTST', 'Nonstationary_Transformer', 'Crossformer', 'Autoformer'], 'ECL_336': ['iTransformer', 'TimesNet', 'TimeXer', 'PatchTST', 'Nonstationary_Transformer', 'Crossformer', 'Autoformer'], 'ECL_720': ['iTransformer', 'TimesNet', 'TimeXer', 'PatchTST', 'Nonstationary_Transformer', 'Crossformer', 'Autoformer'], 'Traffic_96': ['iTransformer', 'TimesNet', 'TimeXer', 'PatchTST', 'Nonstationary_Transformer', 'Crossformer', 'Autoformer'], 'Traffic_192': ['iTransformer', 'TimesNet', 'TimeXer', 'PatchTST', 'Nonstationary_Transformer', 'Crossformer', 'Autoformer'], 'Traffic_336': ['iTransformer', 'TimesNet', 'TimeXer', 'PatchTST', 'Nonstationary_Transformer', 'Crossformer', 'Autoformer'], 'Traffic_720': ['iTransformer', 'TimesNet', 'TimeXer', 'PatchTST', 'Nonstationary_Transformer', 'Crossformer', 'Autoformer'], 'Weather_96': ['iTransformer', 'TimesNet', 'TimeXer', 'PatchTST', 'Nonstationary_Transformer', 'Crossformer', 'Autoformer'], 'Weather_192': ['iTransformer', 'TimesNet', 'TimeXer', 'PatchTST', 'Nonstationary_Transformer', 'Crossformer', 'Autoformer'], 'Weather_336': ['iTransformer', 'TimesNet', 'TimeXer', 'PatchTST', 'Nonstationary_Transformer', 'Crossformer', 'Autoformer'], 'Weather_720': ['iTransformer', 'TimesNet', 'TimeXer', 'PatchTST', 'Nonstationary_Transformer', 'Crossformer', 'Autoformer']}\n",
      "Shaped_datasets_count: {'ETTh1': 51, 'ETTh2': 51, 'ETTm1': 51, 'ETTm2': 51, 'ECL': 51, 'Traffic': 51, 'Weather': 51}\n"
     ]
    }
   ],
   "source": [
    "import glob\n",
    "import os\n",
    "from config_utils import *\n",
    "import copy\n",
    "\n",
    "\n",
    "base_configs = load_configs_from_yaml(\"exp_configs.json\")\n",
    "\n",
    "datasets_path_mapping = {\n",
    "    \"ETTh1\" : \"./dataset/ETT-small/ETTh1/\",\n",
    "    \"ETTh2\" : \"./dataset/ETT-small/ETTh2/\",\n",
    "    \"ETTm1\" : \"./dataset/ETT-small/ETTm1/\",\n",
    "    \"ETTm2\" : \"./dataset/ETT-small/ETTm2/\",\n",
    "    \"ECL\": \"./dataset/electricity/ECL/\",\n",
    "    \"Traffic\": \"./dataset/traffic/Traffic/\",\n",
    "    \"Weather\": \"./dataset/weather/Weather/\"\n",
    "}\n",
    "\n",
    "\n",
    "list_of_configs = []\n",
    "list_of_config_hashes = []\n",
    "# Get a list of all CSV files in the specified folder\n",
    "prediction_lengths = [96, 192, 336, 720]\n",
    "models = [\"iTransformer\", \"TimesNet\", \"TimeXer\", \"PatchTST\", \"Nonstationary_Transformer\", \"Crossformer\", \"Autoformer\"]\n",
    "\n",
    "found = {}\n",
    "for dataset_name in datasets_path_mapping.keys():\n",
    "    for prediction_length in prediction_lengths:\n",
    "        found[f\"{dataset_name}_{prediction_length}\"] = []\n",
    "\n",
    "shaped_datasets_count = {dataset : 0 for dataset in datasets_path_mapping.keys()}\n",
    "\n",
    "base_configs_count = 0\n",
    "\n",
    "for model in models:\n",
    "    for pred_len in prediction_lengths:\n",
    "        for dataset_name, dataset_root_path in datasets_path_mapping.items(): # ABLATION FOR BASE DATASETS\n",
    "            csv_files = glob.glob(os.path.join(dataset_root_path, '*.csv'))\n",
    "            for config in base_configs: # SEARCHING MODELS AND PREDICTION LENGTHS IN BASE CONFIGS\n",
    "                if config.model == model and config.forecast.pred_len == pred_len and config.data.name == dataset_name: \n",
    "                    base_configs_count += 1\n",
    "                    found[f\"{dataset_name}_{config.forecast.pred_len}\"] += [config.model]\n",
    "                    shaped_datasets_count[dataset_name] = len(csv_files)\n",
    "                    \n",
    "                    for file_path in csv_files: # ABLATION FOR SHAPED DATASETS\n",
    "                        config_copy = copy.deepcopy(config)\n",
    "                        full_relative_path = dataset_root_path\n",
    "                        file_name = os.path.basename(file_path)\n",
    "                    \n",
    "                        config_copy.data.root_path = full_relative_path\n",
    "                        config_copy.data.data_path = file_name\n",
    "                        config_copy.model_id = f\"{pred_len}_96{file_name}\"\n",
    "\n",
    "                        config_copy.data.features = \"MS\"\n",
    "\n",
    "                        config_hash = compute_config_hash(config_copy) # ensuring non duplicates\n",
    "                        config_copy.experiment_id = config_hash\n",
    "                        if config_hash not in list_of_config_hashes:\n",
    "                            list_of_configs += [config_copy]\n",
    "                            list_of_config_hashes += [config_hash]\n",
    "                \n",
    "print(f\"base_configs_count = {base_configs_count}\")\n",
    "\n",
    "print(f\"Number of experiments configurations generated: {len(list_of_configs)}\")\n",
    "print(f\"Expected number of experiments configurations to be generated: {len(list_of_configs)}\")\n",
    "\n",
    "print(f\"Model Vs Pred_Len found: {[(found_key,len(found_value)) for found_key, found_value in found.items()]}\")\n",
    "print(f\"Found: {found}\")\n",
    "\n",
    "print(f\"Shaped_datasets_count: {shaped_datasets_count}\")\n",
    "\n",
    "save_configs_to_json(list_of_configs, output_file=\"generated_exp_configs.json\")"
   ]
  }
 ],
 "metadata": {
  "kernelspec": {
   "display_name": "master_realm",
   "language": "python",
   "name": "python3"
  },
  "language_info": {
   "codemirror_mode": {
    "name": "ipython",
    "version": 3
   },
   "file_extension": ".py",
   "mimetype": "text/x-python",
   "name": "python",
   "nbconvert_exporter": "python",
   "pygments_lexer": "ipython3",
   "version": "3.12.3"
  }
 },
 "nbformat": 4,
 "nbformat_minor": 5
}
